{
 "cells": [
  {
   "cell_type": "markdown",
   "metadata": {},
   "source": [
    "<p style=\"font-size:36px;text-align:center\"> <b>Personalized cancer diagnosis</b> </p>"
   ]
  },
  {
   "cell_type": "markdown",
   "metadata": {},
   "source": [
    "<h1>1. Business Problem</h1>"
   ]
  },
  {
   "cell_type": "markdown",
   "metadata": {},
   "source": [
    "<h2>1.1. Description</h2>"
   ]
  },
  {
   "cell_type": "markdown",
   "metadata": {},
   "source": [
    "<p> Source: https://www.kaggle.com/c/msk-redefining-cancer-treatment/ </p>\n",
    "<p> Data: Memorial Sloan Kettering Cancer Center (MSKCC)</p>\n",
    "<p> Download training_variants.zip and training_text.zip from Kaggle.</p> \n",
    "\n",
    "<h6> Context:</h6>\n",
    "<p> Source: https://www.kaggle.com/c/msk-redefining-cancer-treatment/discussion/35336#198462</p>\n",
    "\n",
    "<h6> Problem statement : </h6>\n",
    "<p> Classify the given genetic variations/mutations based on evidence from text-based clinical literature. </p>"
   ]
  },
  {
   "cell_type": "markdown",
   "metadata": {},
   "source": [
    "<h2>1.2. Source/Useful Links</h2>"
   ]
  },
  {
   "cell_type": "markdown",
   "metadata": {},
   "source": [
    " Some articles and reference blogs about the problem statement"
   ]
  },
  {
   "cell_type": "markdown",
   "metadata": {},
   "source": [
    "1. https://www.forbes.com/sites/matthewherper/2017/06/03/a-new-cancer-drug-helped-almost-everyone-who-took-it-almost-heres-what-it-teaches-us/#2a44ee2f6b25\n",
    "2. https://www.youtube.com/watch?v=UwbuW7oK8rk \n",
    "3. https://www.youtube.com/watch?v=qxXRKVompI8"
   ]
  },
  {
   "cell_type": "markdown",
   "metadata": {},
   "source": [
    "<h2>1.3. Real-world/Business objectives and constraints.</h2>"
   ]
  },
  {
   "cell_type": "markdown",
   "metadata": {},
   "source": [
    "* No low-latency requirement.\n",
    "* Interpretability is important.\n",
    "* Errors can be very costly.\n",
    "* Probability of a data-point belonging to each class is needed."
   ]
  },
  {
   "cell_type": "markdown",
   "metadata": {},
   "source": [
    "<h1>2. Machine Learning Problem Formulation</h1>"
   ]
  },
  {
   "cell_type": "markdown",
   "metadata": {},
   "source": [
    "<h2>2.1. Data</h2>"
   ]
  },
  {
   "cell_type": "markdown",
   "metadata": {},
   "source": [
    "<h3>2.1.1. Data Overview</h3>"
   ]
  },
  {
   "cell_type": "markdown",
   "metadata": {},
   "source": [
    "- Source: https://www.kaggle.com/c/msk-redefining-cancer-treatment/data\n",
    "- We have two data files: one conatins the information about the genetic mutations and the other contains the clinical evidence (text) that  human experts/pathologists use to classify the genetic mutations. \n",
    "- Both these data files are have a common column called ID\n",
    "- <p> \n",
    "    Data file's information:\n",
    "    <ul> \n",
    "        <li>\n",
    "        training_variants (ID , Gene, Variations, Class)\n",
    "        </li>\n",
    "        <li>\n",
    "        training_text (ID, Text)\n",
    "        </li>\n",
    "    </ul>\n",
    "</p>"
   ]
  },
  {
   "cell_type": "markdown",
   "metadata": {},
   "source": [
    "<h3>2.1.2. Example Data Point</h3>"
   ]
  },
  {
   "cell_type": "markdown",
   "metadata": {},
   "source": [
    "<h6>training_variants</h6>\n",
    "<hr>\n",
    "ID,Gene,Variation,Class<br>\n",
    "0,FAM58A,Truncating Mutations,1 <br>\n",
    "1,CBL,W802*,2 <br>\n",
    "2,CBL,Q249E,2 <br>\n",
    "...\n",
    "\n",
    "<h6> training_text</h6>\n",
    "<hr>\n",
    "ID,Text <br>\n",
    "0||Cyclin-dependent kinases (CDKs) regulate a variety of fundamental cellular processes. CDK10 stands out as one of the last orphan CDKs for which no activating cyclin has been identified and no kinase activity revealed. Previous work has shown that CDK10 silencing increases ETS2 (v-ets erythroblastosis virus E26 oncogene homolog 2)-driven activation of the MAPK pathway, which confers tamoxifen resistance to breast cancer cells. The precise mechanisms by which CDK10 modulates ETS2 activity, and more generally the functions of CDK10, remain elusive. Here we demonstrate that CDK10 is a cyclin-dependent kinase by identifying cyclin M as an activating cyclin. Cyclin M, an orphan cyclin, is the product of FAM58A, whose mutations cause STAR syndrome, a human developmental anomaly whose features include toe syndactyly, telecanthus, and anogenital and renal malformations. We show that STAR syndrome-associated cyclin M mutants are unable to interact with CDK10. Cyclin M silencing phenocopies CDK10 silencing in increasing c-Raf and in conferring tamoxifen resistance to breast cancer cells. CDK10/cyclin M phosphorylates ETS2 in vitro, and in cells it positively controls ETS2 degradation by the proteasome. ETS2 protein levels are increased in cells derived from a STAR patient, and this increase is attributable to decreased cyclin M levels. Altogether, our results reveal an additional regulatory mechanism for ETS2, which plays key roles in cancer and development. They also shed light on the molecular mechanisms underlying STAR syndrome.Cyclin-dependent kinases (CDKs) play a pivotal role in the control of a number of fundamental cellular processes (1). The human genome contains 21 genes encoding proteins that can be considered as members of the CDK family owing to their sequence similarity with bona fide CDKs, those known to be activated by cyclins (2). Although discovered almost 20 y ago (3, 4), CDK10 remains one of the two CDKs without an identified cyclin partner. This knowledge gap has largely impeded the exploration of its biological functions. CDK10 can act as a positive cell cycle regulator in some cells (5, 6) or as a tumor suppressor in others (7, 8). CDK10 interacts with the ETS2 (v-ets erythroblastosis virus E26 oncogene homolog 2) transcription factor and inhibits its transcriptional activity through an unknown mechanism (9). CDK10 knockdown derepresses ETS2, which increases the expression of the c-Raf protein kinase, activates the MAPK pathway, and induces resistance of MCF7 cells to tamoxifen (6). ... "
   ]
  },
  {
   "cell_type": "markdown",
   "metadata": {},
   "source": [
    "<h2>2.2. Mapping the real-world problem to an ML problem</h2>"
   ]
  },
  {
   "cell_type": "markdown",
   "metadata": {},
   "source": [
    "<h3>2.2.1. Type of Machine Learning Problem</h3>"
   ]
  },
  {
   "cell_type": "markdown",
   "metadata": {},
   "source": [
    "<p>\n",
    "    \n",
    "            There are nine different classes a genetic mutation can be classified into => Multi class classification problem\n",
    "   \n",
    "      \n",
    "    \n",
    "</p>"
   ]
  },
  {
   "cell_type": "markdown",
   "metadata": {},
   "source": [
    "<h3>2.2.2. Performance Metric</h3>"
   ]
  },
  {
   "cell_type": "markdown",
   "metadata": {},
   "source": [
    "Source: https://www.kaggle.com/c/msk-redefining-cancer-treatment#evaluation\n",
    "\n",
    "Metric(s): \n",
    "* Multi class log-loss \n",
    "* Confusion matrix \n"
   ]
  },
  {
   "cell_type": "markdown",
   "metadata": {},
   "source": [
    "<h3>2.2.3. Machine Learing Objectives and Constraints</h3>"
   ]
  },
  {
   "cell_type": "markdown",
   "metadata": {},
   "source": [
    "<p> Objective: Predict the probability of each data-point belonging to each of the nine classes.\n",
    "</p>\n",
    "<p> Constraints:\n",
    "</p>\n",
    "* Interpretability\n",
    "* Class probabilities are needed.\n",
    "* Penalize the errors in class probabilites => Metric is Log-loss.\n",
    "* No Latency constraints."
   ]
  },
  {
   "cell_type": "markdown",
   "metadata": {},
   "source": [
    "<h2>2.3. Train, CV and Test Datasets</h2>"
   ]
  },
  {
   "cell_type": "markdown",
   "metadata": {},
   "source": [
    " Split the dataset randomly into three parts train, cross validation and test with 64%,16%, 20% of data respectively"
   ]
  },
  {
   "cell_type": "markdown",
   "metadata": {},
   "source": [
    "<h1>3. Exploratory Data Analysis</h1>"
   ]
  },
  {
   "cell_type": "code",
   "execution_count": 1,
   "metadata": {},
   "outputs": [],
   "source": [
    "import pandas as pd\n",
    "import matplotlib.pyplot as plt\n",
    "import re\n",
    "import time\n",
    "import warnings\n",
    "import numpy as np\n",
    "from nltk.corpus import stopwords\n",
    "from sklearn.decomposition import TruncatedSVD\n",
    "from sklearn.preprocessing import normalize\n",
    "from sklearn.feature_extraction.text import CountVectorizer\n",
    "from sklearn.manifold import TSNE\n",
    "import seaborn as sns\n",
    "from sklearn.neighbors import KNeighborsClassifier\n",
    "from sklearn.metrics import confusion_matrix\n",
    "from sklearn.metrics.classification import accuracy_score, log_loss\n",
    "from sklearn.feature_extraction.text import TfidfVectorizer\n",
    "from sklearn.linear_model import SGDClassifier\n",
    "from imblearn.over_sampling import SMOTE\n",
    "from collections import Counter\n",
    "from scipy.sparse import hstack\n",
    "from sklearn.multiclass import OneVsRestClassifier\n",
    "from sklearn.svm import SVC\n",
    "from sklearn.model_selection import StratifiedKFold\n",
    "from collections import Counter, defaultdict\n",
    "from sklearn.calibration import CalibratedClassifierCV\n",
    "from sklearn.naive_bayes import MultinomialNB\n",
    "from sklearn.naive_bayes import GaussianNB\n",
    "from sklearn.model_selection import train_test_split\n",
    "from sklearn.model_selection import GridSearchCV\n",
    "import math\n",
    "from sklearn.metrics import normalized_mutual_info_score\n",
    "\n",
    "from sklearn.ensemble import RandomForestClassifier\n",
    "\n",
    "warnings.filterwarnings(\"ignore\")\n",
    "\n",
    "from mlxtend.classifier import StackingClassifier\n",
    "\n",
    "from sklearn import model_selection\n",
    "from sklearn.linear_model import LogisticRegression\n"
   ]
  },
  {
   "cell_type": "markdown",
   "metadata": {},
   "source": [
    "<h2>3.1. Reading Data</h2>"
   ]
  },
  {
   "cell_type": "markdown",
   "metadata": {},
   "source": [
    "<h3>3.1.1. Reading Gene and Variation Data</h3>"
   ]
  },
  {
   "cell_type": "code",
   "execution_count": 2,
   "metadata": {},
   "outputs": [
    {
     "name": "stdout",
     "output_type": "stream",
     "text": [
      "Number of data points :  3321\n",
      "Number of features :  4\n",
      "Features :  ['ID' 'Gene' 'Variation' 'Class']\n"
     ]
    },
    {
     "data": {
      "text/html": [
       "<div>\n",
       "<style scoped>\n",
       "    .dataframe tbody tr th:only-of-type {\n",
       "        vertical-align: middle;\n",
       "    }\n",
       "\n",
       "    .dataframe tbody tr th {\n",
       "        vertical-align: top;\n",
       "    }\n",
       "\n",
       "    .dataframe thead th {\n",
       "        text-align: right;\n",
       "    }\n",
       "</style>\n",
       "<table border=\"1\" class=\"dataframe\">\n",
       "  <thead>\n",
       "    <tr style=\"text-align: right;\">\n",
       "      <th></th>\n",
       "      <th>ID</th>\n",
       "      <th>Gene</th>\n",
       "      <th>Variation</th>\n",
       "      <th>Class</th>\n",
       "    </tr>\n",
       "  </thead>\n",
       "  <tbody>\n",
       "    <tr>\n",
       "      <th>0</th>\n",
       "      <td>0</td>\n",
       "      <td>FAM58A</td>\n",
       "      <td>Truncating Mutations</td>\n",
       "      <td>1</td>\n",
       "    </tr>\n",
       "    <tr>\n",
       "      <th>1</th>\n",
       "      <td>1</td>\n",
       "      <td>CBL</td>\n",
       "      <td>W802*</td>\n",
       "      <td>2</td>\n",
       "    </tr>\n",
       "    <tr>\n",
       "      <th>2</th>\n",
       "      <td>2</td>\n",
       "      <td>CBL</td>\n",
       "      <td>Q249E</td>\n",
       "      <td>2</td>\n",
       "    </tr>\n",
       "    <tr>\n",
       "      <th>3</th>\n",
       "      <td>3</td>\n",
       "      <td>CBL</td>\n",
       "      <td>N454D</td>\n",
       "      <td>3</td>\n",
       "    </tr>\n",
       "    <tr>\n",
       "      <th>4</th>\n",
       "      <td>4</td>\n",
       "      <td>CBL</td>\n",
       "      <td>L399V</td>\n",
       "      <td>4</td>\n",
       "    </tr>\n",
       "  </tbody>\n",
       "</table>\n",
       "</div>"
      ],
      "text/plain": [
       "   ID    Gene             Variation  Class\n",
       "0   0  FAM58A  Truncating Mutations      1\n",
       "1   1     CBL                 W802*      2\n",
       "2   2     CBL                 Q249E      2\n",
       "3   3     CBL                 N454D      3\n",
       "4   4     CBL                 L399V      4"
      ]
     },
     "execution_count": 2,
     "metadata": {},
     "output_type": "execute_result"
    }
   ],
   "source": [
    "data = pd.read_csv('training/training_variants')\n",
    "print('Number of data points : ', data.shape[0])\n",
    "print('Number of features : ', data.shape[1])\n",
    "print('Features : ', data.columns.values)\n",
    "data.head()"
   ]
  },
  {
   "cell_type": "markdown",
   "metadata": {},
   "source": [
    "<p>\n",
    "    training/training_variants is a comma separated file containing the description of the genetic mutations used for training. <br>\n",
    "    Fields are \n",
    "    <ul>\n",
    "        <li><b>ID : </b>the id of the row used to link the mutation to the clinical evidence</li>\n",
    "        <li><b>Gene : </b>the gene where this genetic mutation is located </li>\n",
    "        <li><b>Variation : </b>the aminoacid change for this mutations </li>\n",
    "        <li><b>Class :</b> 1-9 the class this genetic mutation has been classified on</li>\n",
    "    </ul>"
   ]
  },
  {
   "cell_type": "markdown",
   "metadata": {},
   "source": [
    "<h3>3.1.2. Reading Text Data</h3>"
   ]
  },
  {
   "cell_type": "code",
   "execution_count": 3,
   "metadata": {},
   "outputs": [
    {
     "name": "stdout",
     "output_type": "stream",
     "text": [
      "Number of data points :  3321\n",
      "Number of features :  2\n",
      "Features :  ['ID' 'TEXT']\n"
     ]
    },
    {
     "data": {
      "text/html": [
       "<div>\n",
       "<style scoped>\n",
       "    .dataframe tbody tr th:only-of-type {\n",
       "        vertical-align: middle;\n",
       "    }\n",
       "\n",
       "    .dataframe tbody tr th {\n",
       "        vertical-align: top;\n",
       "    }\n",
       "\n",
       "    .dataframe thead th {\n",
       "        text-align: right;\n",
       "    }\n",
       "</style>\n",
       "<table border=\"1\" class=\"dataframe\">\n",
       "  <thead>\n",
       "    <tr style=\"text-align: right;\">\n",
       "      <th></th>\n",
       "      <th>ID</th>\n",
       "      <th>TEXT</th>\n",
       "    </tr>\n",
       "  </thead>\n",
       "  <tbody>\n",
       "    <tr>\n",
       "      <th>0</th>\n",
       "      <td>0</td>\n",
       "      <td>Cyclin-dependent kinases (CDKs) regulate a var...</td>\n",
       "    </tr>\n",
       "    <tr>\n",
       "      <th>1</th>\n",
       "      <td>1</td>\n",
       "      <td>Abstract Background  Non-small cell lung canc...</td>\n",
       "    </tr>\n",
       "    <tr>\n",
       "      <th>2</th>\n",
       "      <td>2</td>\n",
       "      <td>Abstract Background  Non-small cell lung canc...</td>\n",
       "    </tr>\n",
       "    <tr>\n",
       "      <th>3</th>\n",
       "      <td>3</td>\n",
       "      <td>Recent evidence has demonstrated that acquired...</td>\n",
       "    </tr>\n",
       "    <tr>\n",
       "      <th>4</th>\n",
       "      <td>4</td>\n",
       "      <td>Oncogenic mutations in the monomeric Casitas B...</td>\n",
       "    </tr>\n",
       "  </tbody>\n",
       "</table>\n",
       "</div>"
      ],
      "text/plain": [
       "   ID                                               TEXT\n",
       "0   0  Cyclin-dependent kinases (CDKs) regulate a var...\n",
       "1   1   Abstract Background  Non-small cell lung canc...\n",
       "2   2   Abstract Background  Non-small cell lung canc...\n",
       "3   3  Recent evidence has demonstrated that acquired...\n",
       "4   4  Oncogenic mutations in the monomeric Casitas B..."
      ]
     },
     "execution_count": 3,
     "metadata": {},
     "output_type": "execute_result"
    }
   ],
   "source": [
    "# note the seprator in this file\n",
    "data_text =pd.read_csv(\"training/training_text\",sep=\"\\|\\|\",engine=\"python\",names=[\"ID\",\"TEXT\"],skiprows=1)\n",
    "print('Number of data points : ', data_text.shape[0])\n",
    "print('Number of features : ', data_text.shape[1])\n",
    "print('Features : ', data_text.columns.values)\n",
    "data_text.head()"
   ]
  },
  {
   "cell_type": "markdown",
   "metadata": {},
   "source": [
    "<h3>3.1.3. Preprocessing of text</h3>"
   ]
  },
  {
   "cell_type": "code",
   "execution_count": 4,
   "metadata": {},
   "outputs": [],
   "source": [
    "# loading stop words from nltk library\n",
    "stop_words = set(stopwords.words('english'))\n",
    "\n",
    "\n",
    "def nlp_preprocessing(total_text, index, column):\n",
    "    if type(total_text) is not int:\n",
    "        string = \"\"\n",
    "        # replace every special char with space\n",
    "        total_text = re.sub('[^a-zA-Z0-9\\n]', ' ', total_text)\n",
    "        # replace multiple spaces with single space\n",
    "        total_text = re.sub('\\s+',' ', total_text)\n",
    "        # converting all the chars into lower-case.\n",
    "        total_text = total_text.lower()\n",
    "        \n",
    "        for word in total_text.split():\n",
    "        # if the word is a not a stop word then retain that word from the data\n",
    "            if not word in stop_words:\n",
    "                string += word + \" \"\n",
    "        \n",
    "        data_text[column][index] = string"
   ]
  },
  {
   "cell_type": "code",
   "execution_count": 5,
   "metadata": {},
   "outputs": [
    {
     "name": "stdout",
     "output_type": "stream",
     "text": [
      "there is no text description for id: 1109\n",
      "there is no text description for id: 1277\n",
      "there is no text description for id: 1407\n",
      "there is no text description for id: 1639\n",
      "there is no text description for id: 2755\n",
      "Time took for preprocessing the text : 253.7495785 seconds\n"
     ]
    }
   ],
   "source": [
    "#text processing stage.\n",
    "start_time = time.clock()\n",
    "for index, row in data_text.iterrows():\n",
    "    if type(row['TEXT']) is str:\n",
    "        nlp_preprocessing(row['TEXT'], index, 'TEXT')\n",
    "    else:\n",
    "        print(\"there is no text description for id:\",index)\n",
    "print('Time took for preprocessing the text :',time.clock() - start_time, \"seconds\")"
   ]
  },
  {
   "cell_type": "code",
   "execution_count": 6,
   "metadata": {},
   "outputs": [
    {
     "data": {
      "text/html": [
       "<div>\n",
       "<style scoped>\n",
       "    .dataframe tbody tr th:only-of-type {\n",
       "        vertical-align: middle;\n",
       "    }\n",
       "\n",
       "    .dataframe tbody tr th {\n",
       "        vertical-align: top;\n",
       "    }\n",
       "\n",
       "    .dataframe thead th {\n",
       "        text-align: right;\n",
       "    }\n",
       "</style>\n",
       "<table border=\"1\" class=\"dataframe\">\n",
       "  <thead>\n",
       "    <tr style=\"text-align: right;\">\n",
       "      <th></th>\n",
       "      <th>ID</th>\n",
       "      <th>Gene</th>\n",
       "      <th>Variation</th>\n",
       "      <th>Class</th>\n",
       "      <th>TEXT</th>\n",
       "    </tr>\n",
       "  </thead>\n",
       "  <tbody>\n",
       "    <tr>\n",
       "      <th>0</th>\n",
       "      <td>0</td>\n",
       "      <td>FAM58A</td>\n",
       "      <td>Truncating Mutations</td>\n",
       "      <td>1</td>\n",
       "      <td>cyclin dependent kinases cdks regulate variety...</td>\n",
       "    </tr>\n",
       "    <tr>\n",
       "      <th>1</th>\n",
       "      <td>1</td>\n",
       "      <td>CBL</td>\n",
       "      <td>W802*</td>\n",
       "      <td>2</td>\n",
       "      <td>abstract background non small cell lung cancer...</td>\n",
       "    </tr>\n",
       "    <tr>\n",
       "      <th>2</th>\n",
       "      <td>2</td>\n",
       "      <td>CBL</td>\n",
       "      <td>Q249E</td>\n",
       "      <td>2</td>\n",
       "      <td>abstract background non small cell lung cancer...</td>\n",
       "    </tr>\n",
       "    <tr>\n",
       "      <th>3</th>\n",
       "      <td>3</td>\n",
       "      <td>CBL</td>\n",
       "      <td>N454D</td>\n",
       "      <td>3</td>\n",
       "      <td>recent evidence demonstrated acquired uniparen...</td>\n",
       "    </tr>\n",
       "    <tr>\n",
       "      <th>4</th>\n",
       "      <td>4</td>\n",
       "      <td>CBL</td>\n",
       "      <td>L399V</td>\n",
       "      <td>4</td>\n",
       "      <td>oncogenic mutations monomeric casitas b lineag...</td>\n",
       "    </tr>\n",
       "  </tbody>\n",
       "</table>\n",
       "</div>"
      ],
      "text/plain": [
       "   ID    Gene             Variation  Class  \\\n",
       "0   0  FAM58A  Truncating Mutations      1   \n",
       "1   1     CBL                 W802*      2   \n",
       "2   2     CBL                 Q249E      2   \n",
       "3   3     CBL                 N454D      3   \n",
       "4   4     CBL                 L399V      4   \n",
       "\n",
       "                                                TEXT  \n",
       "0  cyclin dependent kinases cdks regulate variety...  \n",
       "1  abstract background non small cell lung cancer...  \n",
       "2  abstract background non small cell lung cancer...  \n",
       "3  recent evidence demonstrated acquired uniparen...  \n",
       "4  oncogenic mutations monomeric casitas b lineag...  "
      ]
     },
     "execution_count": 6,
     "metadata": {},
     "output_type": "execute_result"
    }
   ],
   "source": [
    "#merging both gene_variations and text data based on ID\n",
    "result = pd.merge(data, data_text,on='ID', how='left')\n",
    "result.head()"
   ]
  },
  {
   "cell_type": "code",
   "execution_count": 7,
   "metadata": {},
   "outputs": [
    {
     "data": {
      "text/html": [
       "<div>\n",
       "<style scoped>\n",
       "    .dataframe tbody tr th:only-of-type {\n",
       "        vertical-align: middle;\n",
       "    }\n",
       "\n",
       "    .dataframe tbody tr th {\n",
       "        vertical-align: top;\n",
       "    }\n",
       "\n",
       "    .dataframe thead th {\n",
       "        text-align: right;\n",
       "    }\n",
       "</style>\n",
       "<table border=\"1\" class=\"dataframe\">\n",
       "  <thead>\n",
       "    <tr style=\"text-align: right;\">\n",
       "      <th></th>\n",
       "      <th>ID</th>\n",
       "      <th>Gene</th>\n",
       "      <th>Variation</th>\n",
       "      <th>Class</th>\n",
       "      <th>TEXT</th>\n",
       "    </tr>\n",
       "  </thead>\n",
       "  <tbody>\n",
       "    <tr>\n",
       "      <th>1109</th>\n",
       "      <td>1109</td>\n",
       "      <td>FANCA</td>\n",
       "      <td>S1088F</td>\n",
       "      <td>1</td>\n",
       "      <td>NaN</td>\n",
       "    </tr>\n",
       "    <tr>\n",
       "      <th>1277</th>\n",
       "      <td>1277</td>\n",
       "      <td>ARID5B</td>\n",
       "      <td>Truncating Mutations</td>\n",
       "      <td>1</td>\n",
       "      <td>NaN</td>\n",
       "    </tr>\n",
       "    <tr>\n",
       "      <th>1407</th>\n",
       "      <td>1407</td>\n",
       "      <td>FGFR3</td>\n",
       "      <td>K508M</td>\n",
       "      <td>6</td>\n",
       "      <td>NaN</td>\n",
       "    </tr>\n",
       "    <tr>\n",
       "      <th>1639</th>\n",
       "      <td>1639</td>\n",
       "      <td>FLT1</td>\n",
       "      <td>Amplification</td>\n",
       "      <td>6</td>\n",
       "      <td>NaN</td>\n",
       "    </tr>\n",
       "    <tr>\n",
       "      <th>2755</th>\n",
       "      <td>2755</td>\n",
       "      <td>BRAF</td>\n",
       "      <td>G596C</td>\n",
       "      <td>7</td>\n",
       "      <td>NaN</td>\n",
       "    </tr>\n",
       "  </tbody>\n",
       "</table>\n",
       "</div>"
      ],
      "text/plain": [
       "        ID    Gene             Variation  Class TEXT\n",
       "1109  1109   FANCA                S1088F      1  NaN\n",
       "1277  1277  ARID5B  Truncating Mutations      1  NaN\n",
       "1407  1407   FGFR3                 K508M      6  NaN\n",
       "1639  1639    FLT1         Amplification      6  NaN\n",
       "2755  2755    BRAF                 G596C      7  NaN"
      ]
     },
     "execution_count": 7,
     "metadata": {},
     "output_type": "execute_result"
    }
   ],
   "source": [
    "result[result.isnull().any(axis=1)]"
   ]
  },
  {
   "cell_type": "code",
   "execution_count": 8,
   "metadata": {},
   "outputs": [],
   "source": [
    "result.loc[result['TEXT'].isnull(),'TEXT'] = result['Gene'] +' '+result['Variation']"
   ]
  },
  {
   "cell_type": "code",
   "execution_count": 9,
   "metadata": {},
   "outputs": [
    {
     "data": {
      "text/html": [
       "<div>\n",
       "<style scoped>\n",
       "    .dataframe tbody tr th:only-of-type {\n",
       "        vertical-align: middle;\n",
       "    }\n",
       "\n",
       "    .dataframe tbody tr th {\n",
       "        vertical-align: top;\n",
       "    }\n",
       "\n",
       "    .dataframe thead th {\n",
       "        text-align: right;\n",
       "    }\n",
       "</style>\n",
       "<table border=\"1\" class=\"dataframe\">\n",
       "  <thead>\n",
       "    <tr style=\"text-align: right;\">\n",
       "      <th></th>\n",
       "      <th>ID</th>\n",
       "      <th>Gene</th>\n",
       "      <th>Variation</th>\n",
       "      <th>Class</th>\n",
       "      <th>TEXT</th>\n",
       "    </tr>\n",
       "  </thead>\n",
       "  <tbody>\n",
       "    <tr>\n",
       "      <th>1277</th>\n",
       "      <td>1277</td>\n",
       "      <td>ARID5B</td>\n",
       "      <td>Truncating Mutations</td>\n",
       "      <td>1</td>\n",
       "      <td>ARID5B Truncating Mutations</td>\n",
       "    </tr>\n",
       "  </tbody>\n",
       "</table>\n",
       "</div>"
      ],
      "text/plain": [
       "        ID    Gene             Variation  Class                         TEXT\n",
       "1277  1277  ARID5B  Truncating Mutations      1  ARID5B Truncating Mutations"
      ]
     },
     "execution_count": 9,
     "metadata": {},
     "output_type": "execute_result"
    }
   ],
   "source": [
    "result[result['ID']==1277]"
   ]
  },
  {
   "cell_type": "markdown",
   "metadata": {},
   "source": [
    "<h2>Feature Engineering</h2>"
   ]
  },
  {
   "cell_type": "code",
   "execution_count": 10,
   "metadata": {},
   "outputs": [
    {
     "data": {
      "text/html": [
       "<div>\n",
       "<style scoped>\n",
       "    .dataframe tbody tr th:only-of-type {\n",
       "        vertical-align: middle;\n",
       "    }\n",
       "\n",
       "    .dataframe tbody tr th {\n",
       "        vertical-align: top;\n",
       "    }\n",
       "\n",
       "    .dataframe thead th {\n",
       "        text-align: right;\n",
       "    }\n",
       "</style>\n",
       "<table border=\"1\" class=\"dataframe\">\n",
       "  <thead>\n",
       "    <tr style=\"text-align: right;\">\n",
       "      <th></th>\n",
       "      <th>ID</th>\n",
       "      <th>Gene</th>\n",
       "      <th>Variation</th>\n",
       "      <th>Class</th>\n",
       "      <th>TEXT</th>\n",
       "      <th>Gene_and_Variation</th>\n",
       "    </tr>\n",
       "  </thead>\n",
       "  <tbody>\n",
       "    <tr>\n",
       "      <th>0</th>\n",
       "      <td>0</td>\n",
       "      <td>FAM58A</td>\n",
       "      <td>Truncating Mutations</td>\n",
       "      <td>1</td>\n",
       "      <td>cyclin dependent kinases cdks regulate variety...</td>\n",
       "      <td>FAM58A Truncating Mutations</td>\n",
       "    </tr>\n",
       "    <tr>\n",
       "      <th>1</th>\n",
       "      <td>1</td>\n",
       "      <td>CBL</td>\n",
       "      <td>W802*</td>\n",
       "      <td>2</td>\n",
       "      <td>abstract background non small cell lung cancer...</td>\n",
       "      <td>CBL W802*</td>\n",
       "    </tr>\n",
       "    <tr>\n",
       "      <th>2</th>\n",
       "      <td>2</td>\n",
       "      <td>CBL</td>\n",
       "      <td>Q249E</td>\n",
       "      <td>2</td>\n",
       "      <td>abstract background non small cell lung cancer...</td>\n",
       "      <td>CBL Q249E</td>\n",
       "    </tr>\n",
       "    <tr>\n",
       "      <th>3</th>\n",
       "      <td>3</td>\n",
       "      <td>CBL</td>\n",
       "      <td>N454D</td>\n",
       "      <td>3</td>\n",
       "      <td>recent evidence demonstrated acquired uniparen...</td>\n",
       "      <td>CBL N454D</td>\n",
       "    </tr>\n",
       "    <tr>\n",
       "      <th>4</th>\n",
       "      <td>4</td>\n",
       "      <td>CBL</td>\n",
       "      <td>L399V</td>\n",
       "      <td>4</td>\n",
       "      <td>oncogenic mutations monomeric casitas b lineag...</td>\n",
       "      <td>CBL L399V</td>\n",
       "    </tr>\n",
       "  </tbody>\n",
       "</table>\n",
       "</div>"
      ],
      "text/plain": [
       "   ID    Gene             Variation  Class  \\\n",
       "0   0  FAM58A  Truncating Mutations      1   \n",
       "1   1     CBL                 W802*      2   \n",
       "2   2     CBL                 Q249E      2   \n",
       "3   3     CBL                 N454D      3   \n",
       "4   4     CBL                 L399V      4   \n",
       "\n",
       "                                                TEXT  \\\n",
       "0  cyclin dependent kinases cdks regulate variety...   \n",
       "1  abstract background non small cell lung cancer...   \n",
       "2  abstract background non small cell lung cancer...   \n",
       "3  recent evidence demonstrated acquired uniparen...   \n",
       "4  oncogenic mutations monomeric casitas b lineag...   \n",
       "\n",
       "            Gene_and_Variation  \n",
       "0  FAM58A Truncating Mutations  \n",
       "1                    CBL W802*  \n",
       "2                    CBL Q249E  \n",
       "3                    CBL N454D  \n",
       "4                    CBL L399V  "
      ]
     },
     "execution_count": 10,
     "metadata": {},
     "output_type": "execute_result"
    }
   ],
   "source": [
    "# code courtesy - https://www.kaggle.com/eavdeeva/cancer-all-gene-variation-values-are-unique\n",
    "# Since all combination of Gene and Variation are unique in the dataset\n",
    "# Combining Gene + Variation\n",
    "result[\"Gene_and_Variation\"] = result[\"Gene\"] + \" \" + result[\"Variation\"]\n",
    "result.head()"
   ]
  },
  {
   "cell_type": "code",
   "execution_count": 11,
   "metadata": {},
   "outputs": [
    {
     "data": {
      "text/html": [
       "<div>\n",
       "<style scoped>\n",
       "    .dataframe tbody tr th:only-of-type {\n",
       "        vertical-align: middle;\n",
       "    }\n",
       "\n",
       "    .dataframe tbody tr th {\n",
       "        vertical-align: top;\n",
       "    }\n",
       "\n",
       "    .dataframe thead th {\n",
       "        text-align: right;\n",
       "    }\n",
       "</style>\n",
       "<table border=\"1\" class=\"dataframe\">\n",
       "  <thead>\n",
       "    <tr style=\"text-align: right;\">\n",
       "      <th></th>\n",
       "      <th>ID</th>\n",
       "      <th>Gene</th>\n",
       "      <th>Variation</th>\n",
       "      <th>Class</th>\n",
       "      <th>TEXT</th>\n",
       "      <th>Gene_and_Variation</th>\n",
       "      <th>Text_Count</th>\n",
       "    </tr>\n",
       "  </thead>\n",
       "  <tbody>\n",
       "    <tr>\n",
       "      <th>0</th>\n",
       "      <td>0</td>\n",
       "      <td>FAM58A</td>\n",
       "      <td>Truncating Mutations</td>\n",
       "      <td>1</td>\n",
       "      <td>cyclin dependent kinases cdks regulate variety...</td>\n",
       "      <td>FAM58A Truncating Mutations</td>\n",
       "      <td>4370</td>\n",
       "    </tr>\n",
       "    <tr>\n",
       "      <th>1</th>\n",
       "      <td>1</td>\n",
       "      <td>CBL</td>\n",
       "      <td>W802*</td>\n",
       "      <td>2</td>\n",
       "      <td>abstract background non small cell lung cancer...</td>\n",
       "      <td>CBL W802*</td>\n",
       "      <td>4139</td>\n",
       "    </tr>\n",
       "    <tr>\n",
       "      <th>2</th>\n",
       "      <td>2</td>\n",
       "      <td>CBL</td>\n",
       "      <td>Q249E</td>\n",
       "      <td>2</td>\n",
       "      <td>abstract background non small cell lung cancer...</td>\n",
       "      <td>CBL Q249E</td>\n",
       "      <td>4139</td>\n",
       "    </tr>\n",
       "    <tr>\n",
       "      <th>3</th>\n",
       "      <td>3</td>\n",
       "      <td>CBL</td>\n",
       "      <td>N454D</td>\n",
       "      <td>3</td>\n",
       "      <td>recent evidence demonstrated acquired uniparen...</td>\n",
       "      <td>CBL N454D</td>\n",
       "      <td>3841</td>\n",
       "    </tr>\n",
       "    <tr>\n",
       "      <th>4</th>\n",
       "      <td>4</td>\n",
       "      <td>CBL</td>\n",
       "      <td>L399V</td>\n",
       "      <td>4</td>\n",
       "      <td>oncogenic mutations monomeric casitas b lineag...</td>\n",
       "      <td>CBL L399V</td>\n",
       "      <td>4254</td>\n",
       "    </tr>\n",
       "  </tbody>\n",
       "</table>\n",
       "</div>"
      ],
      "text/plain": [
       "   ID    Gene             Variation  Class  \\\n",
       "0   0  FAM58A  Truncating Mutations      1   \n",
       "1   1     CBL                 W802*      2   \n",
       "2   2     CBL                 Q249E      2   \n",
       "3   3     CBL                 N454D      3   \n",
       "4   4     CBL                 L399V      4   \n",
       "\n",
       "                                                TEXT  \\\n",
       "0  cyclin dependent kinases cdks regulate variety...   \n",
       "1  abstract background non small cell lung cancer...   \n",
       "2  abstract background non small cell lung cancer...   \n",
       "3  recent evidence demonstrated acquired uniparen...   \n",
       "4  oncogenic mutations monomeric casitas b lineag...   \n",
       "\n",
       "            Gene_and_Variation  Text_Count  \n",
       "0  FAM58A Truncating Mutations        4370  \n",
       "1                    CBL W802*        4139  \n",
       "2                    CBL Q249E        4139  \n",
       "3                    CBL N454D        3841  \n",
       "4                    CBL L399V        4254  "
      ]
     },
     "execution_count": 11,
     "metadata": {},
     "output_type": "execute_result"
    }
   ],
   "source": [
    "# Length of related text\n",
    "result[\"Text_Count\"] = result[\"TEXT\"].apply(lambda x: len(x.split()))\n",
    "result.head()"
   ]
  },
  {
   "cell_type": "code",
   "execution_count": 12,
   "metadata": {},
   "outputs": [
    {
     "data": {
      "text/html": [
       "<div>\n",
       "<style scoped>\n",
       "    .dataframe tbody tr th:only-of-type {\n",
       "        vertical-align: middle;\n",
       "    }\n",
       "\n",
       "    .dataframe tbody tr th {\n",
       "        vertical-align: top;\n",
       "    }\n",
       "\n",
       "    .dataframe thead th {\n",
       "        text-align: right;\n",
       "    }\n",
       "</style>\n",
       "<table border=\"1\" class=\"dataframe\">\n",
       "  <thead>\n",
       "    <tr style=\"text-align: right;\">\n",
       "      <th></th>\n",
       "      <th>ID</th>\n",
       "      <th>Gene</th>\n",
       "      <th>Variation</th>\n",
       "      <th>Class</th>\n",
       "      <th>TEXT</th>\n",
       "      <th>Gene_and_Variation</th>\n",
       "      <th>Text_Count</th>\n",
       "      <th>Text_Count_5000</th>\n",
       "    </tr>\n",
       "  </thead>\n",
       "  <tbody>\n",
       "    <tr>\n",
       "      <th>0</th>\n",
       "      <td>0</td>\n",
       "      <td>FAM58A</td>\n",
       "      <td>Truncating Mutations</td>\n",
       "      <td>1</td>\n",
       "      <td>cyclin dependent kinases cdks regulate variety...</td>\n",
       "      <td>FAM58A Truncating Mutations</td>\n",
       "      <td>4370</td>\n",
       "      <td>0</td>\n",
       "    </tr>\n",
       "    <tr>\n",
       "      <th>1</th>\n",
       "      <td>1</td>\n",
       "      <td>CBL</td>\n",
       "      <td>W802*</td>\n",
       "      <td>2</td>\n",
       "      <td>abstract background non small cell lung cancer...</td>\n",
       "      <td>CBL W802*</td>\n",
       "      <td>4139</td>\n",
       "      <td>0</td>\n",
       "    </tr>\n",
       "    <tr>\n",
       "      <th>2</th>\n",
       "      <td>2</td>\n",
       "      <td>CBL</td>\n",
       "      <td>Q249E</td>\n",
       "      <td>2</td>\n",
       "      <td>abstract background non small cell lung cancer...</td>\n",
       "      <td>CBL Q249E</td>\n",
       "      <td>4139</td>\n",
       "      <td>0</td>\n",
       "    </tr>\n",
       "    <tr>\n",
       "      <th>3</th>\n",
       "      <td>3</td>\n",
       "      <td>CBL</td>\n",
       "      <td>N454D</td>\n",
       "      <td>3</td>\n",
       "      <td>recent evidence demonstrated acquired uniparen...</td>\n",
       "      <td>CBL N454D</td>\n",
       "      <td>3841</td>\n",
       "      <td>0</td>\n",
       "    </tr>\n",
       "    <tr>\n",
       "      <th>4</th>\n",
       "      <td>4</td>\n",
       "      <td>CBL</td>\n",
       "      <td>L399V</td>\n",
       "      <td>4</td>\n",
       "      <td>oncogenic mutations monomeric casitas b lineag...</td>\n",
       "      <td>CBL L399V</td>\n",
       "      <td>4254</td>\n",
       "      <td>0</td>\n",
       "    </tr>\n",
       "  </tbody>\n",
       "</table>\n",
       "</div>"
      ],
      "text/plain": [
       "   ID    Gene             Variation  Class  \\\n",
       "0   0  FAM58A  Truncating Mutations      1   \n",
       "1   1     CBL                 W802*      2   \n",
       "2   2     CBL                 Q249E      2   \n",
       "3   3     CBL                 N454D      3   \n",
       "4   4     CBL                 L399V      4   \n",
       "\n",
       "                                                TEXT  \\\n",
       "0  cyclin dependent kinases cdks regulate variety...   \n",
       "1  abstract background non small cell lung cancer...   \n",
       "2  abstract background non small cell lung cancer...   \n",
       "3  recent evidence demonstrated acquired uniparen...   \n",
       "4  oncogenic mutations monomeric casitas b lineag...   \n",
       "\n",
       "            Gene_and_Variation  Text_Count  Text_Count_5000  \n",
       "0  FAM58A Truncating Mutations        4370                0  \n",
       "1                    CBL W802*        4139                0  \n",
       "2                    CBL Q249E        4139                0  \n",
       "3                    CBL N454D        3841                0  \n",
       "4                    CBL L399V        4254                0  "
      ]
     },
     "execution_count": 12,
     "metadata": {},
     "output_type": "execute_result"
    }
   ],
   "source": [
    "result[\"Text_Count_5000\"] = result[\"Text_Count\"].apply(lambda x: 1 if x > 5000 else 0)\n",
    "result.head()"
   ]
  },
  {
   "cell_type": "markdown",
   "metadata": {},
   "source": [
    "<h3>3.1.4. Test, Train and Cross Validation Split</h3>"
   ]
  },
  {
   "cell_type": "markdown",
   "metadata": {},
   "source": [
    "<h4>3.1.4.1. Splitting data into train, test and cross validation (64:20:16)</h4>"
   ]
  },
  {
   "cell_type": "code",
   "execution_count": 13,
   "metadata": {},
   "outputs": [],
   "source": [
    "y_true = result['Class'].values\n",
    "result.Gene      = result.Gene.str.replace('\\s+', '_')\n",
    "result.Variation = result.Variation.str.replace('\\s+', '_')\n",
    "\n",
    "# split the data into test and train by maintaining same distribution of output varaible 'y_true' [stratify=y_true]\n",
    "X_train, test_df, y_train, y_test = train_test_split(result, y_true, stratify=y_true, test_size=0.2)\n",
    "# split the train data into train and cross validation by maintaining same distribution of output varaible 'y_train' [stratify=y_train]\n",
    "train_df, cv_df, y_train, y_cv = train_test_split(X_train, y_train, stratify=y_train, test_size=0.2)"
   ]
  },
  {
   "cell_type": "markdown",
   "metadata": {},
   "source": [
    "<p> We split the data into train, test and cross validation data sets, preserving the ratio of class distribution in the original data set  </p>"
   ]
  },
  {
   "cell_type": "code",
   "execution_count": 14,
   "metadata": {},
   "outputs": [
    {
     "name": "stdout",
     "output_type": "stream",
     "text": [
      "Number of data points in train data: 2124\n",
      "Number of data points in test data: 665\n",
      "Number of data points in cross validation data: 532\n"
     ]
    }
   ],
   "source": [
    "print('Number of data points in train data:', train_df.shape[0])\n",
    "print('Number of data points in test data:', test_df.shape[0])\n",
    "print('Number of data points in cross validation data:', cv_df.shape[0])"
   ]
  },
  {
   "cell_type": "markdown",
   "metadata": {},
   "source": [
    "<h4>3.1.4.2. Distribution of y_i's in Train, Test and Cross Validation datasets</h4>"
   ]
  },
  {
   "cell_type": "code",
   "execution_count": 15,
   "metadata": {},
   "outputs": [
    {
     "data": {
      "image/png": "[encoded data removed]",
      "text/plain": [
       "<matplotlib.figure.Figure at 0x2b10a652eb8>"
      ]
     },
     "metadata": {
      "needs_background": "light"
     },
     "output_type": "display_data"
    },
    {
     "name": "stdout",
     "output_type": "stream",
     "text": [
      "Number of data points in class 7 : 609 ( 28.672 %)\n",
      "Number of data points in class 4 : 439 ( 20.669 %)\n",
      "Number of data points in class 1 : 363 ( 17.09 %)\n",
      "Number of data points in class 2 : 289 ( 13.606 %)\n",
      "Number of data points in class 6 : 176 ( 8.286 %)\n",
      "Number of data points in class 5 : 155 ( 7.298 %)\n",
      "Number of data points in class 3 : 57 ( 2.684 %)\n",
      "Number of data points in class 9 : 24 ( 1.13 %)\n",
      "Number of data points in class 8 : 12 ( 0.565 %)\n",
      "--------------------------------------------------------------------------------\n"
     ]
    },
    {
     "data": {
      "image/png": "[encoded data removed]",
      "text/plain": [
       "<matplotlib.figure.Figure at 0x2b10a7e5710>"
      ]
     },
     "metadata": {
      "needs_background": "light"
     },
     "output_type": "display_data"
    },
    {
     "name": "stdout",
     "output_type": "stream",
     "text": [
      "Number of data points in class 7 : 191 ( 28.722 %)\n",
      "Number of data points in class 4 : 137 ( 20.602 %)\n",
      "Number of data points in class 1 : 114 ( 17.143 %)\n",
      "Number of data points in class 2 : 91 ( 13.684 %)\n",
      "Number of data points in class 6 : 55 ( 8.271 %)\n",
      "Number of data points in class 5 : 48 ( 7.218 %)\n",
      "Number of data points in class 3 : 18 ( 2.707 %)\n",
      "Number of data points in class 9 : 7 ( 1.053 %)\n",
      "Number of data points in class 8 : 4 ( 0.602 %)\n",
      "--------------------------------------------------------------------------------\n"
     ]
    },
    {
     "data": {
      "image/png": "[encoded data removed]",
      "text/plain": [
       "<matplotlib.figure.Figure at 0x2b1056ef438>"
      ]
     },
     "metadata": {
      "needs_background": "light"
     },
     "output_type": "display_data"
    },
    {
     "name": "stdout",
     "output_type": "stream",
     "text": [
      "Number of data points in class 7 : 153 ( 28.759 %)\n",
      "Number of data points in class 4 : 110 ( 20.677 %)\n",
      "Number of data points in class 1 : 91 ( 17.105 %)\n",
      "Number of data points in class 2 : 72 ( 13.534 %)\n",
      "Number of data points in class 6 : 44 ( 8.271 %)\n",
      "Number of data points in class 5 : 39 ( 7.331 %)\n",
      "Number of data points in class 3 : 14 ( 2.632 %)\n",
      "Number of data points in class 9 : 6 ( 1.128 %)\n",
      "Number of data points in class 8 : 3 ( 0.564 %)\n"
     ]
    }
   ],
   "source": [
    "# it returns a dict, keys as class labels and values as the number of data points in that class\n",
    "train_class_distribution = train_df['Class'].value_counts().sortlevel()\n",
    "test_class_distribution = test_df['Class'].value_counts().sortlevel()\n",
    "cv_class_distribution = cv_df['Class'].value_counts().sortlevel()\n",
    "\n",
    "my_colors = 'rgbkymc'\n",
    "train_class_distribution.plot(kind='bar')\n",
    "plt.xlabel('Class')\n",
    "plt.ylabel('Data points per Class')\n",
    "plt.title('Distribution of yi in train data')\n",
    "plt.grid()\n",
    "plt.show()\n",
    "\n",
    "# ref: argsort https://docs.scipy.org/doc/numpy/reference/generated/numpy.argsort.html\n",
    "# -(train_class_distribution.values): the minus sign will give us in decreasing order\n",
    "sorted_yi = np.argsort(-train_class_distribution.values)\n",
    "for i in sorted_yi:\n",
    "    print('Number of data points in class', i+1, ':',train_class_distribution.values[i], '(', np.round((train_class_distribution.values[i]/train_df.shape[0]*100), 3), '%)')\n",
    "\n",
    "    \n",
    "print('-'*80)\n",
    "my_colors = 'rgbkymc'\n",
    "test_class_distribution.plot(kind='bar')\n",
    "plt.xlabel('Class')\n",
    "plt.ylabel('Data points per Class')\n",
    "plt.title('Distribution of yi in test data')\n",
    "plt.grid()\n",
    "plt.show()\n",
    "\n",
    "# ref: argsort https://docs.scipy.org/doc/numpy/reference/generated/numpy.argsort.html\n",
    "# -(train_class_distribution.values): the minus sign will give us in decreasing order\n",
    "sorted_yi = np.argsort(-test_class_distribution.values)\n",
    "for i in sorted_yi:\n",
    "    print('Number of data points in class', i+1, ':',test_class_distribution.values[i], '(', np.round((test_class_distribution.values[i]/test_df.shape[0]*100), 3), '%)')\n",
    "\n",
    "print('-'*80)\n",
    "my_colors = 'rgbkymc'\n",
    "cv_class_distribution.plot(kind='bar')\n",
    "plt.xlabel('Class')\n",
    "plt.ylabel('Data points per Class')\n",
    "plt.title('Distribution of yi in cross validation data')\n",
    "plt.grid()\n",
    "plt.show()\n",
    "\n",
    "# ref: argsort https://docs.scipy.org/doc/numpy/reference/generated/numpy.argsort.html\n",
    "# -(train_class_distribution.values): the minus sign will give us in decreasing order\n",
    "sorted_yi = np.argsort(-train_class_distribution.values)\n",
    "for i in sorted_yi:\n",
    "    print('Number of data points in class', i+1, ':',cv_class_distribution.values[i], '(', np.round((cv_class_distribution.values[i]/cv_df.shape[0]*100), 3), '%)')\n"
   ]
  },
  {
   "cell_type": "code",
   "execution_count": null,
   "metadata": {},
   "outputs": [],
   "source": []
  },
  {
   "cell_type": "markdown",
   "metadata": {},
   "source": [
    "<h2>3.2 Prediction using a 'Random' Model</h2>"
   ]
  },
  {
   "cell_type": "markdown",
   "metadata": {},
   "source": [
    "<p style=\"font-size:16px\"> In a 'Random' Model, we generate the NINE class probabilites randomly such that they sum to 1. </p>"
   ]
  },
  {
   "cell_type": "code",
   "execution_count": 16,
   "metadata": {},
   "outputs": [],
   "source": [
    "# This function plots the confusion matrices given y_i, y_i_hat.\n",
    "def plot_confusion_matrix(test_y, predict_y):\n",
    "    C = confusion_matrix(test_y, predict_y)\n",
    "    # C = 9,9 matrix, each cell (i,j) represents number of points of class i are predicted class j\n",
    "    \n",
    "    A =(((C.T)/(C.sum(axis=1))).T)\n",
    "    #divid each element of the confusion matrix with the sum of elements in that column\n",
    "    \n",
    "    # C = [[1, 2],\n",
    "    #     [3, 4]]\n",
    "    # C.T = [[1, 3],\n",
    "    #        [2, 4]]\n",
    "    # C.sum(axis = 1)  axis=0 corresonds to columns and axis=1 corresponds to rows in two diamensional array\n",
    "    # C.sum(axix =1) = [[3, 7]]\n",
    "    # ((C.T)/(C.sum(axis=1))) = [[1/3, 3/7]\n",
    "    #                           [2/3, 4/7]]\n",
    "\n",
    "    # ((C.T)/(C.sum(axis=1))).T = [[1/3, 2/3]\n",
    "    #                           [3/7, 4/7]]\n",
    "    # sum of row elements = 1\n",
    "    \n",
    "    B =(C/C.sum(axis=0))\n",
    "    #divid each element of the confusion matrix with the sum of elements in that row\n",
    "    # C = [[1, 2],\n",
    "    #     [3, 4]]\n",
    "    # C.sum(axis = 0)  axis=0 corresonds to columns and axis=1 corresponds to rows in two diamensional array\n",
    "    # C.sum(axix =0) = [[4, 6]]\n",
    "    # (C/C.sum(axis=0)) = [[1/4, 2/6],\n",
    "    #                      [3/4, 4/6]] \n",
    "    \n",
    "    labels = [1,2,3,4,5,6,7,8,9]\n",
    "    # representing A in heatmap format\n",
    "    print(\"-\"*20, \"Confusion matrix\", \"-\"*20)\n",
    "    plt.figure(figsize=(20,7))\n",
    "    sns.heatmap(C, annot=True, cmap=\"YlGnBu\", fmt=\".3f\", xticklabels=labels, yticklabels=labels)\n",
    "    plt.xlabel('Predicted Class')\n",
    "    plt.ylabel('Original Class')\n",
    "    plt.show()\n",
    "\n",
    "    print(\"-\"*20, \"Precision matrix (Columm Sum=1)\", \"-\"*20)\n",
    "    plt.figure(figsize=(20,7))\n",
    "    sns.heatmap(B, annot=True, cmap=\"YlGnBu\", fmt=\".3f\", xticklabels=labels, yticklabels=labels)\n",
    "    plt.xlabel('Predicted Class')\n",
    "    plt.ylabel('Original Class')\n",
    "    plt.show()\n",
    "    \n",
    "    # representing B in heatmap format\n",
    "    print(\"-\"*20, \"Recall matrix (Row sum=1)\", \"-\"*20)\n",
    "    plt.figure(figsize=(20,7))\n",
    "    sns.heatmap(A, annot=True, cmap=\"YlGnBu\", fmt=\".3f\", xticklabels=labels, yticklabels=labels)\n",
    "    plt.xlabel('Predicted Class')\n",
    "    plt.ylabel('Original Class')\n",
    "    plt.show()"
   ]
  },
  {
   "cell_type": "code",
   "execution_count": 17,
   "metadata": {},
   "outputs": [
    {
     "name": "stdout",
     "output_type": "stream",
     "text": [
      "Log loss on Cross Validation Data using Random Model 2.5120743689135616\n",
      "Log loss on Test Data using Random Model 2.529795186028073\n",
      "-------------------- Confusion matrix --------------------\n"
     ]
    },
    {
     "data": {
      "image/png": "[encoded data removed]",
      "text/plain": [
       "<matplotlib.figure.Figure at 0x2b11d92d1d0>"
      ]
     },
     "metadata": {
      "needs_background": "light"
     },
     "output_type": "display_data"
    },
    {
     "name": "stdout",
     "output_type": "stream",
     "text": [
      "-------------------- Precision matrix (Columm Sum=1) --------------------\n"
     ]
    },
    {
     "data": {
      "image/png": "[encoded data removed]",
      "text/plain": [
       "<matplotlib.figure.Figure at 0x2b11d96cf60>"
      ]
     },
     "metadata": {
      "needs_background": "light"
     },
     "output_type": "display_data"
    },
    {
     "name": "stdout",
     "output_type": "stream",
     "text": [
      "-------------------- Recall matrix (Row sum=1) --------------------\n"
     ]
    },
    {
     "data": {
      "image/png": "[encoded data removed]",
      "text/plain": [
       "<matplotlib.figure.Figure at 0x2b11d971898>"
      ]
     },
     "metadata": {
      "needs_background": "light"
     },
     "output_type": "display_data"
    }
   ],
   "source": [
    "# we need to generate 9 numbers and the sum of numbers should be 1\n",
    "# one solution is to genarate 9 numbers and divide each of the numbers by their sum\n",
    "# ref: https://stackoverflow.com/a/18662466/4084039\n",
    "test_data_len = test_df.shape[0]\n",
    "cv_data_len = cv_df.shape[0]\n",
    "\n",
    "# we create a output array that has exactly same size as the CV data\n",
    "cv_predicted_y = np.zeros((cv_data_len,9))\n",
    "for i in range(cv_data_len):\n",
    "    rand_probs = np.random.rand(1,9)\n",
    "    cv_predicted_y[i] = ((rand_probs/sum(sum(rand_probs)))[0])\n",
    "print(\"Log loss on Cross Validation Data using Random Model\",log_loss(y_cv,cv_predicted_y, eps=1e-15))\n",
    "\n",
    "\n",
    "# Test-Set error.\n",
    "#we create a output array that has exactly same as the test data\n",
    "test_predicted_y = np.zeros((test_data_len,9))\n",
    "for i in range(test_data_len):\n",
    "    rand_probs = np.random.rand(1,9)\n",
    "    test_predicted_y[i] = ((rand_probs/sum(sum(rand_probs)))[0])\n",
    "print(\"Log loss on Test Data using Random Model\",log_loss(y_test,test_predicted_y, eps=1e-15))\n",
    "\n",
    "predicted_y =np.argmax(test_predicted_y, axis=1)\n",
    "plot_confusion_matrix(y_test, predicted_y+1)"
   ]
  },
  {
   "cell_type": "markdown",
   "metadata": {},
   "source": [
    "<h2>3.3 Univariate Analysis</h2>"
   ]
  },
  {
   "cell_type": "code",
   "execution_count": 18,
   "metadata": {},
   "outputs": [],
   "source": [
    "# code for response coding with Laplace smoothing.\n",
    "# alpha : used for laplace smoothing\n",
    "# feature: ['gene', 'variation']\n",
    "# df: ['train_df', 'test_df', 'cv_df']\n",
    "# algorithm\n",
    "# ----------\n",
    "# Consider all unique values and the number of occurances of given feature in train data dataframe\n",
    "# build a vector (1*9) , the first element = (number of times it occured in class1 + 10*alpha / number of time it occurred in total data+90*alpha)\n",
    "# gv_dict is like a look up table, for every gene it store a (1*9) representation of it\n",
    "# for a value of feature in df:\n",
    "# if it is in train data:\n",
    "# we add the vector that was stored in 'gv_dict' look up table to 'gv_fea'\n",
    "# if it is not there is train:\n",
    "# we add [1/9, 1/9, 1/9, 1/9,1/9, 1/9, 1/9, 1/9, 1/9] to 'gv_fea'\n",
    "# return 'gv_fea'\n",
    "# ----------------------\n",
    "\n",
    "# get_gv_fea_dict: Get Gene varaition Feature Dict\n",
    "def get_gv_fea_dict(alpha, feature, df):\n",
    "    # value_count: it contains a dict like\n",
    "    # print(train_df['Gene'].value_counts())\n",
    "    # output:\n",
    "    #        {BRCA1      174\n",
    "    #         TP53       106\n",
    "    #         EGFR        86\n",
    "    #         BRCA2       75\n",
    "    #         PTEN        69\n",
    "    #         KIT         61\n",
    "    #         BRAF        60\n",
    "    #         ERBB2       47\n",
    "    #         PDGFRA      46\n",
    "    #         ...}\n",
    "    # print(train_df['Variation'].value_counts())\n",
    "    # output:\n",
    "    # {\n",
    "    # Truncating_Mutations                     63\n",
    "    # Deletion                                 43\n",
    "    # Amplification                            43\n",
    "    # Fusions                                  22\n",
    "    # Overexpression                            3\n",
    "    # E17K                                      3\n",
    "    # Q61L                                      3\n",
    "    # S222D                                     2\n",
    "    # P130S                                     2\n",
    "    # ...\n",
    "    # }\n",
    "    value_count = train_df[feature].value_counts()\n",
    "    \n",
    "    # gv_dict : Gene Variation Dict, which contains the probability array for each gene/variation\n",
    "    gv_dict = dict()\n",
    "    \n",
    "    # denominator will contain the number of time that particular feature occured in whole data\n",
    "    for i, denominator in value_count.items():\n",
    "        # vec will contain (p(yi==1/Gi) probability of gene/variation belongs to perticular class\n",
    "        # vec is 9 diamensional vector\n",
    "        vec = []\n",
    "        for k in range(1,10):\n",
    "            # print(train_df.loc[(train_df['Class']==1) & (train_df['Gene']=='BRCA1')])\n",
    "            #         ID   Gene             Variation  Class  \n",
    "            # 2470  2470  BRCA1                S1715C      1   \n",
    "            # 2486  2486  BRCA1                S1841R      1   \n",
    "            # 2614  2614  BRCA1                   M1R      1   \n",
    "            # 2432  2432  BRCA1                L1657P      1   \n",
    "            # 2567  2567  BRCA1                T1685A      1   \n",
    "            # 2583  2583  BRCA1                E1660G      1   \n",
    "            # 2634  2634  BRCA1                W1718L      1   \n",
    "            # cls_cnt.shape[0] will return the number of rows\n",
    "\n",
    "            cls_cnt = train_df.loc[(train_df['Class']==k) & (train_df[feature]==i)]\n",
    "            \n",
    "            # cls_cnt.shape[0](numerator) will contain the number of time that particular feature occured in whole data\n",
    "            vec.append((cls_cnt.shape[0] + alpha*10)/ (denominator + 90*alpha))\n",
    "\n",
    "        # we are adding the gene/variation to the dict as key and vec as value\n",
    "        gv_dict[i]=vec\n",
    "    return gv_dict\n",
    "\n",
    "# Get Gene variation feature\n",
    "def get_gv_feature(alpha, feature, df):\n",
    "    # print(gv_dict)\n",
    "    #     {'BRCA1': [0.20075757575757575, 0.03787878787878788, 0.068181818181818177, 0.13636363636363635, 0.25, 0.19318181818181818, 0.03787878787878788, 0.03787878787878788, 0.03787878787878788], \n",
    "    #      'TP53': [0.32142857142857145, 0.061224489795918366, 0.061224489795918366, 0.27040816326530615, 0.061224489795918366, 0.066326530612244902, 0.051020408163265307, 0.051020408163265307, 0.056122448979591837], \n",
    "    #      'EGFR': [0.056818181818181816, 0.21590909090909091, 0.0625, 0.068181818181818177, 0.068181818181818177, 0.0625, 0.34659090909090912, 0.0625, 0.056818181818181816], \n",
    "    #      'BRCA2': [0.13333333333333333, 0.060606060606060608, 0.060606060606060608, 0.078787878787878782, 0.1393939393939394, 0.34545454545454546, 0.060606060606060608, 0.060606060606060608, 0.060606060606060608], \n",
    "    #      'PTEN': [0.069182389937106917, 0.062893081761006289, 0.069182389937106917, 0.46540880503144655, 0.075471698113207544, 0.062893081761006289, 0.069182389937106917, 0.062893081761006289, 0.062893081761006289], \n",
    "    #      'KIT': [0.066225165562913912, 0.25165562913907286, 0.072847682119205295, 0.072847682119205295, 0.066225165562913912, 0.066225165562913912, 0.27152317880794702, 0.066225165562913912, 0.066225165562913912], \n",
    "    #      'BRAF': [0.066666666666666666, 0.17999999999999999, 0.073333333333333334, 0.073333333333333334, 0.093333333333333338, 0.080000000000000002, 0.29999999999999999, 0.066666666666666666, 0.066666666666666666],\n",
    "    #      ...\n",
    "    #     }\n",
    "    gv_dict = get_gv_fea_dict(alpha, feature, df)\n",
    "    # value_count is similar in get_gv_fea_dict\n",
    "    value_count = train_df[feature].value_counts()\n",
    "    \n",
    "    # gv_fea: Gene_variation feature, it will contain the feature for each feature value in the data\n",
    "    gv_fea = []\n",
    "    # for every feature values in the given data frame we will check if it is there in the train data then we will add the feature to gv_fea\n",
    "    # if not we will add [1/9,1/9,1/9,1/9,1/9,1/9,1/9,1/9,1/9] to gv_fea\n",
    "    for index, row in df.iterrows():\n",
    "        if row[feature] in dict(value_count).keys():\n",
    "            gv_fea.append(gv_dict[row[feature]])\n",
    "        else:\n",
    "            gv_fea.append([1/9,1/9,1/9,1/9,1/9,1/9,1/9,1/9,1/9])\n",
    "#             gv_fea.append([-1,-1,-1,-1,-1,-1,-1,-1,-1])\n",
    "    return gv_fea"
   ]
  },
  {
   "cell_type": "markdown",
   "metadata": {},
   "source": [
    "when we caculate the probability of a feature belongs to any particular class, we apply laplace smoothing\n",
    "<li>(numerator + 10\\*alpha) / (denominator + 90\\*alpha) </li>"
   ]
  },
  {
   "cell_type": "markdown",
   "metadata": {},
   "source": [
    "<h3>3.2.1 Univariate Analysis on Gene Feature</h3>"
   ]
  },
  {
   "cell_type": "markdown",
   "metadata": {},
   "source": [
    "<p style=\"font-size:18px;\"> <b>Q1.</b> Gene, What type of feature it is ?</p>\n",
    "<p style=\"font-size:16px;\"><b>Ans.</b> Gene is a categorical variable </p>\n",
    "<p style=\"font-size:18px;\"> <b>Q2.</b> How many categories are there and How they are distributed?</p>"
   ]
  },
  {
   "cell_type": "code",
   "execution_count": 19,
   "metadata": {},
   "outputs": [
    {
     "name": "stdout",
     "output_type": "stream",
     "text": [
      "Number of Unique Genes : 228\n",
      "BRCA1     167\n",
      "TP53      102\n",
      "PTEN       86\n",
      "EGFR       85\n",
      "BRCA2      80\n",
      "KIT        62\n",
      "BRAF       49\n",
      "ERBB2      46\n",
      "ALK        42\n",
      "PDGFRA     41\n",
      "Name: Gene, dtype: int64\n"
     ]
    }
   ],
   "source": [
    "unique_genes = train_df['Gene'].value_counts()\n",
    "print('Number of Unique Genes :', unique_genes.shape[0])\n",
    "# the top 10 genes that occured most\n",
    "print(unique_genes.head(10))"
   ]
  },
  {
   "cell_type": "code",
   "execution_count": 20,
   "metadata": {
    "scrolled": true
   },
   "outputs": [
    {
     "name": "stdout",
     "output_type": "stream",
     "text": [
      "Ans: There are 228 different categories of genes in the train data, and they are distibuted as follows\n"
     ]
    }
   ],
   "source": [
    "print(\"Ans: There are\", unique_genes.shape[0] ,\"different categories of genes in the train data, and they are distibuted as follows\",)"
   ]
  },
  {
   "cell_type": "code",
   "execution_count": 21,
   "metadata": {},
   "outputs": [
    {
     "data": {
      "image/png": "[encoded data removed]",
      "text/plain": [
       "<matplotlib.figure.Figure at 0x2b11d964898>"
      ]
     },
     "metadata": {
      "needs_background": "light"
     },
     "output_type": "display_data"
    }
   ],
   "source": [
    "s = sum(unique_genes.values);\n",
    "h = unique_genes.values/s;\n",
    "plt.plot(h, label=\"Histrogram of Genes\")\n",
    "plt.xlabel('Index of a Gene')\n",
    "plt.ylabel('Number of Occurances')\n",
    "plt.legend()\n",
    "plt.grid()\n",
    "plt.show()\n"
   ]
  },
  {
   "cell_type": "code",
   "execution_count": 22,
   "metadata": {},
   "outputs": [
    {
     "data": {
      "image/png": "[encoded data removed]",
      "text/plain": [
       "<matplotlib.figure.Figure at 0x2b11d927e10>"
      ]
     },
     "metadata": {
      "needs_background": "light"
     },
     "output_type": "display_data"
    }
   ],
   "source": [
    "c = np.cumsum(h)\n",
    "plt.plot(c,label='Cumulative distribution of Genes')\n",
    "plt.grid()\n",
    "plt.legend()\n",
    "plt.show()"
   ]
  },
  {
   "cell_type": "markdown",
   "metadata": {},
   "source": [
    "<p style=\"font-size:18px;\"> <b>Q3.</b> How to featurize this Gene feature ?</p>\n",
    "\n",
    "<p style=\"font-size:16px;\"><b>Ans.</b>there are two ways we can featurize this variable\n",
    "check out this video: https://www.appliedaicourse.com/course/applied-ai-course-online/lessons/handling-categorical-and-numerical-features/\n",
    "<ol><li>One hot Encoding</li><li>Response coding</li></ol></p>\n",
    "<p> We will choose the appropriate featurization based on the ML model we use.  For this problem of multi-class classification with categorical features, one-hot encoding is better for Logistic regression while response coding is better for Random Forests. </p>"
   ]
  },
  {
   "cell_type": "code",
   "execution_count": 23,
   "metadata": {},
   "outputs": [],
   "source": [
    "#response-coding of the Gene feature\n",
    "# alpha is used for laplace smoothing\n",
    "alpha = 1\n",
    "# train gene feature\n",
    "train_gene_feature_responseCoding = np.array(get_gv_feature(alpha, \"Gene\", train_df))\n",
    "# test gene feature\n",
    "test_gene_feature_responseCoding = np.array(get_gv_feature(alpha, \"Gene\", test_df))\n",
    "# cross validation gene feature\n",
    "cv_gene_feature_responseCoding = np.array(get_gv_feature(alpha, \"Gene\", cv_df))"
   ]
  },
  {
   "cell_type": "code",
   "execution_count": 24,
   "metadata": {},
   "outputs": [
    {
     "name": "stdout",
     "output_type": "stream",
     "text": [
      "train_gene_feature_responseCoding is converted feature using respone coding method. The shape of gene feature: (2124, 9)\n"
     ]
    }
   ],
   "source": [
    "print(\"train_gene_feature_responseCoding is converted feature using respone coding method. The shape of gene feature:\", train_gene_feature_responseCoding.shape)"
   ]
  },
  {
   "cell_type": "code",
   "execution_count": 25,
   "metadata": {},
   "outputs": [],
   "source": [
    "# one-hot encoding of Gene feature.\n",
    "gene_vectorizer = CountVectorizer()\n",
    "train_gene_feature_onehotCoding = gene_vectorizer.fit_transform(train_df['Gene'])\n",
    "test_gene_feature_onehotCoding = gene_vectorizer.transform(test_df['Gene'])\n",
    "cv_gene_feature_onehotCoding = gene_vectorizer.transform(cv_df['Gene'])"
   ]
  },
  {
   "cell_type": "code",
   "execution_count": 26,
   "metadata": {},
   "outputs": [
    {
     "data": {
      "text/plain": [
       "2261     PTEN\n",
       "624     FBXW7\n",
       "477      TP53\n",
       "2423    BRCA1\n",
       "1235     PIM1\n",
       "Name: Gene, dtype: object"
      ]
     },
     "execution_count": 26,
     "metadata": {},
     "output_type": "execute_result"
    }
   ],
   "source": [
    "train_df['Gene'].head()"
   ]
  },
  {
   "cell_type": "code",
   "execution_count": 27,
   "metadata": {},
   "outputs": [
    {
     "data": {
      "text/plain": [
       "['abl1',\n",
       " 'acvr1',\n",
       " 'ago2',\n",
       " 'akt1',\n",
       " 'akt2',\n",
       " 'akt3',\n",
       " 'alk',\n",
       " 'apc',\n",
       " 'ar',\n",
       " 'araf',\n",
       " 'arid1b',\n",
       " 'arid2',\n",
       " 'asxl1',\n",
       " 'asxl2',\n",
       " 'atm',\n",
       " 'atr',\n",
       " 'atrx',\n",
       " 'aurka',\n",
       " 'aurkb',\n",
       " 'axin1',\n",
       " 'axl',\n",
       " 'b2m',\n",
       " 'bap1',\n",
       " 'bcl10',\n",
       " 'bcl2',\n",
       " 'bcor',\n",
       " 'braf',\n",
       " 'brca1',\n",
       " 'brca2',\n",
       " 'brd4',\n",
       " 'brip1',\n",
       " 'btk',\n",
       " 'card11',\n",
       " 'carm1',\n",
       " 'casp8',\n",
       " 'cbl',\n",
       " 'ccnd1',\n",
       " 'ccnd2',\n",
       " 'ccnd3',\n",
       " 'ccne1',\n",
       " 'cdh1',\n",
       " 'cdk12',\n",
       " 'cdk4',\n",
       " 'cdk8',\n",
       " 'cdkn1a',\n",
       " 'cdkn1b',\n",
       " 'cdkn2a',\n",
       " 'cdkn2b',\n",
       " 'cdkn2c',\n",
       " 'chek2',\n",
       " 'cic',\n",
       " 'crebbp',\n",
       " 'ctcf',\n",
       " 'ctla4',\n",
       " 'ctnnb1',\n",
       " 'ddr2',\n",
       " 'dicer1',\n",
       " 'dnmt3a',\n",
       " 'dnmt3b',\n",
       " 'egfr',\n",
       " 'elf3',\n",
       " 'ep300',\n",
       " 'epas1',\n",
       " 'epcam',\n",
       " 'erbb2',\n",
       " 'erbb3',\n",
       " 'erbb4',\n",
       " 'ercc2',\n",
       " 'ercc4',\n",
       " 'erg',\n",
       " 'errfi1',\n",
       " 'esr1',\n",
       " 'etv1',\n",
       " 'etv6',\n",
       " 'ewsr1',\n",
       " 'ezh2',\n",
       " 'fanca',\n",
       " 'fancc',\n",
       " 'fat1',\n",
       " 'fbxw7',\n",
       " 'fgf19',\n",
       " 'fgf3',\n",
       " 'fgfr1',\n",
       " 'fgfr2',\n",
       " 'fgfr3',\n",
       " 'fgfr4',\n",
       " 'flt1',\n",
       " 'flt3',\n",
       " 'foxa1',\n",
       " 'foxl2',\n",
       " 'foxp1',\n",
       " 'fubp1',\n",
       " 'gata3',\n",
       " 'gnaq',\n",
       " 'gnas',\n",
       " 'h3f3a',\n",
       " 'hla',\n",
       " 'hnf1a',\n",
       " 'hras',\n",
       " 'idh1',\n",
       " 'idh2',\n",
       " 'igf1r',\n",
       " 'ikbke',\n",
       " 'ikzf1',\n",
       " 'il7r',\n",
       " 'jak1',\n",
       " 'jak2',\n",
       " 'kdm5a',\n",
       " 'kdm5c',\n",
       " 'kdm6a',\n",
       " 'kdr',\n",
       " 'keap1',\n",
       " 'kit',\n",
       " 'klf4',\n",
       " 'kmt2a',\n",
       " 'kmt2b',\n",
       " 'kmt2c',\n",
       " 'kmt2d',\n",
       " 'knstrn',\n",
       " 'kras',\n",
       " 'lats1',\n",
       " 'lats2',\n",
       " 'map2k1',\n",
       " 'map2k2',\n",
       " 'map2k4',\n",
       " 'map3k1',\n",
       " 'mapk1',\n",
       " 'mdm2',\n",
       " 'mdm4',\n",
       " 'med12',\n",
       " 'mef2b',\n",
       " 'men1',\n",
       " 'met',\n",
       " 'mga',\n",
       " 'mlh1',\n",
       " 'mpl',\n",
       " 'msh2',\n",
       " 'msh6',\n",
       " 'mtor',\n",
       " 'myc',\n",
       " 'mycn',\n",
       " 'myd88',\n",
       " 'myod1',\n",
       " 'nf1',\n",
       " 'nf2',\n",
       " 'nfe2l2',\n",
       " 'nfkbia',\n",
       " 'nkx2',\n",
       " 'notch1',\n",
       " 'notch2',\n",
       " 'npm1',\n",
       " 'nras',\n",
       " 'nsd1',\n",
       " 'ntrk1',\n",
       " 'ntrk2',\n",
       " 'ntrk3',\n",
       " 'nup93',\n",
       " 'pak1',\n",
       " 'pbrm1',\n",
       " 'pdgfra',\n",
       " 'pdgfrb',\n",
       " 'pik3ca',\n",
       " 'pik3cb',\n",
       " 'pik3cd',\n",
       " 'pik3r1',\n",
       " 'pik3r2',\n",
       " 'pim1',\n",
       " 'pms2',\n",
       " 'pole',\n",
       " 'ppm1d',\n",
       " 'ppp2r1a',\n",
       " 'ppp6c',\n",
       " 'prdm1',\n",
       " 'ptch1',\n",
       " 'pten',\n",
       " 'ptpn11',\n",
       " 'ptprd',\n",
       " 'ptprt',\n",
       " 'rac1',\n",
       " 'rad21',\n",
       " 'rad50',\n",
       " 'rad51b',\n",
       " 'rad51c',\n",
       " 'rad51d',\n",
       " 'rad54l',\n",
       " 'raf1',\n",
       " 'rasa1',\n",
       " 'rb1',\n",
       " 'rbm10',\n",
       " 'ret',\n",
       " 'rheb',\n",
       " 'rhoa',\n",
       " 'rictor',\n",
       " 'rit1',\n",
       " 'ros1',\n",
       " 'runx1',\n",
       " 'rxra',\n",
       " 'sdhb',\n",
       " 'setd2',\n",
       " 'sf3b1',\n",
       " 'smad2',\n",
       " 'smad3',\n",
       " 'smad4',\n",
       " 'smarca4',\n",
       " 'smarcb1',\n",
       " 'smo',\n",
       " 'sos1',\n",
       " 'sox9',\n",
       " 'spop',\n",
       " 'src',\n",
       " 'stat3',\n",
       " 'stk11',\n",
       " 'tcf3',\n",
       " 'tert',\n",
       " 'tet1',\n",
       " 'tet2',\n",
       " 'tgfbr1',\n",
       " 'tgfbr2',\n",
       " 'tmprss2',\n",
       " 'tp53',\n",
       " 'tp53bp1',\n",
       " 'tsc1',\n",
       " 'tsc2',\n",
       " 'u2af1',\n",
       " 'vegfa',\n",
       " 'vhl',\n",
       " 'xpo1',\n",
       " 'yap1']"
      ]
     },
     "execution_count": 27,
     "metadata": {},
     "output_type": "execute_result"
    }
   ],
   "source": [
    "gene_vectorizer.get_feature_names()"
   ]
  },
  {
   "cell_type": "code",
   "execution_count": 28,
   "metadata": {},
   "outputs": [
    {
     "name": "stdout",
     "output_type": "stream",
     "text": [
      "train_gene_feature_onehotCoding is converted feature using one-hot encoding method. The shape of gene feature: (2124, 228)\n"
     ]
    }
   ],
   "source": [
    "print(\"train_gene_feature_onehotCoding is converted feature using one-hot encoding method. The shape of gene feature:\", train_gene_feature_onehotCoding.shape)"
   ]
  },
  {
   "cell_type": "code",
   "execution_count": 29,
   "metadata": {},
   "outputs": [],
   "source": [
    "# creating a pandas dataframe of the vectorized features\n",
    "df_gene_train = pd.DataFrame(train_gene_feature_onehotCoding.toarray(), columns=gene_vectorizer.get_feature_names())\n",
    "df_gene_test = pd.DataFrame(test_gene_feature_onehotCoding.toarray(), columns=gene_vectorizer.get_feature_names())\n",
    "df_gene_cv = pd.DataFrame(cv_gene_feature_onehotCoding.toarray(), columns=gene_vectorizer.get_feature_names())"
   ]
  },
  {
   "cell_type": "markdown",
   "metadata": {},
   "source": [
    "<p style=\"font-size:18px;\"> <b>Q4.</b> How good is this gene feature  in predicting y_i?</p>"
   ]
  },
  {
   "cell_type": "markdown",
   "metadata": {},
   "source": [
    "There are many ways to estimate how good a feature is, in predicting y_i. One of the good methods is to build a proper ML model using just this feature. In this case, we will build a logistic regression model using only Gene feature (one hot encoded) to predict y_i."
   ]
  },
  {
   "cell_type": "code",
   "execution_count": 30,
   "metadata": {},
   "outputs": [
    {
     "name": "stdout",
     "output_type": "stream",
     "text": [
      "For values of alpha =  1e-05 The log loss is: 1.4129061133687684\n",
      "For values of alpha =  0.0001 The log loss is: 1.2502555472054693\n",
      "For values of alpha =  0.001 The log loss is: 1.2568517242539028\n",
      "For values of alpha =  0.01 The log loss is: 1.3569493555400833\n",
      "For values of alpha =  0.1 The log loss is: 1.4456877895771556\n",
      "For values of alpha =  1 The log loss is: 1.4809889268039365\n"
     ]
    },
    {
     "data": {
      "image/png": "[encoded data removed]",
      "text/plain": [
       "<matplotlib.figure.Figure at 0x2b11e14fbe0>"
      ]
     },
     "metadata": {
      "needs_background": "light"
     },
     "output_type": "display_data"
    },
    {
     "name": "stdout",
     "output_type": "stream",
     "text": [
      "For values of best alpha =  0.0001 The train log loss is: 1.0075793838032445\n",
      "For values of best alpha =  0.0001 The cross validation log loss is: 1.2502555472054693\n",
      "For values of best alpha =  0.0001 The test log loss is: 1.254159077584749\n"
     ]
    }
   ],
   "source": [
    "alpha = [10 ** x for x in range(-5, 1)] # hyperparam for SGD classifier.\n",
    "\n",
    "# read more about SGDClassifier() at http://scikit-learn.org/stable/modules/generated/sklearn.linear_model.SGDClassifier.html\n",
    "# ------------------------------\n",
    "# default parameters\n",
    "# SGDClassifier(loss=’hinge’, penalty=’l2’, alpha=0.0001, l1_ratio=0.15, fit_intercept=True, max_iter=None, tol=None, \n",
    "# shuffle=True, verbose=0, epsilon=0.1, n_jobs=1, random_state=None, learning_rate=’optimal’, eta0=0.0, power_t=0.5, \n",
    "# class_weight=None, warm_start=False, average=False, n_iter=None)\n",
    "\n",
    "# some of methods\n",
    "# fit(X, y[, coef_init, intercept_init, …])\tFit linear model with Stochastic Gradient Descent.\n",
    "# predict(X)\tPredict class labels for samples in X.\n",
    "\n",
    "#-------------------------------\n",
    "# video link: \n",
    "#------------------------------\n",
    "\n",
    "\n",
    "cv_log_error_array=[]\n",
    "for i in alpha:\n",
    "    clf = SGDClassifier(alpha=i, penalty='l2', loss='log', random_state=42)\n",
    "    clf.fit(train_gene_feature_onehotCoding, y_train)\n",
    "    sig_clf = CalibratedClassifierCV(clf, method=\"sigmoid\")\n",
    "    sig_clf.fit(train_gene_feature_onehotCoding, y_train)\n",
    "    predict_y = sig_clf.predict_proba(cv_gene_feature_onehotCoding)\n",
    "    cv_log_error_array.append(log_loss(y_cv, predict_y, labels=clf.classes_, eps=1e-15))\n",
    "    print('For values of alpha = ', i, \"The log loss is:\",log_loss(y_cv, predict_y, labels=clf.classes_, eps=1e-15))\n",
    "\n",
    "fig, ax = plt.subplots()\n",
    "ax.plot(alpha, cv_log_error_array,c='g')\n",
    "for i, txt in enumerate(np.round(cv_log_error_array,3)):\n",
    "    ax.annotate((alpha[i],np.round(txt,3)), (alpha[i],cv_log_error_array[i]))\n",
    "plt.grid()\n",
    "plt.title(\"Cross Validation Error for each alpha\")\n",
    "plt.xlabel(\"Alpha i's\")\n",
    "plt.ylabel(\"Error measure\")\n",
    "plt.show()\n",
    "\n",
    "\n",
    "best_alpha = np.argmin(cv_log_error_array)\n",
    "clf = SGDClassifier(alpha=alpha[best_alpha], penalty='l2', loss='log', random_state=42)\n",
    "clf.fit(train_gene_feature_onehotCoding, y_train)\n",
    "sig_clf = CalibratedClassifierCV(clf, method=\"sigmoid\")\n",
    "sig_clf.fit(train_gene_feature_onehotCoding, y_train)\n",
    "\n",
    "predict_y = sig_clf.predict_proba(train_gene_feature_onehotCoding)\n",
    "print('For values of best alpha = ', alpha[best_alpha], \"The train log loss is:\",log_loss(y_train, predict_y, labels=clf.classes_, eps=1e-15))\n",
    "predict_y = sig_clf.predict_proba(cv_gene_feature_onehotCoding)\n",
    "print('For values of best alpha = ', alpha[best_alpha], \"The cross validation log loss is:\",log_loss(y_cv, predict_y, labels=clf.classes_, eps=1e-15))\n",
    "predict_y = sig_clf.predict_proba(test_gene_feature_onehotCoding)\n",
    "print('For values of best alpha = ', alpha[best_alpha], \"The test log loss is:\",log_loss(y_test, predict_y, labels=clf.classes_, eps=1e-15))\n"
   ]
  },
  {
   "cell_type": "markdown",
   "metadata": {},
   "source": [
    "<p style=\"font-size:18px;\"> <b>Q5.</b> Is the Gene feature stable across all the data sets (Test, Train, Cross validation)?</p>\n",
    "<p style=\"font-size:16px;\"> <b>Ans.</b> Yes, it is. Otherwise, the CV and Test errors would be significantly more than train error. </p>"
   ]
  },
  {
   "cell_type": "code",
   "execution_count": 31,
   "metadata": {},
   "outputs": [
    {
     "name": "stdout",
     "output_type": "stream",
     "text": [
      "Q6. How many data points in Test and CV datasets are covered by the  228  genes in train dataset?\n",
      "Ans\n",
      "1. In test data 637 out of 665 : 95.78947368421052\n",
      "2. In cross validation data 519 out of  532 : 97.55639097744361\n"
     ]
    }
   ],
   "source": [
    "print(\"Q6. How many data points in Test and CV datasets are covered by the \", unique_genes.shape[0], \" genes in train dataset?\")\n",
    "\n",
    "test_coverage=test_df[test_df['Gene'].isin(list(set(train_df['Gene'])))].shape[0]\n",
    "cv_coverage=cv_df[cv_df['Gene'].isin(list(set(train_df['Gene'])))].shape[0]\n",
    "\n",
    "print('Ans\\n1. In test data',test_coverage, 'out of',test_df.shape[0], \":\",(test_coverage/test_df.shape[0])*100)\n",
    "print('2. In cross validation data',cv_coverage, 'out of ',cv_df.shape[0],\":\" ,(cv_coverage/cv_df.shape[0])*100)"
   ]
  },
  {
   "cell_type": "markdown",
   "metadata": {},
   "source": [
    "<h3>3.2.2 Univariate Analysis on Variation Feature</h3>"
   ]
  },
  {
   "cell_type": "markdown",
   "metadata": {},
   "source": [
    "<p style=\"font-size:18px;\"> <b>Q7.</b> Variation, What type of feature is it ?</p>\n",
    "<p style=\"font-size:16px;\"><b>Ans.</b> Variation is a categorical variable </p>\n",
    "<p style=\"font-size:18px;\"> <b>Q8.</b> How many categories are there?</p>"
   ]
  },
  {
   "cell_type": "code",
   "execution_count": 32,
   "metadata": {},
   "outputs": [
    {
     "name": "stdout",
     "output_type": "stream",
     "text": [
      "Number of Unique Variations : 1927\n",
      "Truncating_Mutations         54\n",
      "Deletion                     49\n",
      "Amplification                43\n",
      "Fusions                      27\n",
      "G12V                          4\n",
      "Overexpression                4\n",
      "E17K                          3\n",
      "Q61R                          3\n",
      "Promoter_Hypermethylation     2\n",
      "R841K                         2\n",
      "Name: Variation, dtype: int64\n"
     ]
    }
   ],
   "source": [
    "unique_variations = train_df['Variation'].value_counts()\n",
    "print('Number of Unique Variations :', unique_variations.shape[0])\n",
    "# the top 10 variations that occured most\n",
    "print(unique_variations.head(10))"
   ]
  },
  {
   "cell_type": "code",
   "execution_count": 33,
   "metadata": {
    "scrolled": true
   },
   "outputs": [
    {
     "name": "stdout",
     "output_type": "stream",
     "text": [
      "Ans: There are 1927 different categories of variations in the train data, and they are distibuted as follows\n"
     ]
    }
   ],
   "source": [
    "print(\"Ans: There are\", unique_variations.shape[0] ,\"different categories of variations in the train data, and they are distibuted as follows\",)"
   ]
  },
  {
   "cell_type": "code",
   "execution_count": 34,
   "metadata": {},
   "outputs": [
    {
     "data": {
      "image/png": "[encoded data removed]",
      "text/plain": [
       "<matplotlib.figure.Figure at 0x2b11e127550>"
      ]
     },
     "metadata": {
      "needs_background": "light"
     },
     "output_type": "display_data"
    }
   ],
   "source": [
    "s = sum(unique_variations.values);\n",
    "h = unique_variations.values/s;\n",
    "plt.plot(h, label=\"Histrogram of Variations\")\n",
    "plt.xlabel('Index of a Variation')\n",
    "plt.ylabel('Number of Occurances')\n",
    "plt.legend()\n",
    "plt.grid()\n",
    "plt.show()"
   ]
  },
  {
   "cell_type": "code",
   "execution_count": 35,
   "metadata": {},
   "outputs": [
    {
     "name": "stdout",
     "output_type": "stream",
     "text": [
      "[0.02542373 0.04849341 0.06873823 ... 0.99905838 0.99952919 1.        ]\n"
     ]
    },
    {
     "data": {
      "image/png": "[encoded data removed]",
      "text/plain": [
       "<matplotlib.figure.Figure at 0x2b11e0d0c88>"
      ]
     },
     "metadata": {
      "needs_background": "light"
     },
     "output_type": "display_data"
    }
   ],
   "source": [
    "c = np.cumsum(h)\n",
    "print(c)\n",
    "plt.plot(c,label='Cumulative distribution of Variations')\n",
    "plt.grid()\n",
    "plt.legend()\n",
    "plt.show()"
   ]
  },
  {
   "cell_type": "markdown",
   "metadata": {},
   "source": [
    "<p style=\"font-size:18px;\"> <b>Q9.</b> How to featurize this Variation feature ?</p>\n",
    "\n",
    "<p style=\"font-size:16px;\"><b>Ans.</b>There are two ways we can featurize this variable\n",
    "check out this video: https://www.appliedaicourse.com/course/applied-ai-course-online/lessons/handling-categorical-and-numerical-features/\n",
    "<ol><li>One hot Encoding</li><li>Response coding</li></ol></p>\n",
    "<p> We will be using both these methods to featurize the Variation Feature </p>"
   ]
  },
  {
   "cell_type": "code",
   "execution_count": 36,
   "metadata": {},
   "outputs": [],
   "source": [
    "# alpha is used for laplace smoothing\n",
    "alpha = 1\n",
    "# train gene feature\n",
    "train_variation_feature_responseCoding = np.array(get_gv_feature(alpha, \"Variation\", train_df))\n",
    "# test gene feature\n",
    "test_variation_feature_responseCoding = np.array(get_gv_feature(alpha, \"Variation\", test_df))\n",
    "# cross validation gene feature\n",
    "cv_variation_feature_responseCoding = np.array(get_gv_feature(alpha, \"Variation\", cv_df))"
   ]
  },
  {
   "cell_type": "code",
   "execution_count": 37,
   "metadata": {},
   "outputs": [
    {
     "name": "stdout",
     "output_type": "stream",
     "text": [
      "train_variation_feature_responseCoding is a converted feature using the response coding method. The shape of Variation feature: (2124, 9)\n"
     ]
    }
   ],
   "source": [
    "print(\"train_variation_feature_responseCoding is a converted feature using the response coding method. The shape of Variation feature:\", train_variation_feature_responseCoding.shape)"
   ]
  },
  {
   "cell_type": "code",
   "execution_count": 38,
   "metadata": {},
   "outputs": [],
   "source": [
    "# one-hot encoding of variation feature.\n",
    "variation_vectorizer = CountVectorizer()\n",
    "train_variation_feature_onehotCoding = variation_vectorizer.fit_transform(train_df['Variation'])\n",
    "test_variation_feature_onehotCoding = variation_vectorizer.transform(test_df['Variation'])\n",
    "cv_variation_feature_onehotCoding = variation_vectorizer.transform(cv_df['Variation'])"
   ]
  },
  {
   "cell_type": "code",
   "execution_count": 39,
   "metadata": {},
   "outputs": [
    {
     "name": "stdout",
     "output_type": "stream",
     "text": [
      "train_variation_feature_onehotEncoded is converted feature using the onne-hot encoding method. The shape of Variation feature: (2124, 1958)\n"
     ]
    }
   ],
   "source": [
    "print(\"train_variation_feature_onehotEncoded is converted feature using the onne-hot encoding method. The shape of Variation feature:\", train_variation_feature_onehotCoding.shape)"
   ]
  },
  {
   "cell_type": "code",
   "execution_count": 40,
   "metadata": {},
   "outputs": [],
   "source": [
    "df_var_train = pd.DataFrame(train_variation_feature_onehotCoding.toarray(), columns=variation_vectorizer.get_feature_names())\n",
    "df_var_test = pd.DataFrame(test_variation_feature_onehotCoding.toarray(), columns=variation_vectorizer.get_feature_names())\n",
    "df_var_cv = pd.DataFrame(cv_variation_feature_onehotCoding.toarray(), columns=variation_vectorizer.get_feature_names())"
   ]
  },
  {
   "cell_type": "markdown",
   "metadata": {},
   "source": [
    "<p style=\"font-size:18px;\"> <b>Q10.</b> How good is this Variation feature  in predicting y_i?</p>"
   ]
  },
  {
   "cell_type": "markdown",
   "metadata": {},
   "source": [
    "Let's build a model just like the earlier!"
   ]
  },
  {
   "cell_type": "code",
   "execution_count": 41,
   "metadata": {
    "scrolled": false
   },
   "outputs": [
    {
     "name": "stdout",
     "output_type": "stream",
     "text": [
      "For values of alpha =  1e-05 The log loss is: 1.7047361282912894\n",
      "For values of alpha =  0.0001 The log loss is: 1.6882913785054303\n",
      "For values of alpha =  0.001 The log loss is: 1.689145279915313\n",
      "For values of alpha =  0.01 The log loss is: 1.6977533776879148\n",
      "For values of alpha =  0.1 The log loss is: 1.7115405717482772\n",
      "For values of alpha =  1 The log loss is: 1.7142829053992645\n"
     ]
    },
    {
     "data": {
      "image/png": "[encoded data removed]",
      "text/plain": [
       "<matplotlib.figure.Figure at 0x2b11db13c50>"
      ]
     },
     "metadata": {
      "needs_background": "light"
     },
     "output_type": "display_data"
    },
    {
     "name": "stdout",
     "output_type": "stream",
     "text": [
      "For values of best alpha =  0.0001 The train log loss is: 0.7078442192211298\n",
      "For values of best alpha =  0.0001 The cross validation log loss is: 1.6882913785054303\n",
      "For values of best alpha =  0.0001 The test log loss is: 1.713597565203298\n"
     ]
    }
   ],
   "source": [
    "alpha = [10 ** x for x in range(-5, 1)]\n",
    "\n",
    "# read more about SGDClassifier() at http://scikit-learn.org/stable/modules/generated/sklearn.linear_model.SGDClassifier.html\n",
    "# ------------------------------\n",
    "# default parameters\n",
    "# SGDClassifier(loss=’hinge’, penalty=’l2’, alpha=0.0001, l1_ratio=0.15, fit_intercept=True, max_iter=None, tol=None, \n",
    "# shuffle=True, verbose=0, epsilon=0.1, n_jobs=1, random_state=None, learning_rate=’optimal’, eta0=0.0, power_t=0.5, \n",
    "# class_weight=None, warm_start=False, average=False, n_iter=None)\n",
    "\n",
    "# some of methods\n",
    "# fit(X, y[, coef_init, intercept_init, …])\tFit linear model with Stochastic Gradient Descent.\n",
    "# predict(X)\tPredict class labels for samples in X.\n",
    "\n",
    "#-------------------------------\n",
    "# video link: \n",
    "#------------------------------\n",
    "\n",
    "\n",
    "cv_log_error_array=[]\n",
    "for i in alpha:\n",
    "    clf = SGDClassifier(alpha=i, penalty='l2', loss='log', random_state=42)\n",
    "    clf.fit(train_variation_feature_onehotCoding, y_train)\n",
    "    \n",
    "    sig_clf = CalibratedClassifierCV(clf, method=\"sigmoid\")\n",
    "    sig_clf.fit(train_variation_feature_onehotCoding, y_train)\n",
    "    predict_y = sig_clf.predict_proba(cv_variation_feature_onehotCoding)\n",
    "    \n",
    "    cv_log_error_array.append(log_loss(y_cv, predict_y, labels=clf.classes_, eps=1e-15))\n",
    "    print('For values of alpha = ', i, \"The log loss is:\",log_loss(y_cv, predict_y, labels=clf.classes_, eps=1e-15))\n",
    "\n",
    "fig, ax = plt.subplots()\n",
    "ax.plot(alpha, cv_log_error_array,c='g')\n",
    "for i, txt in enumerate(np.round(cv_log_error_array,3)):\n",
    "    ax.annotate((alpha[i],np.round(txt,3)), (alpha[i],cv_log_error_array[i]))\n",
    "plt.grid()\n",
    "plt.title(\"Cross Validation Error for each alpha\")\n",
    "plt.xlabel(\"Alpha i's\")\n",
    "plt.ylabel(\"Error measure\")\n",
    "plt.show()\n",
    "\n",
    "\n",
    "best_alpha = np.argmin(cv_log_error_array)\n",
    "clf = SGDClassifier(alpha=alpha[best_alpha], penalty='l2', loss='log', random_state=42)\n",
    "clf.fit(train_variation_feature_onehotCoding, y_train)\n",
    "sig_clf = CalibratedClassifierCV(clf, method=\"sigmoid\")\n",
    "sig_clf.fit(train_variation_feature_onehotCoding, y_train)\n",
    "\n",
    "predict_y = sig_clf.predict_proba(train_variation_feature_onehotCoding)\n",
    "print('For values of best alpha = ', alpha[best_alpha], \"The train log loss is:\",log_loss(y_train, predict_y, labels=clf.classes_, eps=1e-15))\n",
    "predict_y = sig_clf.predict_proba(cv_variation_feature_onehotCoding)\n",
    "print('For values of best alpha = ', alpha[best_alpha], \"The cross validation log loss is:\",log_loss(y_cv, predict_y, labels=clf.classes_, eps=1e-15))\n",
    "predict_y = sig_clf.predict_proba(test_variation_feature_onehotCoding)\n",
    "print('For values of best alpha = ', alpha[best_alpha], \"The test log loss is:\",log_loss(y_test, predict_y, labels=clf.classes_, eps=1e-15))\n"
   ]
  },
  {
   "cell_type": "markdown",
   "metadata": {},
   "source": [
    "<p style=\"font-size:18px;\"> <b>Q11.</b> Is the Variation feature stable across all the data sets (Test, Train, Cross validation)?</p>\n",
    "<p style=\"font-size:16px;\"> <b>Ans.</b> Not sure! But lets be very sure using the below analysis. </p>"
   ]
  },
  {
   "cell_type": "code",
   "execution_count": 42,
   "metadata": {
    "scrolled": true
   },
   "outputs": [
    {
     "name": "stdout",
     "output_type": "stream",
     "text": [
      "Q12. How many data points are covered by total  1927  genes in test and cross validation data sets?\n",
      "Ans\n",
      "1. In test data 66 out of 665 : 9.924812030075188\n",
      "2. In cross validation data 60 out of  532 : 11.278195488721805\n"
     ]
    }
   ],
   "source": [
    "print(\"Q12. How many data points are covered by total \", unique_variations.shape[0], \" genes in test and cross validation data sets?\")\n",
    "test_coverage=test_df[test_df['Variation'].isin(list(set(train_df['Variation'])))].shape[0]\n",
    "cv_coverage=cv_df[cv_df['Variation'].isin(list(set(train_df['Variation'])))].shape[0]\n",
    "print('Ans\\n1. In test data',test_coverage, 'out of',test_df.shape[0], \":\",(test_coverage/test_df.shape[0])*100)\n",
    "print('2. In cross validation data',cv_coverage, 'out of ',cv_df.shape[0],\":\" ,(cv_coverage/cv_df.shape[0])*100)"
   ]
  },
  {
   "cell_type": "markdown",
   "metadata": {},
   "source": [
    "\n",
    "\n",
    "<h3>Univariate Analysis on Gene and Variantion</h3>"
   ]
  },
  {
   "cell_type": "code",
   "execution_count": 43,
   "metadata": {},
   "outputs": [
    {
     "name": "stdout",
     "output_type": "stream",
     "text": [
      "Number of Unique Gene+Variations : 2124\n",
      "BRCA1 K45Q                1\n",
      "ROS1 G1971E               1\n",
      "TP53 H179Q                1\n",
      "NTRK1 TFG-NTRK1 Fusion    1\n",
      "TP53 R342P                1\n",
      "ERBB4 EZR-ERBB4 Fusion    1\n",
      "BRCA1 Y179C               1\n",
      "CDK8 Amplification        1\n",
      "BRCA1 Q1826H              1\n",
      "BRCA1 M1628V              1\n",
      "Name: Gene_and_Variation, dtype: int64\n"
     ]
    }
   ],
   "source": [
    "unique_gene_variations = train_df['Gene_and_Variation'].value_counts()\n",
    "print('Number of Unique Gene+Variations :', unique_gene_variations.shape[0])\n",
    "# the top 10 variations that occured most\n",
    "print(unique_gene_variations.head(10))"
   ]
  },
  {
   "cell_type": "code",
   "execution_count": 44,
   "metadata": {},
   "outputs": [],
   "source": [
    "# Featurizing the Gene_and_Variation Feature\n",
    "# alpha is used for laplace smoothing\n",
    "alpha = 1\n",
    "# train gene feature\n",
    "train_gene_and_variation_feature_responseCoding = np.array(get_gv_feature(alpha, \"Gene_and_Variation\", train_df))\n",
    "# test gene feature\n",
    "test_gene_and_variation_feature_responseCoding = np.array(get_gv_feature(alpha, \"Gene_and_Variation\", test_df))\n",
    "# cross validation gene feature\n",
    "cv_gene_and_variation_feature_responseCoding = np.array(get_gv_feature(alpha, \"Gene_and_Variation\", cv_df))"
   ]
  },
  {
   "cell_type": "code",
   "execution_count": 45,
   "metadata": {},
   "outputs": [],
   "source": [
    "# one-hot encoding of gene_and_variation feature.\n",
    "gene_variation_vectorizer = CountVectorizer()\n",
    "train_gene_and_variation_feature_onehotCoding = gene_variation_vectorizer.fit_transform(train_df[\"Gene_and_Variation\"])\n",
    "test_gene_and_variation_feature_onehotCoding = gene_variation_vectorizer.transform(test_df[\"Gene_and_Variation\"])\n",
    "cv_gene_and_variation_feature_onehotCoding = gene_variation_vectorizer.transform(cv_df[\"Gene_and_Variation\"])"
   ]
  },
  {
   "cell_type": "code",
   "execution_count": 46,
   "metadata": {},
   "outputs": [],
   "source": [
    "df_geneandvar_train = pd.DataFrame(train_gene_and_variation_feature_onehotCoding.toarray(), columns=gene_variation_vectorizer.get_feature_names())\n",
    "df_geneandvar_test = pd.DataFrame(test_gene_and_variation_feature_onehotCoding.toarray(), columns=gene_variation_vectorizer.get_feature_names())\n",
    "df_geneandvar_cv = pd.DataFrame(cv_gene_and_variation_feature_onehotCoding.toarray(), columns=gene_variation_vectorizer.get_feature_names())"
   ]
  },
  {
   "cell_type": "code",
   "execution_count": 47,
   "metadata": {},
   "outputs": [
    {
     "name": "stdout",
     "output_type": "stream",
     "text": [
      "For values of alpha =  1e-05 The log loss is: 1.2034085300924406\n",
      "For values of alpha =  0.0001 The log loss is: 1.1457267840315175\n",
      "For values of alpha =  0.001 The log loss is: 1.1475481915328012\n",
      "For values of alpha =  0.01 The log loss is: 1.2191357099922744\n",
      "For values of alpha =  0.1 The log loss is: 1.2645643329770224\n",
      "For values of alpha =  1 The log loss is: 1.2803119247454404\n"
     ]
    },
    {
     "data": {
      "image/png": "[encoded data removed]",
      "text/plain": [
       "<matplotlib.figure.Figure at 0x2b11e0432b0>"
      ]
     },
     "metadata": {
      "needs_background": "light"
     },
     "output_type": "display_data"
    },
    {
     "name": "stdout",
     "output_type": "stream",
     "text": [
      "For values of best alpha =  0.0001 The train log loss is: 0.5033988213954118\n",
      "For values of best alpha =  0.0001 The cross validation log loss is: 1.1457267840315175\n",
      "For values of best alpha =  0.0001 The test log loss is: 1.1712808900422496\n"
     ]
    }
   ],
   "source": [
    "alpha = [10 ** x for x in range(-5, 1)]\n",
    "\n",
    "\n",
    "cv_log_error_array=[]\n",
    "for i in alpha:\n",
    "    clf = SGDClassifier(alpha=i, penalty='l2', loss='log', random_state=42)\n",
    "    clf.fit(df_geneandvar_train, y_train)\n",
    "    \n",
    "    sig_clf = CalibratedClassifierCV(clf, method=\"sigmoid\")\n",
    "    sig_clf.fit(df_geneandvar_train, y_train)\n",
    "    predict_y = sig_clf.predict_proba(df_geneandvar_cv)\n",
    "    \n",
    "    cv_log_error_array.append(log_loss(y_cv, predict_y, labels=clf.classes_, eps=1e-15))\n",
    "    print('For values of alpha = ', i, \"The log loss is:\",log_loss(y_cv, predict_y, labels=clf.classes_, eps=1e-15))\n",
    "\n",
    "fig, ax = plt.subplots()\n",
    "ax.plot(alpha, cv_log_error_array,c='g')\n",
    "for i, txt in enumerate(np.round(cv_log_error_array,3)):\n",
    "    ax.annotate((alpha[i],np.round(txt,3)), (alpha[i],cv_log_error_array[i]))\n",
    "plt.grid()\n",
    "plt.title(\"Cross Validation Error for each alpha\")\n",
    "plt.xlabel(\"Alpha i's\")\n",
    "plt.ylabel(\"Error measure\")\n",
    "plt.show()\n",
    "\n",
    "\n",
    "best_alpha = np.argmin(cv_log_error_array)\n",
    "clf = SGDClassifier(alpha=alpha[best_alpha], penalty='l2', loss='log', random_state=42)\n",
    "clf.fit(df_geneandvar_train, y_train)\n",
    "sig_clf = CalibratedClassifierCV(clf, method=\"sigmoid\")\n",
    "sig_clf.fit(df_geneandvar_train, y_train)\n",
    "\n",
    "predict_y = sig_clf.predict_proba(df_geneandvar_train)\n",
    "print('For values of best alpha = ', alpha[best_alpha], \"The train log loss is:\",log_loss(y_train, predict_y, labels=clf.classes_, eps=1e-15))\n",
    "predict_y = sig_clf.predict_proba(df_geneandvar_cv)\n",
    "print('For values of best alpha = ', alpha[best_alpha], \"The cross validation log loss is:\",log_loss(y_cv, predict_y, labels=clf.classes_, eps=1e-15))\n",
    "predict_y = sig_clf.predict_proba(df_geneandvar_test)\n",
    "print('For values of best alpha = ', alpha[best_alpha], \"The test log loss is:\",log_loss(y_test, predict_y, labels=clf.classes_, eps=1e-15))"
   ]
  },
  {
   "cell_type": "markdown",
   "metadata": {},
   "source": [
    "<h3>UA on Text Count</h3>"
   ]
  },
  {
   "cell_type": "code",
   "execution_count": 48,
   "metadata": {},
   "outputs": [
    {
     "name": "stdout",
     "output_type": "stream",
     "text": [
      "For values of alpha =  1e-05 The log loss is: 1.8195978987409085\n",
      "For values of alpha =  0.0001 The log loss is: 1.8195978987402217\n",
      "For values of alpha =  0.001 The log loss is: 1.8171065741475736\n",
      "For values of alpha =  0.01 The log loss is: 1.8060962557176115\n",
      "For values of alpha =  0.1 The log loss is: 1.8062763406177758\n",
      "For values of alpha =  1 The log loss is: 1.8061958621842882\n"
     ]
    },
    {
     "data": {
      "image/png": "[encoded data removed]",
      "text/plain": [
       "<matplotlib.figure.Figure at 0x2b11dfb3dd8>"
      ]
     },
     "metadata": {
      "needs_background": "light"
     },
     "output_type": "display_data"
    },
    {
     "name": "stdout",
     "output_type": "stream",
     "text": [
      "For values of best alpha =  0.01 The train log loss is: 1.8136198371390575\n",
      "For values of best alpha =  0.01 The cross validation log loss is: 1.8060962557176115\n",
      "For values of best alpha =  0.01 The test log loss is: 1.8122327536759129\n"
     ]
    }
   ],
   "source": [
    "\n",
    "# Predictive Power of Feature - TextCount\n",
    "\n",
    "alpha = [10 ** x for x in range(-5, 1)]\n",
    "\n",
    "\n",
    "cv_log_error_array=[]\n",
    "for i in alpha:\n",
    "    clf = SGDClassifier(alpha=i, penalty='l2', loss='log', random_state=42)\n",
    "    clf.fit(train_df[\"Text_Count\"].reshape(-1,1), y_train)\n",
    "    \n",
    "    sig_clf = CalibratedClassifierCV(clf, method=\"sigmoid\")\n",
    "    sig_clf.fit(train_df.Text_Count.reshape(-1,1), y_train)\n",
    "    predict_y = sig_clf.predict_proba(cv_df.Text_Count.reshape(-1,1))\n",
    "    \n",
    "    cv_log_error_array.append(log_loss(y_cv, predict_y, labels=clf.classes_, eps=1e-15))\n",
    "    print('For values of alpha = ', i, \"The log loss is:\",log_loss(y_cv, predict_y, labels=clf.classes_, eps=1e-15))\n",
    "\n",
    "fig, ax = plt.subplots()\n",
    "ax.plot(alpha, cv_log_error_array,c='g')\n",
    "for i, txt in enumerate(np.round(cv_log_error_array,3)):\n",
    "    ax.annotate((alpha[i],np.round(txt,3)), (alpha[i],cv_log_error_array[i]))\n",
    "plt.grid()\n",
    "plt.title(\"Cross Validation Error for each alpha\")\n",
    "plt.xlabel(\"Alpha i's\")\n",
    "plt.ylabel(\"Error measure\")\n",
    "plt.show()\n",
    "\n",
    "\n",
    "best_alpha = np.argmin(cv_log_error_array)\n",
    "clf = SGDClassifier(alpha=alpha[best_alpha], penalty='l2', loss='log', random_state=42)\n",
    "clf.fit(train_df.Text_Count.reshape(-1,1), y_train)\n",
    "sig_clf = CalibratedClassifierCV(clf, method=\"sigmoid\")\n",
    "sig_clf.fit(train_df.Text_Count.reshape(-1,1), y_train)\n",
    "\n",
    "predict_y = sig_clf.predict_proba(train_df.Text_Count.reshape(-1,1))\n",
    "print('For values of best alpha = ', alpha[best_alpha], \"The train log loss is:\",log_loss(y_train, predict_y, labels=clf.classes_, eps=1e-15))\n",
    "predict_y = sig_clf.predict_proba(cv_df.Text_Count.reshape(-1,1))\n",
    "print('For values of best alpha = ', alpha[best_alpha], \"The cross validation log loss is:\",log_loss(y_cv, predict_y, labels=clf.classes_, eps=1e-15))\n",
    "predict_y = sig_clf.predict_proba(test_df.Text_Count.reshape(-1,1))\n",
    "print('For values of best alpha = ', alpha[best_alpha], \"The test log loss is:\",log_loss(y_test, predict_y, labels=clf.classes_, eps=1e-15))"
   ]
  },
  {
   "cell_type": "markdown",
   "metadata": {},
   "source": [
    "<h3>UA on Text Count_5000</h3>"
   ]
  },
  {
   "cell_type": "code",
   "execution_count": 49,
   "metadata": {},
   "outputs": [
    {
     "name": "stdout",
     "output_type": "stream",
     "text": [
      "For values of alpha =  1e-05 The log loss is: 1.8279551471205597\n",
      "For values of alpha =  0.0001 The log loss is: 1.8279551492785313\n",
      "For values of alpha =  0.001 The log loss is: 1.8279551486465573\n",
      "For values of alpha =  0.01 The log loss is: 1.827955149775673\n",
      "For values of alpha =  0.1 The log loss is: 1.8279551492735893\n",
      "For values of alpha =  1 The log loss is: 1.827955148430835\n"
     ]
    },
    {
     "data": {
      "image/png": "[encoded data removed]",
      "text/plain": [
       "<matplotlib.figure.Figure at 0x2b10a7e2860>"
      ]
     },
     "metadata": {
      "needs_background": "light"
     },
     "output_type": "display_data"
    },
    {
     "name": "stdout",
     "output_type": "stream",
     "text": [
      "For values of best alpha =  1e-05 The train log loss is: 1.8182116892934925\n",
      "For values of best alpha =  1e-05 The cross validation log loss is: 1.8279551471205597\n",
      "For values of best alpha =  1e-05 The test log loss is: 1.819752763706176\n"
     ]
    }
   ],
   "source": [
    "# Predictive Power of Feature - TextCount_5000\n",
    "\n",
    "alpha = [10 ** x for x in range(-5, 1)]\n",
    "\n",
    "\n",
    "cv_log_error_array=[]\n",
    "for i in alpha:\n",
    "    clf = SGDClassifier(alpha=i, penalty='l2', loss='log', random_state=42)\n",
    "    clf.fit(train_df[\"Text_Count_5000\"].reshape(-1,1), y_train)\n",
    "    \n",
    "    sig_clf = CalibratedClassifierCV(clf, method=\"sigmoid\")\n",
    "    sig_clf.fit(train_df.Text_Count_5000.reshape(-1,1), y_train)\n",
    "    predict_y = sig_clf.predict_proba(cv_df.Text_Count_5000.reshape(-1,1))\n",
    "    \n",
    "    cv_log_error_array.append(log_loss(y_cv, predict_y, labels=clf.classes_, eps=1e-15))\n",
    "    print('For values of alpha = ', i, \"The log loss is:\",log_loss(y_cv, predict_y, labels=clf.classes_, eps=1e-15))\n",
    "\n",
    "fig, ax = plt.subplots()\n",
    "ax.plot(alpha, cv_log_error_array,c='g')\n",
    "for i, txt in enumerate(np.round(cv_log_error_array,3)):\n",
    "    ax.annotate((alpha[i],np.round(txt,3)), (alpha[i],cv_log_error_array[i]))\n",
    "plt.grid()\n",
    "plt.title(\"Cross Validation Error for each alpha\")\n",
    "plt.xlabel(\"Alpha i's\")\n",
    "plt.ylabel(\"Error measure\")\n",
    "plt.show()\n",
    "\n",
    "\n",
    "best_alpha = np.argmin(cv_log_error_array)\n",
    "clf = SGDClassifier(alpha=alpha[best_alpha], penalty='l2', loss='log', random_state=42)\n",
    "clf.fit(train_df.Text_Count_5000.reshape(-1,1), y_train)\n",
    "sig_clf = CalibratedClassifierCV(clf, method=\"sigmoid\")\n",
    "sig_clf.fit(train_df.Text_Count_5000.reshape(-1,1), y_train)\n",
    "\n",
    "predict_y = sig_clf.predict_proba(train_df.Text_Count_5000.reshape(-1,1))\n",
    "print('For values of best alpha = ', alpha[best_alpha], \"The train log loss is:\",log_loss(y_train, predict_y, labels=clf.classes_, eps=1e-15))\n",
    "predict_y = sig_clf.predict_proba(cv_df.Text_Count_5000.reshape(-1,1))\n",
    "print('For values of best alpha = ', alpha[best_alpha], \"The cross validation log loss is:\",log_loss(y_cv, predict_y, labels=clf.classes_, eps=1e-15))\n",
    "predict_y = sig_clf.predict_proba(test_df.Text_Count_5000.reshape(-1,1))\n",
    "print('For values of best alpha = ', alpha[best_alpha], \"The test log loss is:\",log_loss(y_test, predict_y, labels=clf.classes_, eps=1e-15))"
   ]
  },
  {
   "cell_type": "code",
   "execution_count": null,
   "metadata": {},
   "outputs": [],
   "source": []
  },
  {
   "cell_type": "markdown",
   "metadata": {},
   "source": [
    "<h3>3.2.3 Univariate Analysis on Text Feature</h3>"
   ]
  },
  {
   "cell_type": "markdown",
   "metadata": {},
   "source": [
    "1. How many unique words are present in train data?\n",
    "2. How are word frequencies distributed?\n",
    "3. How to featurize text field?\n",
    "4. Is the text feature useful in predicitng y_i?\n",
    "5. Is the text feature stable across train, test and CV datasets?"
   ]
  },
  {
   "cell_type": "code",
   "execution_count": 50,
   "metadata": {},
   "outputs": [],
   "source": [
    "# cls_text is a data frame\n",
    "# for every row in data fram consider the 'TEXT'\n",
    "# split the words by space\n",
    "# make a dict with those words\n",
    "# increment its count whenever we see that word\n",
    "\n",
    "def extract_dictionary_paddle(cls_text):\n",
    "    dictionary = defaultdict(int)\n",
    "    for index, row in cls_text.iterrows():\n",
    "        for word in row['TEXT'].split():\n",
    "            dictionary[word] +=1\n",
    "    return dictionary"
   ]
  },
  {
   "cell_type": "code",
   "execution_count": 51,
   "metadata": {},
   "outputs": [],
   "source": [
    "import math\n",
    "#https://stackoverflow.com/a/1602964\n",
    "def get_text_responsecoding(df):\n",
    "    text_feature_responseCoding = np.zeros((df.shape[0],9))\n",
    "    for i in range(0,9):\n",
    "        row_index = 0\n",
    "        for index, row in df.iterrows():\n",
    "            sum_prob = 0\n",
    "            for word in row['TEXT'].split():\n",
    "                sum_prob += math.log(((dict_list[i].get(word,0)+10 )/(total_dict.get(word,0)+90)))\n",
    "            text_feature_responseCoding[row_index][i] = math.exp(sum_prob/len(row['TEXT'].split()))\n",
    "            row_index += 1\n",
    "    return text_feature_responseCoding"
   ]
  },
  {
   "cell_type": "code",
   "execution_count": 52,
   "metadata": {},
   "outputs": [
    {
     "name": "stdout",
     "output_type": "stream",
     "text": [
      "Total number of unique words in train data : 2000\n"
     ]
    }
   ],
   "source": [
    "# building a CountVectorizer with all the words that occured minimum 3 times in train data\n",
    "text_vectorizer = TfidfVectorizer(min_df=3,ngram_range=(1,4),max_features=2000)\n",
    "train_text_feature_onehotCoding = text_vectorizer.fit_transform(train_df['TEXT'])\n",
    "# getting all the feature names (words)\n",
    "train_text_features= text_vectorizer.get_feature_names()\n",
    "\n",
    "# train_text_feature_onehotCoding.sum(axis=0).A1 will sum every row and returns (1*number of features) vector\n",
    "train_text_fea_counts = train_text_feature_onehotCoding.sum(axis=0).A1\n",
    "\n",
    "# zip(list(text_features),text_fea_counts) will zip a word with its number of times it occured\n",
    "text_fea_dict = dict(zip(list(train_text_features),train_text_fea_counts))\n",
    "\n",
    "\n",
    "print(\"Total number of unique words in train data :\", len(train_text_features))"
   ]
  },
  {
   "cell_type": "code",
   "execution_count": 54,
   "metadata": {},
   "outputs": [],
   "source": [
    "dict_list = []\n",
    "# dict_list =[] contains 9 dictoinaries each corresponds to a class\n",
    "for i in range(1,10):\n",
    "    cls_text = train_df[train_df['Class']==i]\n",
    "    # build a word dict based on the words in that class\n",
    "    dict_list.append(extract_dictionary_paddle(cls_text))\n",
    "    # append it to dict_list\n",
    "\n",
    "# dict_list[i] is build on i'th  class text data\n",
    "# total_dict is buid on whole training text data\n",
    "total_dict = extract_dictionary_paddle(train_df)\n",
    "\n",
    "\n",
    "confuse_array = []\n",
    "for i in train_text_features:\n",
    "    ratios = []\n",
    "    max_val = -1\n",
    "    for j in range(0,9):\n",
    "        ratios.append((dict_list[j][i]+10 )/(total_dict[i]+90))\n",
    "    confuse_array.append(ratios)\n",
    "confuse_array = np.array(confuse_array)"
   ]
  },
  {
   "cell_type": "code",
   "execution_count": 55,
   "metadata": {},
   "outputs": [],
   "source": [
    "#response coding of text features\n",
    "train_text_feature_responseCoding  = get_text_responsecoding(train_df)\n",
    "test_text_feature_responseCoding  = get_text_responsecoding(test_df)\n",
    "cv_text_feature_responseCoding  = get_text_responsecoding(cv_df)"
   ]
  },
  {
   "cell_type": "code",
   "execution_count": 56,
   "metadata": {},
   "outputs": [],
   "source": [
    "# https://stackoverflow.com/a/16202486\n",
    "# we convert each row values such that they sum to 1  \n",
    "train_text_feature_responseCoding = (train_text_feature_responseCoding.T/train_text_feature_responseCoding.sum(axis=1)).T\n",
    "test_text_feature_responseCoding = (test_text_feature_responseCoding.T/test_text_feature_responseCoding.sum(axis=1)).T\n",
    "cv_text_feature_responseCoding = (cv_text_feature_responseCoding.T/cv_text_feature_responseCoding.sum(axis=1)).T"
   ]
  },
  {
   "cell_type": "code",
   "execution_count": 57,
   "metadata": {},
   "outputs": [],
   "source": [
    "# don't forget to normalize every feature\n",
    "train_text_feature_onehotCoding = normalize(train_text_feature_onehotCoding, axis=0)\n",
    "\n",
    "# we use the same vectorizer that was trained on train data\n",
    "test_text_feature_onehotCoding = text_vectorizer.transform(test_df['TEXT'])\n",
    "# don't forget to normalize every feature\n",
    "test_text_feature_onehotCoding = normalize(test_text_feature_onehotCoding, axis=0)\n",
    "\n",
    "# we use the same vectorizer that was trained on train data\n",
    "cv_text_feature_onehotCoding = text_vectorizer.transform(cv_df['TEXT'])\n",
    "# don't forget to normalize every feature\n",
    "cv_text_feature_onehotCoding = normalize(cv_text_feature_onehotCoding, axis=0)"
   ]
  },
  {
   "cell_type": "code",
   "execution_count": 58,
   "metadata": {},
   "outputs": [],
   "source": [
    "#https://stackoverflow.com/a/2258273/4084039\n",
    "sorted_text_fea_dict = dict(sorted(text_fea_dict.items(), key=lambda x: x[1] , reverse=True))\n",
    "sorted_text_occur = np.array(list(sorted_text_fea_dict.values()))"
   ]
  },
  {
   "cell_type": "code",
   "execution_count": 59,
   "metadata": {},
   "outputs": [
    {
     "name": "stdout",
     "output_type": "stream",
     "text": [
      "Counter({7.481408908089453: 6, 11.22211336213418: 5, 6.385749036921686: 3, 6.104439019290827: 3, 9.661604968362017: 2, 9.520759002395984: 2, 9.073376933042017: 2, 8.589403855092492: 2, 8.332955432666552: 2, 8.176749811404251: 2, 7.4630395329681045: 2, 7.086023658396893: 2, 6.790630785657555: 2, 6.625279657286112: 2, 6.405419885765456: 2, 6.39928927662913: 2, 5.214394179169097: 2, 210.51493608761797: 1, 145.69797888316074: 1, 118.02540839266435: 1, 108.91832665860517: 1, 105.19820995241392: 1, 97.3258469471602: 1, 96.17846832408853: 1, 96.05122847939664: 1, 95.79094736299119: 1, 92.98809472297835: 1, 90.12458799551302: 1, 88.95984153028938: 1, 76.86875850918878: 1, 74.37486122745926: 1, 74.00717735490402: 1, 72.2587760129747: 1, 67.89412959193078: 1, 66.46463691513166: 1, 66.13024314056914: 1, 65.62160078721374: 1, 65.46104810205551: 1, 64.9681439090399: 1, 60.92136285374909: 1, 58.777724238166705: 1, 57.60184372388953: 1, 56.59006286611757: 1, 56.2817025773899: 1, 54.613326840520465: 1, 53.963398982119976: 1, 53.49355699487308: 1, 53.19328740127945: 1, 53.17957675413617: 1, 52.99441122887071: 1, 52.968451490697475: 1, 50.541759308368356: 1, 50.043922053012096: 1, 49.20750515554741: 1, 47.93906241795094: 1, 46.672613796632625: 1, 46.07781454089234: 1, 44.77091317729986: 1, 43.43718179123312: 1, 42.941778892683566: 1, 42.67974700028403: 1, 42.483072052162264: 1, 40.74589228464679: 1, 40.11406377828215: 1, 39.91733328538577: 1, 39.171007757837934: 1, 39.098179093686696: 1, 38.54544668670118: 1, 38.46810249651409: 1, 37.9279243726942: 1, 36.840189659082725: 1, 36.555993224756165: 1, 36.47993999898273: 1, 35.84853890707873: 1, 35.769547140051614: 1, 35.68350765284351: 1, 35.63400333588168: 1, 35.41642358723619: 1, 35.26579151326384: 1, 35.23980393051494: 1, 35.14820910645865: 1, 34.704566472665064: 1, 34.659201570909026: 1, 34.438513601035055: 1, 34.41249356404213: 1, 34.01765039432699: 1, 33.66965781890408: 1, 33.50258378547811: 1, 33.3790013617271: 1, 33.34780689760718: 1, 33.13170053744688: 1, 32.96008254787126: 1, 32.844107715807134: 1, 31.897670348261105: 1, 31.29627405323865: 1, 31.166524966985165: 1, 30.99663694070181: 1, 30.34317389650794: 1, 30.035129185068612: 1, 29.783186762260733: 1, 29.70137935699198: 1, 29.56702807613907: 1, 29.485745387120527: 1, 29.464716692808494: 1, 29.24689035347685: 1, 28.95318941312027: 1, 28.893620116583772: 1, 28.69830819316297: 1, 28.676739706955996: 1, 28.44996560301055: 1, 28.332104557686858: 1, 28.062050036287765: 1, 27.86709426414371: 1, 26.967406812345835: 1, 26.934818400694724: 1, 26.91518973503963: 1, 26.772973877014614: 1, 26.757815942048275: 1, 26.626019864720938: 1, 26.62090305869673: 1, 26.53338581715255: 1, 26.30925359254523: 1, 26.281305004941988: 1, 26.246270619517844: 1, 26.241095050189006: 1, 26.192758652809847: 1, 26.188981471671628: 1, 26.084796125077688: 1, 25.90590019924605: 1, 25.79867149556229: 1, 25.7385666871847: 1, 25.7203317391524: 1, 25.717591279667346: 1, 25.70763201876526: 1, 25.512709563536838: 1, 25.334727822463325: 1, 25.14155539667029: 1, 24.946747252680122: 1, 24.910148791584717: 1, 24.825778653801: 1, 24.806305407371145: 1, 24.791295792266123: 1, 24.620012778165062: 1, 24.471046963053666: 1, 24.361771460364434: 1, 24.2986868685144: 1, 24.261073535757863: 1, 24.21809558817202: 1, 24.213503602193143: 1, 24.18793115974041: 1, 23.91103544540639: 1, 23.780587532615005: 1, 23.61185485056788: 1, 23.515974867335604: 1, 23.51060921149549: 1, 23.387035023408757: 1, 23.37138703073699: 1, 23.352470409053893: 1, 23.22050285487827: 1, 23.1262964738412: 1, 23.091208746078607: 1, 23.04284593903195: 1, 22.750161581376844: 1, 22.699122572489593: 1, 22.654579573046515: 1, 22.6438536535814: 1, 22.359348864422994: 1, 22.348960152284285: 1, 21.99922656666557: 1, 21.946762265020443: 1, 21.842223988608296: 1, 21.74238369334683: 1, 21.525726702598238: 1, 21.406385559428173: 1, 21.394573412105586: 1, 21.375965270074328: 1, 21.36500066656795: 1, 21.359450305226385: 1, 21.294259107459535: 1, 21.181482277410264: 1, 21.150792985035753: 1, 21.096102222954688: 1, 20.991097459673146: 1, 20.926200627956987: 1, 20.769086282419487: 1, 20.745146659920387: 1, 20.72855466802463: 1, 20.650208496391368: 1, 20.644433368007903: 1, 20.531876157881946: 1, 20.45597069990974: 1, 20.45198051539809: 1, 20.21361347750083: 1, 20.195705064812813: 1, 20.181120752615122: 1, 20.128687500383077: 1, 20.05530053759967: 1, 20.042390857585296: 1, 20.023589192070418: 1, 20.016150231346305: 1, 19.99890747758441: 1, 19.928525887345483: 1, 19.86959263866087: 1, 19.85570159926789: 1, 19.72210279541214: 1, 19.71697818330306: 1, 19.659496392585005: 1, 19.59224085280319: 1, 19.57336236655549: 1, 19.488275105213674: 1, 19.486040833384127: 1, 19.358585561244578: 1, 19.315958137627355: 1, 19.264333631782108: 1, 19.139546665157383: 1, 19.126753623367154: 1, 19.12464928872588: 1, 19.097385307814136: 1, 19.06621820816674: 1, 18.991534389743737: 1, 18.96256740675513: 1, 18.924442194325664: 1, 18.91723480034189: 1, 18.885287505449877: 1, 18.876738045944656: 1, 18.808844181684407: 1, 18.75548698873343: 1, 18.653690299097843: 1, 18.613361431373033: 1, 18.591847567164653: 1, 18.51665960518855: 1, 18.479591788513165: 1, 18.423918678079257: 1, 18.36306326933104: 1, 18.348124798413394: 1, 18.348022107213662: 1, 18.345166755067837: 1, 18.34087442040644: 1, 18.236244395584315: 1, 18.11090826002603: 1, 18.055505048009152: 1, 18.046184686443937: 1, 18.04593886072927: 1, 17.9579098960396: 1, 17.921613555140897: 1, 17.871762097038673: 1, 17.86539141921912: 1, 17.84901328217973: 1, 17.84464069368034: 1, 17.812702279009088: 1, 17.779264411494303: 1, 17.731913239622543: 1, 17.71497264025789: 1, 17.673408128444798: 1, 17.63882517433304: 1, 17.6038700725533: 1, 17.51031847925908: 1, 17.497389726536507: 1, 17.45489613561454: 1, 17.454000395924343: 1, 17.390240519580328: 1, 17.36693533746281: 1, 17.361146692176003: 1, 17.35915204721054: 1, 17.3518936472692: 1, 17.339161795866076: 1, 17.27633593972648: 1, 17.276150244478305: 1, 17.26348867959833: 1, 17.255493021637726: 1, 17.245458324170936: 1, 17.20604541712646: 1, 17.185424493094455: 1, 17.12106843668843: 1, 17.028834292959207: 1, 17.015233421193862: 1, 16.992976941635433: 1, 16.977406568063216: 1, 16.94462065839882: 1, 16.89014248993551: 1, 16.87292914338912: 1, 16.84812596230182: 1, 16.839771494884552: 1, 16.721516537122547: 1, 16.716841880344973: 1, 16.66668460400824: 1, 16.631573460334955: 1, 16.628831124866718: 1, 16.620513625475983: 1, 16.554928750950516: 1, 16.535155327041142: 1, 16.53394047791514: 1, 16.486383076296292: 1, 16.476439551747884: 1, 16.47578371641049: 1, 16.440732124332467: 1, 16.380770231864158: 1, 16.369932334347514: 1, 16.237923179332917: 1, 16.13968518226148: 1, 16.13847662993455: 1, 16.12820503531405: 1, 16.122099866010185: 1, 16.032951943761578: 1, 15.899952980689834: 1, 15.866414440271859: 1, 15.802376320256828: 1, 15.79454012729859: 1, 15.776152340296337: 1, 15.76832170627688: 1, 15.761861842909118: 1, 15.73825414891486: 1, 15.674422978444056: 1, 15.571880728676938: 1, 15.5500817288833: 1, 15.549000393198058: 1, 15.521982672799524: 1, 15.491847832322577: 1, 15.469720285290187: 1, 15.458629095355924: 1, 15.430998331234774: 1, 15.430955324676082: 1, 15.427097928904889: 1, 15.424822653275081: 1, 15.40418150573847: 1, 15.399159988750135: 1, 15.386907430434762: 1, 15.352211457433137: 1, 15.34849240357213: 1, 15.34704335578031: 1, 15.296045017680747: 1, 15.279764349446218: 1, 15.278191979906088: 1, 15.248944428814376: 1, 15.246579915068962: 1, 15.239130810086596: 1, 15.23843499470497: 1, 15.165736416737689: 1, 15.160933456287102: 1, 15.12013471791182: 1, 15.090713766642036: 1, 15.090517984837843: 1, 15.084279529669635: 1, 15.0784794486167: 1, 15.06805648545708: 1, 15.066248247899402: 1, 15.045801840881538: 1, 15.01245259964379: 1, 14.961580131746185: 1, 14.90029759401438: 1, 14.898972314734632: 1, 14.87449901098756: 1, 14.859794482032157: 1, 14.858027444365396: 1, 14.806657212567128: 1, 14.786868865875203: 1, 14.762194743327997: 1, 14.72521744153542: 1, 14.676040322259933: 1, 14.624276516834197: 1, 14.54225502845037: 1, 14.535856870200487: 1, 14.53348153535993: 1, 14.533152171148167: 1, 14.525827084467661: 1, 14.494933126238337: 1, 14.48922237163436: 1, 14.456839517545433: 1, 14.44569192886534: 1, 14.324078205462886: 1, 14.280363483576897: 1, 14.276089233461384: 1, 14.274449275335348: 1, 14.24575184196672: 1, 14.22774247650094: 1, 14.217405772744911: 1, 14.20034366012258: 1, 14.130302935817731: 1, 14.129247827354874: 1, 14.114030273133938: 1, 14.099148140769602: 1, 14.094892431455571: 1, 14.087404990861312: 1, 14.069526958897198: 1, 14.059754755148687: 1, 14.013894910363863: 1, 13.999227177340893: 1, 13.998932618013258: 1, 13.965887296257687: 1, 13.96467181966886: 1, 13.957919153180736: 1, 13.938255384932175: 1, 13.880956580021419: 1, 13.8791105869141: 1, 13.87846628309889: 1, 13.855433729042915: 1, 13.85104529043813: 1, 13.841518445757798: 1, 13.83999978478302: 1, 13.82173560532219: 1, 13.819718227591897: 1, 13.760722409335445: 1, 13.70964125815392: 1, 13.687348257061242: 1, 13.683961506048417: 1, 13.66379186064243: 1, 13.647515659044801: 1, 13.581694542787872: 1, 13.504781004379293: 1, 13.488975607375531: 1, 13.485532185855083: 1, 13.454602464524353: 1, 13.392700658036304: 1, 13.37169377242331: 1, 13.32481838615097: 1, 13.320259834954943: 1, 13.319962347021436: 1, 13.270860950960554: 1, 13.264764960180413: 1, 13.258463125745813: 1, 13.251938477664309: 1, 13.229533521748316: 1, 13.225071130269706: 1, 13.20281092824714: 1, 13.194276793492007: 1, 13.186996095213656: 1, 13.164559065297226: 1, 13.109878861615389: 1, 13.091051225116601: 1, 13.089384075320671: 1, 13.07772546742306: 1, 13.076335547183232: 1, 13.05569939396199: 1, 13.045473629206944: 1, 13.02967633923788: 1, 13.021916868038753: 1, 13.014077443576056: 1, 13.000481047731416: 1, 12.972093051550095: 1, 12.956151700020824: 1, 12.924715205485818: 1, 12.906887422242308: 1, 12.885553685248093: 1, 12.875090197774172: 1, 12.871909221069318: 1, 12.853066849712492: 1, 12.844372503338107: 1, 12.842804169161006: 1, 12.810465466289402: 1, 12.803933415322195: 1, 12.785948728447492: 1, 12.767967632687995: 1, 12.767565244425601: 1, 12.745750660725975: 1, 12.736625164842685: 1, 12.696213575111098: 1, 12.690975328457029: 1, 12.688640863106604: 1, 12.686248207872639: 1, 12.669794455030477: 1, 12.624854433431079: 1, 12.599641359580254: 1, 12.592304585572244: 1, 12.572663399926746: 1, 12.564157020100438: 1, 12.559382185804322: 1, 12.494715597585518: 1, 12.4652402914095: 1, 12.455078071778855: 1, 12.453691509048102: 1, 12.449610218947488: 1, 12.43280755849676: 1, 12.406337042003605: 1, 12.394366584983437: 1, 12.378632276041634: 1, 12.371652514274178: 1, 12.33718786961148: 1, 12.335203513211393: 1, 12.324830298880958: 1, 12.299403331773902: 1, 12.278527792594126: 1, 12.275157647013877: 1, 12.264739824534718: 1, 12.260244715762973: 1, 12.240092483744704: 1, 12.206547494389985: 1, 12.201150468280284: 1, 12.200431900718954: 1, 12.18824654327162: 1, 12.182843909860292: 1, 12.14192626331063: 1, 12.130990657789008: 1, 12.127902680921867: 1, 12.121079517695142: 1, 12.073788223056837: 1, 12.053007349763083: 1, 12.049560221677043: 1, 12.037506682069209: 1, 11.970062688177626: 1, 11.94802840289276: 1, 11.928298539619567: 1, 11.922762104473628: 1, 11.908331245023126: 1, 11.88784405890613: 1, 11.87734675631141: 1, 11.875539863564105: 1, 11.860520167107733: 1, 11.8569262705268: 1, 11.832993148568056: 1, 11.825820650240566: 1, 11.82117162287334: 1, 11.817248041041516: 1, 11.803829747374001: 1, 11.784734917767219: 1, 11.781512620838745: 1, 11.76952705003408: 1, 11.755553158259334: 1, 11.743843558762247: 1, 11.712439831857015: 1, 11.694493841079488: 1, 11.686804489775593: 1, 11.67607123336475: 1, 11.659633131330672: 1, 11.650446778707428: 1, 11.632269472344621: 1, 11.618994877464717: 1, 11.593568969430166: 1, 11.57931377422082: 1, 11.562425664797392: 1, 11.558014198001766: 1, 11.556983485690187: 1, 11.555799185174005: 1, 11.542398483067736: 1, 11.526810029877144: 1, 11.513449050943617: 1, 11.51060207735747: 1, 11.510520071416448: 1, 11.500556910772804: 1, 11.492000098080918: 1, 11.472581571254553: 1, 11.44176275638461: 1, 11.430472532527897: 1, 11.42364875512826: 1, 11.356367686255673: 1, 11.347681561696303: 1, 11.312476873252747: 1, 11.295975551757863: 1, 11.292198339732593: 1, 11.290979622780199: 1, 11.272351850228247: 1, 11.26181750582378: 1, 11.246036981658497: 1, 11.186640177024888: 1, 11.141746371719785: 1, 11.118686559410547: 1, 11.106497507457837: 1, 11.095721048863098: 1, 11.083695759281188: 1, 11.036779494391656: 1, 11.021544698409272: 1, 10.998617424969522: 1, 10.993562378916598: 1, 10.986374729088475: 1, 10.975216496236255: 1, 10.971900767636217: 1, 10.96646713819485: 1, 10.941780536361218: 1, 10.928276638022451: 1, 10.914009957953988: 1, 10.911366155686391: 1, 10.903809399456108: 1, 10.883698948126646: 1, 10.879714925232896: 1, 10.874524398355492: 1, 10.843644456075104: 1, 10.84102911541164: 1, 10.82527216002789: 1, 10.813992374027563: 1, 10.784953776728111: 1, 10.732310042602029: 1, 10.72568587439787: 1, 10.72347154144116: 1, 10.714708572638234: 1, 10.71234169721927: 1, 10.679391273058496: 1, 10.67549129927026: 1, 10.674376484882885: 1, 10.673699582419623: 1, 10.643063733075405: 1, 10.62529920509464: 1, 10.624016431898589: 1, 10.621995282370111: 1, 10.574489773091932: 1, 10.57256394975022: 1, 10.570285601823352: 1, 10.557352400447353: 1, 10.550229248030659: 1, 10.535729611735725: 1, 10.526011834833264: 1, 10.520596201551548: 1, 10.520486337768698: 1, 10.515683279079738: 1, 10.503744771701394: 1, 10.483622646431465: 1, 10.481379445282784: 1, 10.462328398246491: 1, 10.460092180959139: 1, 10.390822615733015: 1, 10.387649879223439: 1, 10.374057157603998: 1, 10.367754631705077: 1, 10.365330881042023: 1, 10.364743865517152: 1, 10.360371116602362: 1, 10.337231990524458: 1, 10.313310430836639: 1, 10.309907764294218: 1, 10.293624812281932: 1, 10.286406424517036: 1, 10.265597024372651: 1, 10.255478337297994: 1, 10.255078294332574: 1, 10.251319864022367: 1, 10.213160307778956: 1, 10.18896612363859: 1, 10.175539946131202: 1, 10.15167473509335: 1, 10.120511830118035: 1, 10.119643326911241: 1, 10.114650040546278: 1, 10.112016076513576: 1, 10.103520799727935: 1, 10.102899583133537: 1, 10.079221337518694: 1, 10.065841746465077: 1, 10.038818733560989: 1, 10.030399319222095: 1, 10.016772244294975: 1, 10.011336258414312: 1, 10.004889682970111: 1, 9.997768561929709: 1, 9.961122597157068: 1, 9.951737926128958: 1, 9.951450175017717: 1, 9.934668177382367: 1, 9.928462037039166: 1, 9.886798810487024: 1, 9.857024808570833: 1, 9.84757441695498: 1, 9.834193567322208: 1, 9.831453925526281: 1, 9.81847196437684: 1, 9.81599912855085: 1, 9.809766663306107: 1, 9.799542671986778: 1, 9.793425399619691: 1, 9.788031345300178: 1, 9.784709780313278: 1, 9.783315526443308: 1, 9.7744817605591: 1, 9.772670020889105: 1, 9.766914192293235: 1, 9.754345471296743: 1, 9.748895719624675: 1, 9.746042614586804: 1, 9.743430758977839: 1, 9.734993754665517: 1, 9.731586199194254: 1, 9.728837999376866: 1, 9.722051867190915: 1, 9.717627583493607: 1, 9.709927631112478: 1, 9.703982605649326: 1, 9.687975335191867: 1, 9.682280165554022: 1, 9.661897778285056: 1, 9.613560880954266: 1, 9.613100378150587: 1, 9.570031345750916: 1, 9.56338527808376: 1, 9.559881044412409: 1, 9.555248107558755: 1, 9.548960194737678: 1, 9.540320389470939: 1, 9.531973989522479: 1, 9.529117534490986: 1, 9.528758411364327: 1, 9.506118014628553: 1, 9.505016936055751: 1, 9.49387027280878: 1, 9.4856294168656: 1, 9.484008991097646: 1, 9.479652885204489: 1, 9.464475625249836: 1, 9.458597465234448: 1, 9.454141228262024: 1, 9.450465480690937: 1, 9.445969820412046: 1, 9.425614596141562: 1, 9.412881506572099: 1, 9.40605601982331: 1, 9.38888748099265: 1, 9.384743671604573: 1, 9.377965304400448: 1, 9.377267790949332: 1, 9.376392539301673: 1, 9.375316186855219: 1, 9.350355299676124: 1, 9.330352969625466: 1, 9.322990002133858: 1, 9.306170930217645: 1, 9.305882003057611: 1, 9.281791161002044: 1, 9.267556019011904: 1, 9.262804333946876: 1, 9.257922821559726: 1, 9.255946829311952: 1, 9.255897208942528: 1, 9.241318459819965: 1, 9.23073889643739: 1, 9.230680839996543: 1, 9.2259071309183: 1, 9.211822659356896: 1, 9.191502886806067: 1, 9.185847037626973: 1, 9.166188116452298: 1, 9.164170011646346: 1, 9.151005593175311: 1, 9.143724723371681: 1, 9.128066968769406: 1, 9.126487305700206: 1, 9.126265912213189: 1, 9.114693117130118: 1, 9.113944574832672: 1, 9.109863124919174: 1, 9.104985540709954: 1, 9.103581065004525: 1, 9.094099894047119: 1, 9.070002029039369: 1, 9.045208202205444: 1, 9.037006322770793: 1, 9.036329134282619: 1, 9.035746776117284: 1, 9.03550773670438: 1, 9.022846894457084: 1, 9.018136844840068: 1, 9.012194655448194: 1, 8.99588450791814: 1, 8.982675959132068: 1, 8.979293701952262: 1, 8.974711351629812: 1, 8.95599247257774: 1, 8.952918286681355: 1, 8.951370950240936: 1, 8.930760077510222: 1, 8.929552995402998: 1, 8.923852249151642: 1, 8.9207530503906: 1, 8.915213671090774: 1, 8.914780454849675: 1, 8.911233111016946: 1, 8.89576026753682: 1, 8.892300267463737: 1, 8.884307629201516: 1, 8.867095786635392: 1, 8.862640015421787: 1, 8.854418878596201: 1, 8.850019152050965: 1, 8.83596291667399: 1, 8.834813083921768: 1, 8.82931685116415: 1, 8.827000544166863: 1, 8.819478877708503: 1, 8.809524695882997: 1, 8.809062223025581: 1, 8.7890577604847: 1, 8.780542560839544: 1, 8.773507468048935: 1, 8.758203045229237: 1, 8.75733022462116: 1, 8.750911383165374: 1, 8.729904124469407: 1, 8.72710033427128: 1, 8.721596462257864: 1, 8.714650947556017: 1, 8.699855673826182: 1, 8.689056758751063: 1, 8.686206320198405: 1, 8.683703247317434: 1, 8.681159428110401: 1, 8.674801854185906: 1, 8.668793373683204: 1, 8.666499882353278: 1, 8.654169141379347: 1, 8.63974139290831: 1, 8.627258623487222: 1, 8.623913493177316: 1, 8.622262837849537: 1, 8.608620621507818: 1, 8.605851821669626: 1, 8.605310906154386: 1, 8.60285592402039: 1, 8.593202021892017: 1, 8.581352062983315: 1, 8.581060244692072: 1, 8.57706531841533: 1, 8.56699155343767: 1, 8.564398843134464: 1, 8.55675311682776: 1, 8.547561475055867: 1, 8.543949002546556: 1, 8.537149832687943: 1, 8.523179088199896: 1, 8.520588392521336: 1, 8.503462360110433: 1, 8.494984051415674: 1, 8.488302550779379: 1, 8.482871588504443: 1, 8.478043098758919: 1, 8.475529913071002: 1, 8.468561104046259: 1, 8.454547063165352: 1, 8.44849192033755: 1, 8.43538167532499: 1, 8.417114948496751: 1, 8.415071055120523: 1, 8.411756156308549: 1, 8.411708400333287: 1, 8.403674802846165: 1, 8.397981473060051: 1, 8.379117039420247: 1, 8.378541546716447: 1, 8.376565405141331: 1, 8.374979350891069: 1, 8.373809683521836: 1, 8.353992085943398: 1, 8.353161821723933: 1, 8.350867484292015: 1, 8.34510969029106: 1, 8.342591018109205: 1, 8.329730256811093: 1, 8.327150488728305: 1, 8.322590229533356: 1, 8.316428183929402: 1, 8.312828771108476: 1, 8.310901356532813: 1, 8.31006687302807: 1, 8.300463018702812: 1, 8.29415151690511: 1, 8.292388409696489: 1, 8.282197261336282: 1, 8.278588030359426: 1, 8.27830196442674: 1, 8.27793975038543: 1, 8.277178212978582: 1, 8.270969582595631: 1, 8.263555335815875: 1, 8.257674978393254: 1, 8.257252094427454: 1, 8.255700551447172: 1, 8.253936672894374: 1, 8.252992832597466: 1, 8.248658182108835: 1, 8.247232979158156: 1, 8.23122562100114: 1, 8.225588755623377: 1, 8.218369150486456: 1, 8.216956592842463: 1, 8.210512718312973: 1, 8.1989926435642: 1, 8.191781027931603: 1, 8.187483176321226: 1, 8.186602005575876: 1, 8.185967282888658: 1, 8.18582003691734: 1, 8.18004381743049: 1, 8.165337798244268: 1, 8.164622951865361: 1, 8.151336705749188: 1, 8.134531262394198: 1, 8.129741876601377: 1, 8.127082337167973: 1, 8.121226787553372: 1, 8.110482735412825: 1, 8.10838941897195: 1, 8.086403756911498: 1, 8.079864984618483: 1, 8.077213304534691: 1, 8.075221661442514: 1, 8.070074200340859: 1, 8.069072345823761: 1, 8.063187366895509: 1, 8.055549381717194: 1, 8.052647597597153: 1, 8.04949064649467: 1, 8.02790589400558: 1, 8.01052617651115: 1, 8.009858469075649: 1, 8.004479516964693: 1, 7.990631822072135: 1, 7.982213190363196: 1, 7.96539790064504: 1, 7.964916232271281: 1, 7.955569598262981: 1, 7.954853989307251: 1, 7.953272799595262: 1, 7.948408690591743: 1, 7.938742511519695: 1, 7.937201221303082: 1, 7.937016271890784: 1, 7.9352418469203: 1, 7.927274892605213: 1, 7.920391795709637: 1, 7.920141817744435: 1, 7.9181346975423175: 1, 7.917158808072567: 1, 7.910399509927819: 1, 7.904509476491051: 1, 7.901388650628101: 1, 7.901034525246402: 1, 7.900422879107158: 1, 7.899694903485203: 1, 7.898019989044575: 1, 7.8955416995475955: 1, 7.894526152498024: 1, 7.8902030137592645: 1, 7.8786879386667055: 1, 7.87780886999574: 1, 7.87289181470175: 1, 7.869825469888396: 1, 7.853991107083783: 1, 7.852985136202854: 1, 7.8516030109695265: 1, 7.8490768074947: 1, 7.847474051212002: 1, 7.8441648420490635: 1, 7.8433261880290255: 1, 7.836634275185625: 1, 7.822830428573493: 1, 7.820091498776762: 1, 7.813364036768981: 1, 7.812467980800421: 1, 7.807740254943662: 1, 7.787435596541969: 1, 7.78361947327875: 1, 7.7821299077096215: 1, 7.7784743363974105: 1, 7.774531970897205: 1, 7.771630414111718: 1, 7.767092655811704: 1, 7.76035947544785: 1, 7.737623886841834: 1, 7.731193442280644: 1, 7.726715598792659: 1, 7.7242569249209145: 1, 7.693499838221433: 1, 7.683379680502179: 1, 7.678725137216878: 1, 7.669809143367456: 1, 7.65930167594419: 1, 7.642587907672936: 1, 7.638325997831504: 1, 7.635224492620312: 1, 7.6281618475141615: 1, 7.624943497957859: 1, 7.623862362438781: 1, 7.613393844376102: 1, 7.612112194703814: 1, 7.6106964657371075: 1, 7.598431426086543: 1, 7.596678414959846: 1, 7.594155910386976: 1, 7.592800001482473: 1, 7.583144832268901: 1, 7.577984226243255: 1, 7.572907203077238: 1, 7.57099945890804: 1, 7.567572633545566: 1, 7.556472493065785: 1, 7.555186897217648: 1, 7.553061283970969: 1, 7.548219214046765: 1, 7.539045422564205: 1, 7.533762775431321: 1, 7.528557173250408: 1, 7.524094020901632: 1, 7.523536217518733: 1, 7.523138577303723: 1, 7.511870797874264: 1, 7.500141662578354: 1, 7.490078377872911: 1, 7.490052843130391: 1, 7.488823547593629: 1, 7.487956572215686: 1, 7.484622695716901: 1, 7.476604507759929: 1, 7.471582254440897: 1, 7.466760237754583: 1, 7.449616045222563: 1, 7.447017233054895: 1, 7.446290830202116: 1, 7.444188247512403: 1, 7.444127759707122: 1, 7.44174472781633: 1, 7.436983018052536: 1, 7.419359381096879: 1, 7.417211201631779: 1, 7.4157620335505: 1, 7.413983344723122: 1, 7.408196680776953: 1, 7.407125289940495: 1, 7.399672766909757: 1, 7.397364083025335: 1, 7.394106971717999: 1, 7.3921546897985895: 1, 7.388536576275981: 1, 7.386990446360864: 1, 7.386315048211189: 1, 7.3830818725418395: 1, 7.381254510914977: 1, 7.380252749854318: 1, 7.375837658855023: 1, 7.373106061652356: 1, 7.369765500359569: 1, 7.362085017301701: 1, 7.351727871442188: 1, 7.347957628818461: 1, 7.343491530708873: 1, 7.336081348448125: 1, 7.332728907294732: 1, 7.32588308266922: 1, 7.323776256024353: 1, 7.320387419497595: 1, 7.315065774927769: 1, 7.311750610610369: 1, 7.3113660428327: 1, 7.309596583641917: 1, 7.3042489217815625: 1, 7.300362840476297: 1, 7.2877938348330815: 1, 7.286224420524143: 1, 7.282285277169385: 1, 7.281063388873493: 1, 7.278820294850223: 1, 7.276091463679252: 1, 7.265920217335452: 1, 7.26095179093776: 1, 7.258916732065818: 1, 7.256740656827169: 1, 7.254586536219522: 1, 7.242059274341965: 1, 7.234961969496612: 1, 7.234616714699063: 1, 7.227407635421422: 1, 7.224611337479956: 1, 7.210868919537636: 1, 7.206401799071296: 1, 7.20299243200928: 1, 7.191543676485643: 1, 7.1892998838539555: 1, 7.169244260179379: 1, 7.169205636318313: 1, 7.152572298104324: 1, 7.151777755291319: 1, 7.149588332441667: 1, 7.149176727369853: 1, 7.141035233395372: 1, 7.137239523116743: 1, 7.129584319268805: 1, 7.127978262296737: 1, 7.126774153804971: 1, 7.126067456134009: 1, 7.121010949565888: 1, 7.109994737855709: 1, 7.106873429625465: 1, 7.1059675021843525: 1, 7.105256163861171: 1, 7.103858866144201: 1, 7.099344025242062: 1, 7.0989470527541405: 1, 7.096516216323733: 1, 7.094977435921382: 1, 7.078287733427579: 1, 7.073991923003855: 1, 7.069551633826722: 1, 7.0641300400633655: 1, 7.062308003767111: 1, 7.057189127846826: 1, 7.051178741408164: 1, 7.040802399738534: 1, 7.031169544790892: 1, 7.019559882170629: 1, 7.009500205778225: 1, 7.006022744913663: 1, 7.002192708870149: 1, 6.9922396738507695: 1, 6.991886558335045: 1, 6.991815405260886: 1, 6.990858044603576: 1, 6.989585982467403: 1, 6.987646197755124: 1, 6.987279348569744: 1, 6.97789756779606: 1, 6.975209173673724: 1, 6.970149935388138: 1, 6.9657788173787045: 1, 6.9628621220273725: 1, 6.959275345151623: 1, 6.956254310757371: 1, 6.951578578561035: 1, 6.949904438874432: 1, 6.949625942456433: 1, 6.9489934109414175: 1, 6.945918475579309: 1, 6.945810682446554: 1, 6.945254587655657: 1, 6.944830315878608: 1, 6.939077485160536: 1, 6.929571872050717: 1, 6.928223004968102: 1, 6.925992452171045: 1, 6.923780239373773: 1, 6.923176281401233: 1, 6.9230558010965195: 1, 6.914719186682071: 1, 6.908905148491138: 1, 6.878968398424356: 1, 6.877801959240204: 1, 6.865207880686165: 1, 6.857182957486799: 1, 6.852868114665613: 1, 6.850544975461896: 1, 6.849917884368431: 1, 6.844646802286786: 1, 6.842857205545008: 1, 6.841658136878808: 1, 6.834094247831829: 1, 6.826696859823698: 1, 6.824504508914566: 1, 6.823769008811253: 1, 6.822353662629094: 1, 6.820444250042802: 1, 6.815832678666299: 1, 6.8136859100869005: 1, 6.803623011432389: 1, 6.803098416364165: 1, 6.801650818619294: 1, 6.7981271939063035: 1, 6.79190555326689: 1, 6.789778981473311: 1, 6.7884989318825095: 1, 6.779924878433005: 1, 6.774799000817068: 1, 6.77177497835231: 1, 6.7688694300219: 1, 6.768727857366416: 1, 6.765622350042234: 1, 6.759177735809595: 1, 6.752140209709383: 1, 6.750940531035198: 1, 6.750544381407082: 1, 6.7418679566800686: 1, 6.739347430005649: 1, 6.735284975678143: 1, 6.72775880653503: 1, 6.721228673204549: 1, 6.715575598646222: 1, 6.713758049851991: 1, 6.713710307442375: 1, 6.711888829946144: 1, 6.708685858026186: 1, 6.70502108137154: 1, 6.7030903725877415: 1, 6.699151604448779: 1, 6.694242215337396: 1, 6.692623642765098: 1, 6.692403316584681: 1, 6.690099664593542: 1, 6.676706869857628: 1, 6.662014082161501: 1, 6.661590561142032: 1, 6.660092441398162: 1, 6.653881490201319: 1, 6.64937784550775: 1, 6.640245772389051: 1, 6.637081923718383: 1, 6.632722528218422: 1, 6.629950633086696: 1, 6.624061279267548: 1, 6.622126696691876: 1, 6.618469819899292: 1, 6.613804354940546: 1, 6.597492453656064: 1, 6.5956776350654005: 1, 6.5951978858983615: 1, 6.594234712537741: 1, 6.593777665713297: 1, 6.59171034554041: 1, 6.590872345091538: 1, 6.588467065721133: 1, 6.582509504925778: 1, 6.580147189032581: 1, 6.579761854908071: 1, 6.578994628697444: 1, 6.568311824984679: 1, 6.565800193319438: 1, 6.563823641829341: 1, 6.559784044901504: 1, 6.558274870552687: 1, 6.544340973083023: 1, 6.528885942319566: 1, 6.524264683567528: 1, 6.5236376927223905: 1, 6.516513611225969: 1, 6.515341548939826: 1, 6.509053109695245: 1, 6.503822590478226: 1, 6.502219457888821: 1, 6.4992315331098744: 1, 6.49694520804087: 1, 6.475956329179019: 1, 6.475924588774996: 1, 6.471955032436245: 1, 6.471739031884028: 1, 6.466989998678371: 1, 6.461838493759066: 1, 6.458579397371314: 1, 6.455769918849992: 1, 6.453270415919773: 1, 6.446913240421734: 1, 6.446621965021397: 1, 6.441943390234237: 1, 6.439314064964922: 1, 6.43266949443912: 1, 6.422561683905887: 1, 6.417489157426012: 1, 6.417274687489995: 1, 6.417255386622734: 1, 6.417001615316646: 1, 6.41277584195723: 1, 6.411705648676753: 1, 6.408584925673993: 1, 6.407367240114418: 1, 6.402716317674998: 1, 6.39181414232138: 1, 6.390895532299175: 1, 6.390806101029384: 1, 6.379585826502382: 1, 6.377321148500736: 1, 6.3767585419501085: 1, 6.3742262657535464: 1, 6.374066069244828: 1, 6.365550808871688: 1, 6.354167555337272: 1, 6.349098346132484: 1, 6.348556070523303: 1, 6.345108886077987: 1, 6.343837169797784: 1, 6.343082548168883: 1, 6.33252729249829: 1, 6.32900102369285: 1, 6.327600657289976: 1, 6.326121771130633: 1, 6.311354773846926: 1, 6.31097588029338: 1, 6.302595330468832: 1, 6.296450964706193: 1, 6.285854205315049: 1, 6.283847664788803: 1, 6.281938010328937: 1, 6.281733332313782: 1, 6.27951945867295: 1, 6.269504872458212: 1, 6.251228794129035: 1, 6.2479106932230595: 1, 6.245261926728411: 1, 6.242850936635826: 1, 6.2416150598514335: 1, 6.2411954007808434: 1, 6.2399646951342795: 1, 6.239463159151439: 1, 6.228754111857943: 1, 6.226613338371898: 1, 6.221632940564981: 1, 6.221115443130734: 1, 6.220061213097171: 1, 6.210252684868491: 1, 6.203027052639492: 1, 6.202610516883282: 1, 6.1927513606680495: 1, 6.190858476929987: 1, 6.188750334294223: 1, 6.1885208351801735: 1, 6.182532103551936: 1, 6.175767268548937: 1, 6.174916546164072: 1, 6.160714067248686: 1, 6.15361861135866: 1, 6.152294625990082: 1, 6.148919507249453: 1, 6.146428826667759: 1, 6.143996334886901: 1, 6.140032357247528: 1, 6.138928257411094: 1, 6.135135035114247: 1, 6.134747845918941: 1, 6.128271004610265: 1, 6.124581966289123: 1, 6.122500947494046: 1, 6.114412704757989: 1, 6.1119219886181115: 1, 6.108679849984314: 1, 6.107244101716827: 1, 6.098077325301165: 1, 6.0975103934927635: 1, 6.091870833081478: 1, 6.076803900267242: 1, 6.075838327425736: 1, 6.071265730280806: 1, 6.06452600430496: 1, 6.060008090924939: 1, 6.056517614131152: 1, 6.053790135009283: 1, 6.05374166302918: 1, 6.046589031052907: 1, 6.0443142320209855: 1, 6.043534859861815: 1, 6.042695118651896: 1, 6.038974066312571: 1, 6.035117392033608: 1, 6.019097774907957: 1, 6.012309071501356: 1, 6.006464422685798: 1, 6.0009975545352825: 1, 5.988210102257877: 1, 5.987765716846762: 1, 5.98750919187134: 1, 5.982649412045646: 1, 5.9751348655343826: 1, 5.966887445394437: 1, 5.966840899020966: 1, 5.956661214273925: 1, 5.95484013130084: 1, 5.948622634260247: 1, 5.9471059956168135: 1, 5.942627846514471: 1, 5.941712913898329: 1, 5.933276401840494: 1, 5.926609192135763: 1, 5.92557161027143: 1, 5.916783644814263: 1, 5.91677647173422: 1, 5.909955313666442: 1, 5.908765040453073: 1, 5.905887281051844: 1, 5.904596802275794: 1, 5.901596790646438: 1, 5.899964528430712: 1, 5.899474477444442: 1, 5.897005179677114: 1, 5.896609010891845: 1, 5.895995561093743: 1, 5.8941558777924525: 1, 5.893963965142103: 1, 5.887156241602505: 1, 5.883003905989862: 1, 5.873198578649869: 1, 5.870624638853945: 1, 5.866403617459625: 1, 5.864642386728509: 1, 5.8642163546216315: 1, 5.8560889174705: 1, 5.8547264912921335: 1, 5.8540208420215745: 1, 5.847965535997654: 1, 5.842706346539808: 1, 5.840959308754362: 1, 5.833189287716472: 1, 5.832785667743342: 1, 5.832520539067505: 1, 5.829958385490115: 1, 5.828369245025392: 1, 5.825049529922002: 1, 5.8181994757590125: 1, 5.817407007008578: 1, 5.816558744659774: 1, 5.812383071992236: 1, 5.81052100384692: 1, 5.808754838811815: 1, 5.805463026853945: 1, 5.7983603289436605: 1, 5.79775877074307: 1, 5.797218146927642: 1, 5.786031097667937: 1, 5.778510338766398: 1, 5.77614579893188: 1, 5.772614031371744: 1, 5.764467103780351: 1, 5.764284523534985: 1, 5.755260195522389: 1, 5.7501913939283265: 1, 5.749808422455169: 1, 5.747621161144759: 1, 5.740448532996218: 1, 5.732988505124661: 1, 5.729916177234187: 1, 5.729335477703074: 1, 5.710302512945656: 1, 5.705349066845501: 1, 5.69864865273484: 1, 5.698025243529785: 1, 5.696037722017208: 1, 5.689983582615058: 1, 5.688688493389066: 1, 5.68831763122321: 1, 5.68704066446693: 1, 5.682575796786631: 1, 5.682559062710449: 1, 5.677912429276429: 1, 5.677407749423988: 1, 5.67618518655337: 1, 5.674527629671365: 1, 5.669429288374024: 1, 5.659527186815681: 1, 5.656641557012065: 1, 5.65642114786955: 1, 5.652526241124591: 1, 5.646507404871508: 1, 5.645756635361819: 1, 5.644878508286577: 1, 5.634514120363085: 1, 5.62954275228618: 1, 5.629202120992311: 1, 5.627615986641375: 1, 5.611708358877075: 1, 5.611131590780975: 1, 5.611128424202472: 1, 5.6096345973340025: 1, 5.600932949017492: 1, 5.5979445790262226: 1, 5.592366104580166: 1, 5.592282143448394: 1, 5.591286157026116: 1, 5.588608405024275: 1, 5.580690096137251: 1, 5.577340769380086: 1, 5.576059440214951: 1, 5.569491340167507: 1, 5.565080660971413: 1, 5.560099829718985: 1, 5.557583653240625: 1, 5.556941968809859: 1, 5.545564774088839: 1, 5.543720780432973: 1, 5.539145211870258: 1, 5.538158376010157: 1, 5.535567939428475: 1, 5.527763541977552: 1, 5.52469180311502: 1, 5.517533014979595: 1, 5.517433075310344: 1, 5.512905243848337: 1, 5.506020818737981: 1, 5.5045524564965005: 1, 5.502249489081905: 1, 5.498616041630918: 1, 5.498066855421153: 1, 5.496381588004941: 1, 5.495914629521422: 1, 5.488580037464865: 1, 5.4879740356775715: 1, 5.486807334386218: 1, 5.478853053774744: 1, 5.471558879686718: 1, 5.469931897056897: 1, 5.464490119999321: 1, 5.4506828895794115: 1, 5.448907739063909: 1, 5.4487956938104745: 1, 5.445906726184133: 1, 5.444550269357902: 1, 5.444485955581477: 1, 5.443633815624308: 1, 5.443323337346628: 1, 5.442853292415552: 1, 5.437141964613628: 1, 5.436223106662846: 1, 5.428861091347021: 1, 5.428488237209608: 1, 5.422941012665457: 1, 5.41974556868731: 1, 5.41737197247841: 1, 5.415728302672728: 1, 5.410970199127764: 1, 5.408912263343163: 1, 5.408121480499438: 1, 5.40752715726104: 1, 5.403878511805551: 1, 5.400067419237932: 1, 5.399144063739197: 1, 5.398098252432807: 1, 5.394934899677816: 1, 5.3935697118999215: 1, 5.368187086286128: 1, 5.365900024721251: 1, 5.363320314613031: 1, 5.361184030843776: 1, 5.360471941999965: 1, 5.355940303677812: 1, 5.354467257073608: 1, 5.3526098182951465: 1, 5.349720110009356: 1, 5.349487364917233: 1, 5.347220705520451: 1, 5.344930154111954: 1, 5.340073742924252: 1, 5.3346172692576435: 1, 5.333995486245657: 1, 5.326988069879647: 1, 5.315016516163522: 1, 5.314180491953817: 1, 5.308106321054109: 1, 5.303974986370929: 1, 5.302774918108374: 1, 5.300909577011533: 1, 5.299236960450802: 1, 5.298294500066435: 1, 5.297512715172741: 1, 5.297348261695975: 1, 5.292800077498091: 1, 5.290170994779638: 1, 5.2890711855763435: 1, 5.282504180521938: 1, 5.279440740868931: 1, 5.278930415014976: 1, 5.2772763472544835: 1, 5.27199829991851: 1, 5.268940117274167: 1, 5.2598780625339305: 1, 5.257695575662088: 1, 5.257017859464528: 1, 5.250768797792701: 1, 5.246432493448166: 1, 5.244622219589563: 1, 5.238952195708397: 1, 5.233060262951465: 1, 5.231983870537522: 1, 5.229596410321041: 1, 5.228565543162888: 1, 5.228393754864443: 1, 5.220702844310716: 1, 5.2185517123290435: 1, 5.217914461237316: 1, 5.210737172908795: 1, 5.209401082090101: 1, 5.209250691829159: 1, 5.203975400031955: 1, 5.1963228947759275: 1, 5.195935412015587: 1, 5.189897211625648: 1, 5.186581750739771: 1, 5.182877220461242: 1, 5.1826627571096004: 1, 5.182290848767536: 1, 5.179834706173966: 1, 5.176751735134926: 1, 5.176328395314556: 1, 5.1761967433282585: 1, 5.171824819253528: 1, 5.167764318805129: 1, 5.165566053934799: 1, 5.164126693707657: 1, 5.159562076084439: 1, 5.156388894241176: 1, 5.1560269650915975: 1, 5.152297341939531: 1, 5.150627856357089: 1, 5.1502579079627715: 1, 5.150234241429503: 1, 5.149479607324477: 1, 5.147046350877568: 1, 5.1450113920910105: 1, 5.139281793559451: 1, 5.138511326758866: 1, 5.137673113432298: 1, 5.137618012983511: 1, 5.132351969667669: 1, 5.129603107742973: 1, 5.127881361447469: 1, 5.1251192820273435: 1, 5.11955821240405: 1, 5.118239202492628: 1, 5.118151290711803: 1, 5.111846718937253: 1, 5.110676136199013: 1, 5.106732372414445: 1, 5.105299069730291: 1, 5.100664635320004: 1, 5.099554557325469: 1, 5.098680607378412: 1, 5.097264561725287: 1, 5.09611300079845: 1, 5.094056538797897: 1, 5.092148394238116: 1, 5.086889284275895: 1, 5.086572187236118: 1, 5.0853339169439025: 1, 5.08398544326505: 1, 5.077880949454555: 1, 5.077027213875151: 1, 5.075183065078906: 1, 5.074688875769123: 1, 5.074312642599848: 1, 5.074270432034214: 1, 5.064666749825621: 1, 5.0637603349770135: 1, 5.059464876834695: 1, 5.05741367766868: 1, 5.0537609221342175: 1, 5.050065544004548: 1, 5.049512637088736: 1, 5.0451306720267945: 1, 5.044190850778183: 1, 5.043619481677406: 1, 5.043304007152968: 1, 5.035328054742925: 1, 5.032619631872798: 1, 5.0269271144079815: 1, 5.0256814629429805: 1, 5.02488127626779: 1, 5.023510639637134: 1, 5.022772820832119: 1, 5.022607771924869: 1, 5.022292383210527: 1, 5.017005473407376: 1, 5.013652351165704: 1, 5.013581299820584: 1, 5.0125741847728165: 1, 5.012149912188484: 1, 5.009263571699434: 1, 5.008645338705416: 1, 5.001212097954889: 1, 5.000884877328238: 1, 4.986202898047716: 1, 4.985029875861846: 1, 4.9835547600844805: 1, 4.982214872811818: 1, 4.981547787129087: 1, 4.980512102443765: 1, 4.975651203065978: 1, 4.972400632505811: 1, 4.969570673616933: 1, 4.96836329803254: 1, 4.960798960076566: 1, 4.95544606321819: 1, 4.954892999935898: 1, 4.953310179187799: 1, 4.952366205364119: 1, 4.951470584586504: 1, 4.948161246684634: 1, 4.9475468813064305: 1, 4.945027537211164: 1, 4.942813455324844: 1, 4.9424201761641635: 1, 4.941910347096358: 1, 4.931301052852517: 1, 4.929727217057998: 1, 4.929207813207302: 1, 4.9284238509280955: 1, 4.928267616092034: 1, 4.92127902283081: 1, 4.920465676639863: 1, 4.920399904595074: 1, 4.9173189980233865: 1, 4.915325962084886: 1, 4.9114248903197115: 1, 4.907991602048642: 1, 4.907913983276: 1, 4.901378821229495: 1, 4.895812200237114: 1, 4.89283723058604: 1, 4.8892836191735: 1, 4.888998364917572: 1, 4.88251567594208: 1, 4.880086465748557: 1, 4.876446604712955: 1, 4.876229913320252: 1, 4.875905138701837: 1, 4.874254911020168: 1, 4.872917309812472: 1, 4.871574041082245: 1, 4.864393521043023: 1, 4.854222185315223: 1, 4.8514680937635974: 1, 4.851359210169484: 1, 4.845577416625685: 1, 4.842002110509098: 1, 4.841566310558345: 1, 4.838634144246656: 1, 4.834969976697053: 1, 4.830692397593442: 1, 4.827733096888545: 1, 4.819256026241363: 1, 4.811341533422858: 1, 4.809162784406324: 1, 4.805292299378069: 1, 4.8051742421302395: 1, 4.804407934079131: 1, 4.802431809161338: 1, 4.797265662280438: 1, 4.795922444907527: 1, 4.795816406906135: 1, 4.7914952055670215: 1, 4.787964875542947: 1, 4.7841110773740345: 1, 4.782062920577423: 1, 4.780078549110882: 1, 4.779246810599338: 1, 4.779228508297703: 1, 4.7770809138768255: 1, 4.775723460862924: 1, 4.7745511527012825: 1, 4.77398053378556: 1, 4.768915671360562: 1, 4.762442469665783: 1, 4.75578620107762: 1, 4.75390462669479: 1, 4.75390258047986: 1, 4.751507878752208: 1, 4.750997228714927: 1, 4.739895755573999: 1, 4.739722110578754: 1, 4.737524811945325: 1, 4.72778368981434: 1, 4.725970594942048: 1, 4.724084989165814: 1, 4.72403679018111: 1, 4.71478512663664: 1, 4.711738580582898: 1, 4.71156632101835: 1, 4.710697951603157: 1, 4.709047325404164: 1, 4.700876755622476: 1, 4.700466779405577: 1, 4.70008098439566: 1, 4.6938245909115155: 1, 4.683451621603693: 1, 4.678164365866472: 1, 4.676918277186422: 1, 4.67499952620866: 1, 4.67477850824649: 1, 4.6712423013457025: 1, 4.666322588655438: 1, 4.661949787662267: 1, 4.660066029184064: 1, 4.652429588341356: 1, 4.650807708022052: 1, 4.648196306918313: 1, 4.64312332612927: 1, 4.642851315024472: 1, 4.642160594256345: 1, 4.640975265623733: 1, 4.636655149539659: 1, 4.635805595377245: 1, 4.63453666935621: 1, 4.62538691836783: 1, 4.61920357327475: 1, 4.604746291848572: 1, 4.604619260901137: 1, 4.60425715086865: 1, 4.602158089984397: 1, 4.597223712909615: 1, 4.59462073331092: 1, 4.593756792995882: 1, 4.58791975874328: 1, 4.579999800241326: 1, 4.569351627806395: 1, 4.568400309701237: 1, 4.566082031733156: 1, 4.565750400290923: 1, 4.564256059410472: 1, 4.56250232221934: 1, 4.561393498488418: 1, 4.561083891574271: 1, 4.56071440560477: 1, 4.559555434595353: 1, 4.5558845370158165: 1, 4.548646700877661: 1, 4.548276478369846: 1, 4.547169589187828: 1, 4.54554389132258: 1, 4.5437863575836355: 1, 4.537652862857113: 1, 4.531710671610243: 1, 4.530032809430472: 1, 4.526695059766167: 1, 4.519887315445109: 1, 4.504204450971491: 1, 4.499967030103726: 1, 4.499066483679851: 1, 4.496997760268123: 1, 4.4964707645618365: 1, 4.490764636496181: 1, 4.483866160844999: 1, 4.478073302338186: 1, 4.474224788503864: 1, 4.471087411676321: 1, 4.470757667688374: 1, 4.467665543014645: 1, 4.464272146735633: 1, 4.462993067499531: 1, 4.462890468717368: 1, 4.4520836460517685: 1, 4.451574080363129: 1, 4.451463139722824: 1, 4.447503641366196: 1, 4.444279344734363: 1, 4.436798892316942: 1, 4.43033198487018: 1, 4.427692446483613: 1, 4.426072371066165: 1, 4.425815908099499: 1, 4.4055302257855: 1, 4.405127617097382: 1, 4.404515030657813: 1, 4.399126399933413: 1, 4.3970747762929: 1, 4.396432087414599: 1, 4.396003189997907: 1, 4.394985789960013: 1, 4.3914382131596374: 1, 4.388577854784939: 1, 4.379339552519281: 1, 4.37215749560111: 1, 4.369822220928887: 1, 4.368109065656254: 1, 4.3674133985827055: 1, 4.363547570307529: 1, 4.361594219584968: 1, 4.355835055003438: 1, 4.355042538451821: 1, 4.354029534106791: 1, 4.348627824440315: 1, 4.347727314310718: 1, 4.346178055550716: 1, 4.344888586158067: 1, 4.344735372585605: 1, 4.34333187729655: 1, 4.34212439830839: 1, 4.334836219901982: 1, 4.3324810855409295: 1, 4.332205383881523: 1, 4.33035290532267: 1, 4.3301857908373815: 1, 4.32847309129846: 1, 4.3217291501848605: 1, 4.3171737166426: 1, 4.313440246316044: 1, 4.312734782680248: 1, 4.309138807910201: 1, 4.308685927116877: 1, 4.308680443098961: 1, 4.302394254647997: 1, 4.297781241305938: 1, 4.296306540407573: 1, 4.291121947263461: 1, 4.287316399711537: 1, 4.285387822272395: 1, 4.283450075821704: 1, 4.281431903415208: 1, 4.279203642349907: 1, 4.276322588793313: 1, 4.276258345838979: 1, 4.271893466899282: 1, 4.263502495170128: 1, 4.2587095646766375: 1, 4.258588775554304: 1, 4.255053216739912: 1, 4.2491106161382834: 1, 4.246374955754945: 1, 4.239233788214097: 1, 4.2348395208214376: 1, 4.23416441698882: 1, 4.231647170286219: 1, 4.22861623105572: 1, 4.2205377762409855: 1, 4.22001346453921: 1, 4.21819286017386: 1, 4.203524438127237: 1, 4.198843962337574: 1, 4.187027156706355: 1, 4.18487143714782: 1, 4.174564645563903: 1, 4.174370344599738: 1, 4.162335407146855: 1, 4.146111957750345: 1, 4.145362000586257: 1, 4.137618228855193: 1, 4.13743929215567: 1, 4.117809670389339: 1, 4.112543770778229: 1, 4.112024694691358: 1, 4.110382843304644: 1, 4.102438045369193: 1, 4.101009653703505: 1, 4.097670197843043: 1, 4.094816639278364: 1, 4.093686541037259: 1, 4.087170107760792: 1, 4.0839670982321055: 1, 4.079136865872622: 1, 4.078571105219015: 1, 4.077468358382793: 1, 4.07372869790672: 1, 4.06243730472618: 1, 4.062122588879542: 1, 4.051360604785158: 1, 4.051151428986329: 1, 4.048988226336541: 1, 4.047671667744377: 1, 4.04508672041779: 1, 4.04233784499256: 1, 4.040738200617957: 1, 4.0313810418828595: 1, 4.029452083077106: 1, 4.0266831087703725: 1, 4.024243462934086: 1, 4.016727069602613: 1, 4.001990598480894: 1, 4.000338511953987: 1, 3.987871708426188: 1, 3.9772150659187306: 1, 3.969871903507416: 1, 3.956536504096787: 1, 3.953000823999016: 1, 3.942177906881179: 1, 3.9317285931180415: 1, 3.929144321365482: 1, 3.928058334892526: 1, 3.9199406807927186: 1, 3.9136900318832524: 1, 3.910885896300366: 1, 3.9108317487483704: 1, 3.9024970695101437: 1, 3.8992589072621775: 1, 3.8931303959438206: 1, 3.891031787887093: 1, 3.8892877531193095: 1, 3.888196822141101: 1, 3.879475193015569: 1, 3.8670617828823075: 1, 3.862406495123674: 1, 3.8560159935005087: 1, 3.8505488981714286: 1, 3.832324717141342: 1, 3.828660318747738: 1, 3.814914508730583: 1, 3.808888891381999: 1, 3.801027884956003: 1, 3.790214277800285: 1, 3.7714656346806006: 1, 3.769248594235236: 1, 3.7441051542990227: 1, 3.7118404122124558: 1, 3.710774044528162: 1, 3.7077992596516918: 1, 3.6837456625746845: 1, 3.6753432045930725: 1, 3.6524020069437633: 1, 3.601071432798034: 1, 3.5984419639092184: 1, 3.5816015850853855: 1, 3.5495776787486615: 1, 3.528756269079027: 1})\n"
     ]
    }
   ],
   "source": [
    "# Number of words for a given frequency.\n",
    "print(Counter(sorted_text_occur))"
   ]
  },
  {
   "cell_type": "code",
   "execution_count": 60,
   "metadata": {},
   "outputs": [],
   "source": [
    "df_text_train = pd.DataFrame(train_text_feature_onehotCoding.toarray(), columns=text_vectorizer.get_feature_names())\n",
    "df_text_test = pd.DataFrame(test_text_feature_onehotCoding.toarray(), columns=text_vectorizer.get_feature_names())\n",
    "df_text_cv = pd.DataFrame(cv_text_feature_onehotCoding.toarray(), columns=text_vectorizer.get_feature_names())"
   ]
  },
  {
   "cell_type": "code",
   "execution_count": 61,
   "metadata": {},
   "outputs": [
    {
     "name": "stdout",
     "output_type": "stream",
     "text": [
      "For values of alpha =  1e-05 The log loss is: 1.1243187440840785\n",
      "For values of alpha =  0.0001 The log loss is: 1.113330730181006\n",
      "For values of alpha =  0.001 The log loss is: 1.4011598487407122\n",
      "For values of alpha =  0.01 The log loss is: 1.8516236679862088\n",
      "For values of alpha =  0.1 The log loss is: 2.033508193308918\n",
      "For values of alpha =  1 The log loss is: 2.019971197622063\n"
     ]
    },
    {
     "data": {
      "image/png": "[encoded data removed]",
      "text/plain": [
       "<matplotlib.figure.Figure at 0x2b12f54ed30>"
      ]
     },
     "metadata": {
      "needs_background": "light"
     },
     "output_type": "display_data"
    },
    {
     "name": "stdout",
     "output_type": "stream",
     "text": [
      "For values of best alpha =  0.0001 The train log loss is: 0.7381761703251937\n",
      "For values of best alpha =  0.0001 The cross validation log loss is: 1.113330730181006\n",
      "For values of best alpha =  0.0001 The test log loss is: 1.1532776692512146\n"
     ]
    }
   ],
   "source": [
    "# Train a Logistic regression+Calibration model using text features whicha re on-hot encoded\n",
    "alpha = [10 ** x for x in range(-5, 1)]\n",
    "\n",
    "# read more about SGDClassifier() at http://scikit-learn.org/stable/modules/generated/sklearn.linear_model.SGDClassifier.html\n",
    "# ------------------------------\n",
    "# default parameters\n",
    "# SGDClassifier(loss=’hinge’, penalty=’l2’, alpha=0.0001, l1_ratio=0.15, fit_intercept=True, max_iter=None, tol=None, \n",
    "# shuffle=True, verbose=0, epsilon=0.1, n_jobs=1, random_state=None, learning_rate=’optimal’, eta0=0.0, power_t=0.5, \n",
    "# class_weight=None, warm_start=False, average=False, n_iter=None)\n",
    "\n",
    "# some of methods\n",
    "# fit(X, y[, coef_init, intercept_init, …])\tFit linear model with Stochastic Gradient Descent.\n",
    "# predict(X)\tPredict class labels for samples in X.\n",
    "\n",
    "#-------------------------------\n",
    "# video link: \n",
    "#------------------------------\n",
    "\n",
    "\n",
    "cv_log_error_array=[]\n",
    "for i in alpha:\n",
    "    clf = SGDClassifier(alpha=i, penalty='l2', loss='log', random_state=42)\n",
    "    clf.fit(train_text_feature_onehotCoding, y_train)\n",
    "    \n",
    "    sig_clf = CalibratedClassifierCV(clf, method=\"sigmoid\")\n",
    "    sig_clf.fit(train_text_feature_onehotCoding, y_train)\n",
    "    predict_y = sig_clf.predict_proba(cv_text_feature_onehotCoding)\n",
    "    cv_log_error_array.append(log_loss(y_cv, predict_y, labels=clf.classes_, eps=1e-15))\n",
    "    print('For values of alpha = ', i, \"The log loss is:\",log_loss(y_cv, predict_y, labels=clf.classes_, eps=1e-15))\n",
    "\n",
    "fig, ax = plt.subplots()\n",
    "ax.plot(alpha, cv_log_error_array,c='g')\n",
    "for i, txt in enumerate(np.round(cv_log_error_array,3)):\n",
    "    ax.annotate((alpha[i],np.round(txt,3)), (alpha[i],cv_log_error_array[i]))\n",
    "plt.grid()\n",
    "plt.title(\"Cross Validation Error for each alpha\")\n",
    "plt.xlabel(\"Alpha i's\")\n",
    "plt.ylabel(\"Error measure\")\n",
    "plt.show()\n",
    "\n",
    "\n",
    "best_alpha = np.argmin(cv_log_error_array)\n",
    "clf = SGDClassifier(alpha=alpha[best_alpha], penalty='l2', loss='log', random_state=42)\n",
    "clf.fit(train_text_feature_onehotCoding, y_train)\n",
    "sig_clf = CalibratedClassifierCV(clf, method=\"sigmoid\")\n",
    "sig_clf.fit(train_text_feature_onehotCoding, y_train)\n",
    "\n",
    "predict_y = sig_clf.predict_proba(train_text_feature_onehotCoding)\n",
    "print('For values of best alpha = ', alpha[best_alpha], \"The train log loss is:\",log_loss(y_train, predict_y, labels=clf.classes_, eps=1e-15))\n",
    "predict_y = sig_clf.predict_proba(cv_text_feature_onehotCoding)\n",
    "print('For values of best alpha = ', alpha[best_alpha], \"The cross validation log loss is:\",log_loss(y_cv, predict_y, labels=clf.classes_, eps=1e-15))\n",
    "predict_y = sig_clf.predict_proba(test_text_feature_onehotCoding)\n",
    "print('For values of best alpha = ', alpha[best_alpha], \"The test log loss is:\",log_loss(y_test, predict_y, labels=clf.classes_, eps=1e-15))\n"
   ]
  },
  {
   "cell_type": "markdown",
   "metadata": {},
   "source": [
    "<p style=\"font-size:18px;\"> <b>Q.</b> Is the Text feature stable across all the data sets (Test, Train, Cross validation)?</p>\n",
    "<p style=\"font-size:16px;\"> <b>Ans.</b> Yes, it seems like! </p>"
   ]
  },
  {
   "cell_type": "code",
   "execution_count": 62,
   "metadata": {},
   "outputs": [],
   "source": [
    "def get_intersec_text(df):\n",
    "    df_text_vec = TfidfVectorizer(min_df=10,ngram_range=(1,4),max_features=2000)\n",
    "    df_text_fea = df_text_vec.fit_transform(df['TEXT'])\n",
    "    df_text_features = df_text_vec.get_feature_names()\n",
    "\n",
    "    df_text_fea_counts = df_text_fea.sum(axis=0).A1\n",
    "    df_text_fea_dict = dict(zip(list(df_text_features),df_text_fea_counts))\n",
    "    len1 = len(set(df_text_features))\n",
    "    len2 = len(set(train_text_features) & set(df_text_features))\n",
    "    return len1,len2"
   ]
  },
  {
   "cell_type": "code",
   "execution_count": 63,
   "metadata": {
    "run_control": {
     "marked": false
    }
   },
   "outputs": [
    {
     "name": "stdout",
     "output_type": "stream",
     "text": [
      "93.35 % of word of test data appeared in train data\n",
      "92.8 % of word of Cross Validation appeared in train data\n"
     ]
    }
   ],
   "source": [
    "len1,len2 = get_intersec_text(test_df)\n",
    "print(np.round((len2/len1)*100, 3), \"% of word of test data appeared in train data\")\n",
    "len1,len2 = get_intersec_text(cv_df)\n",
    "print(np.round((len2/len1)*100, 3), \"% of word of Cross Validation appeared in train data\")"
   ]
  },
  {
   "cell_type": "markdown",
   "metadata": {},
   "source": [
    "<h1>4. Machine Learning Models</h1>"
   ]
  },
  {
   "cell_type": "code",
   "execution_count": 64,
   "metadata": {},
   "outputs": [],
   "source": [
    "#Data preparation for ML models.\n",
    "\n",
    "#Misc. functionns for ML models\n",
    "\n",
    "\n",
    "def predict_and_plot_confusion_matrix(train_x, train_y,test_x, test_y, clf):\n",
    "    clf.fit(train_x, train_y)\n",
    "    sig_clf = CalibratedClassifierCV(clf, method=\"sigmoid\")\n",
    "    sig_clf.fit(train_x, train_y)\n",
    "    pred_y = sig_clf.predict(test_x)\n",
    "\n",
    "    # for calculating log_loss we willl provide the array of probabilities belongs to each class\n",
    "    print(\"Log loss :\",log_loss(test_y, sig_clf.predict_proba(test_x)))\n",
    "    # calculating the number of data points that are misclassified\n",
    "    print(\"Number of mis-classified points :\", np.count_nonzero((pred_y- test_y))/test_y.shape[0])\n",
    "    plot_confusion_matrix(test_y, pred_y)"
   ]
  },
  {
   "cell_type": "code",
   "execution_count": 65,
   "metadata": {},
   "outputs": [],
   "source": [
    "def report_log_loss(train_x, train_y, test_x, test_y,  clf):\n",
    "    clf.fit(train_x, train_y)\n",
    "    sig_clf = CalibratedClassifierCV(clf, method=\"sigmoid\")\n",
    "    sig_clf.fit(train_x, train_y)\n",
    "    sig_clf_probs = sig_clf.predict_proba(test_x)\n",
    "    return log_loss(test_y, sig_clf_probs, eps=1e-15)"
   ]
  },
  {
   "cell_type": "code",
   "execution_count": 66,
   "metadata": {},
   "outputs": [],
   "source": [
    "#target variables\n",
    "train_y = train_df['Class'].values\n",
    "test_y = test_df['Class'].values\n",
    "cv_y = cv_df['Class'].values"
   ]
  },
  {
   "cell_type": "code",
   "execution_count": 67,
   "metadata": {},
   "outputs": [],
   "source": [
    "train_df.drop([\"Gene\", \"Variation\", \"Gene_and_Variation\", \"TEXT\", \"Class\", \"ID\"], axis=1, inplace=True)\n",
    "test_df.drop([\"Gene\", \"Variation\", \"Gene_and_Variation\", \"TEXT\", \"Class\", \"ID\"], axis=1, inplace=True)\n",
    "cv_df.drop([\"Gene\", \"Variation\", \"Gene_and_Variation\", \"TEXT\", \"Class\", \"ID\"], axis=1, inplace=True)"
   ]
  },
  {
   "cell_type": "code",
   "execution_count": null,
   "metadata": {},
   "outputs": [],
   "source": []
  },
  {
   "cell_type": "code",
   "execution_count": 68,
   "metadata": {
    "run_control": {
     "marked": false
    }
   },
   "outputs": [],
   "source": [
    "# concatenating all the vectorized dataframes\n",
    "df_gene_var_train = pd.concat([df_gene_train, df_var_train], axis=1)\n",
    "df_gene_var_test = pd.concat([df_gene_test, df_var_test], axis=1)\n",
    "df_gene_var_cv = pd.concat([df_gene_cv, df_var_cv], axis=1)\n",
    "\n",
    "df_gene_and_var_train = pd.concat([df_gene_var_train, df_geneandvar_train], axis=1)\n",
    "df_gene_and_var_test = pd.concat([df_gene_var_test, df_geneandvar_test], axis=1)\n",
    "df_gene_and_var_cv = pd.concat([df_gene_var_cv, df_geneandvar_cv], axis=1)\n",
    "\n",
    "df_train = pd.concat([df_gene_and_var_train, df_text_train], axis=1)\n",
    "df_test = pd.concat([df_gene_and_var_test, df_text_test], axis=1)\n",
    "df_cv = pd.concat([df_gene_and_var_cv, df_text_cv], axis=1)"
   ]
  },
  {
   "cell_type": "code",
   "execution_count": 69,
   "metadata": {},
   "outputs": [],
   "source": [
    "# scaling the text_count feature\n",
    "from sklearn.preprocessing import MinMaxScaler\n",
    "scaler = MinMaxScaler()\n",
    "train_df[\"Text_Count\"] = scaler.fit_transform(train_df[\"Text_Count\"].reshape(-1,1))\n",
    "test_df[\"Text_Count\"] = scaler.fit_transform(test_df[\"Text_Count\"].reshape(-1,1))\n",
    "cv_df[\"Text_Count\"] = scaler.fit_transform(cv_df[\"Text_Count\"].reshape(-1,1))\n"
   ]
  },
  {
   "cell_type": "code",
   "execution_count": 70,
   "metadata": {},
   "outputs": [],
   "source": [
    "\n",
    "# additional features\n",
    "\n",
    "\n",
    "df_train[\"Text_Count_5000\"] = train_df.Text_Count_5000.values\n",
    "df_train[\"Text_Count\"] = train_df.Text_Count.values \n",
    "\n",
    "\n",
    "\n",
    "df_test[\"Text_Count_5000\"] = test_df.Text_Count_5000.values\n",
    "df_test[\"Text_Count\"] = test_df.Text_Count.values \n",
    "\n",
    "\n",
    "df_cv[\"Text_Count_5000\"] = cv_df.Text_Count_5000.values\n",
    "df_cv[\"Text_Count\"] = cv_df.Text_Count.values"
   ]
  },
  {
   "cell_type": "markdown",
   "metadata": {},
   "source": [
    "<p style=\"font-size:24px;text-align:Center\"> <b>Stacking the three types of features </b><p>"
   ]
  },
  {
   "cell_type": "code",
   "execution_count": 72,
   "metadata": {
    "run_control": {
     "marked": false
    }
   },
   "outputs": [
    {
     "ename": "KeyError",
     "evalue": "'Class'",
     "output_type": "error",
     "traceback": [
      "\u001b[1;31m---------------------------------------------------------------------------\u001b[0m",
      "\u001b[1;31mKeyError\u001b[0m                                  Traceback (most recent call last)",
      "\u001b[1;32m~\\Anaconda3\\lib\\site-packages\\pandas\\core\\indexes\\base.py\u001b[0m in \u001b[0;36mget_loc\u001b[1;34m(self, key, method, tolerance)\u001b[0m\n\u001b[0;32m   2524\u001b[0m             \u001b[1;32mtry\u001b[0m\u001b[1;33m:\u001b[0m\u001b[1;33m\u001b[0m\u001b[0m\n\u001b[1;32m-> 2525\u001b[1;33m                 \u001b[1;32mreturn\u001b[0m \u001b[0mself\u001b[0m\u001b[1;33m.\u001b[0m\u001b[0m_engine\u001b[0m\u001b[1;33m.\u001b[0m\u001b[0mget_loc\u001b[0m\u001b[1;33m(\u001b[0m\u001b[0mkey\u001b[0m\u001b[1;33m)\u001b[0m\u001b[1;33m\u001b[0m\u001b[0m\n\u001b[0m\u001b[0;32m   2526\u001b[0m             \u001b[1;32mexcept\u001b[0m \u001b[0mKeyError\u001b[0m\u001b[1;33m:\u001b[0m\u001b[1;33m\u001b[0m\u001b[0m\n",
      "\u001b[1;32mpandas/_libs/index.pyx\u001b[0m in \u001b[0;36mpandas._libs.index.IndexEngine.get_loc\u001b[1;34m()\u001b[0m\n",
      "\u001b[1;32mpandas/_libs/index.pyx\u001b[0m in \u001b[0;36mpandas._libs.index.IndexEngine.get_loc\u001b[1;34m()\u001b[0m\n",
      "\u001b[1;32mpandas/_libs/hashtable_class_helper.pxi\u001b[0m in \u001b[0;36mpandas._libs.hashtable.PyObjectHashTable.get_item\u001b[1;34m()\u001b[0m\n",
      "\u001b[1;32mpandas/_libs/hashtable_class_helper.pxi\u001b[0m in \u001b[0;36mpandas._libs.hashtable.PyObjectHashTable.get_item\u001b[1;34m()\u001b[0m\n",
      "\u001b[1;31mKeyError\u001b[0m: 'Class'",
      "\nDuring handling of the above exception, another exception occurred:\n",
      "\u001b[1;31mKeyError\u001b[0m                                  Traceback (most recent call last)",
      "\u001b[1;32m<ipython-input-72-27c522d978e7>\u001b[0m in \u001b[0;36m<module>\u001b[1;34m()\u001b[0m\n\u001b[0;32m     14\u001b[0m \u001b[1;33m\u001b[0m\u001b[0m\n\u001b[0;32m     15\u001b[0m \u001b[0mtrain_x_onehotCoding\u001b[0m \u001b[1;33m=\u001b[0m \u001b[0mhstack\u001b[0m\u001b[1;33m(\u001b[0m\u001b[1;33m(\u001b[0m\u001b[0mtrain_gene_var_onehotCoding\u001b[0m\u001b[1;33m,\u001b[0m \u001b[0mtrain_text_feature_onehotCoding\u001b[0m\u001b[1;33m)\u001b[0m\u001b[1;33m)\u001b[0m\u001b[1;33m.\u001b[0m\u001b[0mtocsr\u001b[0m\u001b[1;33m(\u001b[0m\u001b[1;33m)\u001b[0m\u001b[1;33m\u001b[0m\u001b[0m\n\u001b[1;32m---> 16\u001b[1;33m \u001b[0mtrain_y\u001b[0m \u001b[1;33m=\u001b[0m \u001b[0mnp\u001b[0m\u001b[1;33m.\u001b[0m\u001b[0marray\u001b[0m\u001b[1;33m(\u001b[0m\u001b[0mlist\u001b[0m\u001b[1;33m(\u001b[0m\u001b[0mtrain_df\u001b[0m\u001b[1;33m[\u001b[0m\u001b[1;34m'Class'\u001b[0m\u001b[1;33m]\u001b[0m\u001b[1;33m)\u001b[0m\u001b[1;33m)\u001b[0m\u001b[1;33m\u001b[0m\u001b[0m\n\u001b[0m\u001b[0;32m     17\u001b[0m \u001b[1;33m\u001b[0m\u001b[0m\n\u001b[0;32m     18\u001b[0m \u001b[0mtest_x_onehotCoding\u001b[0m \u001b[1;33m=\u001b[0m \u001b[0mhstack\u001b[0m\u001b[1;33m(\u001b[0m\u001b[1;33m(\u001b[0m\u001b[0mtest_gene_var_onehotCoding\u001b[0m\u001b[1;33m,\u001b[0m \u001b[0mtest_text_feature_onehotCoding\u001b[0m\u001b[1;33m)\u001b[0m\u001b[1;33m)\u001b[0m\u001b[1;33m.\u001b[0m\u001b[0mtocsr\u001b[0m\u001b[1;33m(\u001b[0m\u001b[1;33m)\u001b[0m\u001b[1;33m\u001b[0m\u001b[0m\n",
      "\u001b[1;32m~\\Anaconda3\\lib\\site-packages\\pandas\\core\\frame.py\u001b[0m in \u001b[0;36m__getitem__\u001b[1;34m(self, key)\u001b[0m\n\u001b[0;32m   2137\u001b[0m             \u001b[1;32mreturn\u001b[0m \u001b[0mself\u001b[0m\u001b[1;33m.\u001b[0m\u001b[0m_getitem_multilevel\u001b[0m\u001b[1;33m(\u001b[0m\u001b[0mkey\u001b[0m\u001b[1;33m)\u001b[0m\u001b[1;33m\u001b[0m\u001b[0m\n\u001b[0;32m   2138\u001b[0m         \u001b[1;32melse\u001b[0m\u001b[1;33m:\u001b[0m\u001b[1;33m\u001b[0m\u001b[0m\n\u001b[1;32m-> 2139\u001b[1;33m             \u001b[1;32mreturn\u001b[0m \u001b[0mself\u001b[0m\u001b[1;33m.\u001b[0m\u001b[0m_getitem_column\u001b[0m\u001b[1;33m(\u001b[0m\u001b[0mkey\u001b[0m\u001b[1;33m)\u001b[0m\u001b[1;33m\u001b[0m\u001b[0m\n\u001b[0m\u001b[0;32m   2140\u001b[0m \u001b[1;33m\u001b[0m\u001b[0m\n\u001b[0;32m   2141\u001b[0m     \u001b[1;32mdef\u001b[0m \u001b[0m_getitem_column\u001b[0m\u001b[1;33m(\u001b[0m\u001b[0mself\u001b[0m\u001b[1;33m,\u001b[0m \u001b[0mkey\u001b[0m\u001b[1;33m)\u001b[0m\u001b[1;33m:\u001b[0m\u001b[1;33m\u001b[0m\u001b[0m\n",
      "\u001b[1;32m~\\Anaconda3\\lib\\site-packages\\pandas\\core\\frame.py\u001b[0m in \u001b[0;36m_getitem_column\u001b[1;34m(self, key)\u001b[0m\n\u001b[0;32m   2144\u001b[0m         \u001b[1;31m# get column\u001b[0m\u001b[1;33m\u001b[0m\u001b[1;33m\u001b[0m\u001b[0m\n\u001b[0;32m   2145\u001b[0m         \u001b[1;32mif\u001b[0m \u001b[0mself\u001b[0m\u001b[1;33m.\u001b[0m\u001b[0mcolumns\u001b[0m\u001b[1;33m.\u001b[0m\u001b[0mis_unique\u001b[0m\u001b[1;33m:\u001b[0m\u001b[1;33m\u001b[0m\u001b[0m\n\u001b[1;32m-> 2146\u001b[1;33m             \u001b[1;32mreturn\u001b[0m \u001b[0mself\u001b[0m\u001b[1;33m.\u001b[0m\u001b[0m_get_item_cache\u001b[0m\u001b[1;33m(\u001b[0m\u001b[0mkey\u001b[0m\u001b[1;33m)\u001b[0m\u001b[1;33m\u001b[0m\u001b[0m\n\u001b[0m\u001b[0;32m   2147\u001b[0m \u001b[1;33m\u001b[0m\u001b[0m\n\u001b[0;32m   2148\u001b[0m         \u001b[1;31m# duplicate columns & possible reduce dimensionality\u001b[0m\u001b[1;33m\u001b[0m\u001b[1;33m\u001b[0m\u001b[0m\n",
      "\u001b[1;32m~\\Anaconda3\\lib\\site-packages\\pandas\\core\\generic.py\u001b[0m in \u001b[0;36m_get_item_cache\u001b[1;34m(self, item)\u001b[0m\n\u001b[0;32m   1840\u001b[0m         \u001b[0mres\u001b[0m \u001b[1;33m=\u001b[0m \u001b[0mcache\u001b[0m\u001b[1;33m.\u001b[0m\u001b[0mget\u001b[0m\u001b[1;33m(\u001b[0m\u001b[0mitem\u001b[0m\u001b[1;33m)\u001b[0m\u001b[1;33m\u001b[0m\u001b[0m\n\u001b[0;32m   1841\u001b[0m         \u001b[1;32mif\u001b[0m \u001b[0mres\u001b[0m \u001b[1;32mis\u001b[0m \u001b[1;32mNone\u001b[0m\u001b[1;33m:\u001b[0m\u001b[1;33m\u001b[0m\u001b[0m\n\u001b[1;32m-> 1842\u001b[1;33m             \u001b[0mvalues\u001b[0m \u001b[1;33m=\u001b[0m \u001b[0mself\u001b[0m\u001b[1;33m.\u001b[0m\u001b[0m_data\u001b[0m\u001b[1;33m.\u001b[0m\u001b[0mget\u001b[0m\u001b[1;33m(\u001b[0m\u001b[0mitem\u001b[0m\u001b[1;33m)\u001b[0m\u001b[1;33m\u001b[0m\u001b[0m\n\u001b[0m\u001b[0;32m   1843\u001b[0m             \u001b[0mres\u001b[0m \u001b[1;33m=\u001b[0m \u001b[0mself\u001b[0m\u001b[1;33m.\u001b[0m\u001b[0m_box_item_values\u001b[0m\u001b[1;33m(\u001b[0m\u001b[0mitem\u001b[0m\u001b[1;33m,\u001b[0m \u001b[0mvalues\u001b[0m\u001b[1;33m)\u001b[0m\u001b[1;33m\u001b[0m\u001b[0m\n\u001b[0;32m   1844\u001b[0m             \u001b[0mcache\u001b[0m\u001b[1;33m[\u001b[0m\u001b[0mitem\u001b[0m\u001b[1;33m]\u001b[0m \u001b[1;33m=\u001b[0m \u001b[0mres\u001b[0m\u001b[1;33m\u001b[0m\u001b[0m\n",
      "\u001b[1;32m~\\Anaconda3\\lib\\site-packages\\pandas\\core\\internals.py\u001b[0m in \u001b[0;36mget\u001b[1;34m(self, item, fastpath)\u001b[0m\n\u001b[0;32m   3841\u001b[0m \u001b[1;33m\u001b[0m\u001b[0m\n\u001b[0;32m   3842\u001b[0m             \u001b[1;32mif\u001b[0m \u001b[1;32mnot\u001b[0m \u001b[0misna\u001b[0m\u001b[1;33m(\u001b[0m\u001b[0mitem\u001b[0m\u001b[1;33m)\u001b[0m\u001b[1;33m:\u001b[0m\u001b[1;33m\u001b[0m\u001b[0m\n\u001b[1;32m-> 3843\u001b[1;33m                 \u001b[0mloc\u001b[0m \u001b[1;33m=\u001b[0m \u001b[0mself\u001b[0m\u001b[1;33m.\u001b[0m\u001b[0mitems\u001b[0m\u001b[1;33m.\u001b[0m\u001b[0mget_loc\u001b[0m\u001b[1;33m(\u001b[0m\u001b[0mitem\u001b[0m\u001b[1;33m)\u001b[0m\u001b[1;33m\u001b[0m\u001b[0m\n\u001b[0m\u001b[0;32m   3844\u001b[0m             \u001b[1;32melse\u001b[0m\u001b[1;33m:\u001b[0m\u001b[1;33m\u001b[0m\u001b[0m\n\u001b[0;32m   3845\u001b[0m                 \u001b[0mindexer\u001b[0m \u001b[1;33m=\u001b[0m \u001b[0mnp\u001b[0m\u001b[1;33m.\u001b[0m\u001b[0marange\u001b[0m\u001b[1;33m(\u001b[0m\u001b[0mlen\u001b[0m\u001b[1;33m(\u001b[0m\u001b[0mself\u001b[0m\u001b[1;33m.\u001b[0m\u001b[0mitems\u001b[0m\u001b[1;33m)\u001b[0m\u001b[1;33m)\u001b[0m\u001b[1;33m[\u001b[0m\u001b[0misna\u001b[0m\u001b[1;33m(\u001b[0m\u001b[0mself\u001b[0m\u001b[1;33m.\u001b[0m\u001b[0mitems\u001b[0m\u001b[1;33m)\u001b[0m\u001b[1;33m]\u001b[0m\u001b[1;33m\u001b[0m\u001b[0m\n",
      "\u001b[1;32m~\\Anaconda3\\lib\\site-packages\\pandas\\core\\indexes\\base.py\u001b[0m in \u001b[0;36mget_loc\u001b[1;34m(self, key, method, tolerance)\u001b[0m\n\u001b[0;32m   2525\u001b[0m                 \u001b[1;32mreturn\u001b[0m \u001b[0mself\u001b[0m\u001b[1;33m.\u001b[0m\u001b[0m_engine\u001b[0m\u001b[1;33m.\u001b[0m\u001b[0mget_loc\u001b[0m\u001b[1;33m(\u001b[0m\u001b[0mkey\u001b[0m\u001b[1;33m)\u001b[0m\u001b[1;33m\u001b[0m\u001b[0m\n\u001b[0;32m   2526\u001b[0m             \u001b[1;32mexcept\u001b[0m \u001b[0mKeyError\u001b[0m\u001b[1;33m:\u001b[0m\u001b[1;33m\u001b[0m\u001b[0m\n\u001b[1;32m-> 2527\u001b[1;33m                 \u001b[1;32mreturn\u001b[0m \u001b[0mself\u001b[0m\u001b[1;33m.\u001b[0m\u001b[0m_engine\u001b[0m\u001b[1;33m.\u001b[0m\u001b[0mget_loc\u001b[0m\u001b[1;33m(\u001b[0m\u001b[0mself\u001b[0m\u001b[1;33m.\u001b[0m\u001b[0m_maybe_cast_indexer\u001b[0m\u001b[1;33m(\u001b[0m\u001b[0mkey\u001b[0m\u001b[1;33m)\u001b[0m\u001b[1;33m)\u001b[0m\u001b[1;33m\u001b[0m\u001b[0m\n\u001b[0m\u001b[0;32m   2528\u001b[0m \u001b[1;33m\u001b[0m\u001b[0m\n\u001b[0;32m   2529\u001b[0m         \u001b[0mindexer\u001b[0m \u001b[1;33m=\u001b[0m \u001b[0mself\u001b[0m\u001b[1;33m.\u001b[0m\u001b[0mget_indexer\u001b[0m\u001b[1;33m(\u001b[0m\u001b[1;33m[\u001b[0m\u001b[0mkey\u001b[0m\u001b[1;33m]\u001b[0m\u001b[1;33m,\u001b[0m \u001b[0mmethod\u001b[0m\u001b[1;33m=\u001b[0m\u001b[0mmethod\u001b[0m\u001b[1;33m,\u001b[0m \u001b[0mtolerance\u001b[0m\u001b[1;33m=\u001b[0m\u001b[0mtolerance\u001b[0m\u001b[1;33m)\u001b[0m\u001b[1;33m\u001b[0m\u001b[0m\n",
      "\u001b[1;32mpandas/_libs/index.pyx\u001b[0m in \u001b[0;36mpandas._libs.index.IndexEngine.get_loc\u001b[1;34m()\u001b[0m\n",
      "\u001b[1;32mpandas/_libs/index.pyx\u001b[0m in \u001b[0;36mpandas._libs.index.IndexEngine.get_loc\u001b[1;34m()\u001b[0m\n",
      "\u001b[1;32mpandas/_libs/hashtable_class_helper.pxi\u001b[0m in \u001b[0;36mpandas._libs.hashtable.PyObjectHashTable.get_item\u001b[1;34m()\u001b[0m\n",
      "\u001b[1;32mpandas/_libs/hashtable_class_helper.pxi\u001b[0m in \u001b[0;36mpandas._libs.hashtable.PyObjectHashTable.get_item\u001b[1;34m()\u001b[0m\n",
      "\u001b[1;31mKeyError\u001b[0m: 'Class'"
     ]
    }
   ],
   "source": [
    "# merging gene, variance and text features\n",
    "\n",
    "# building train, test and cross validation data sets\n",
    "# a = [[1, 2], \n",
    "#      [3, 4]]\n",
    "# b = [[4, 5], \n",
    "#      [6, 7]]\n",
    "# hstack(a, b) = [[1, 2, 4, 5],\n",
    "#                [ 3, 4, 6, 7]]\n",
    "\n",
    "train_gene_var_onehotCoding = hstack((train_gene_feature_onehotCoding,train_variation_feature_onehotCoding))\n",
    "test_gene_var_onehotCoding = hstack((test_gene_feature_onehotCoding,test_variation_feature_onehotCoding))\n",
    "cv_gene_var_onehotCoding = hstack((cv_gene_feature_onehotCoding,cv_variation_feature_onehotCoding))\n",
    "\n",
    "train_x_onehotCoding = hstack((train_gene_var_onehotCoding, train_text_feature_onehotCoding)).tocsr()\n",
    "train_y = np.array(list(train_df['Class']))\n",
    "\n",
    "test_x_onehotCoding = hstack((test_gene_var_onehotCoding, test_text_feature_onehotCoding)).tocsr()\n",
    "test_y = np.array(list(test_df['Class']))\n",
    "\n",
    "cv_x_onehotCoding = hstack((cv_gene_var_onehotCoding, cv_text_feature_onehotCoding)).tocsr()\n",
    "cv_y = np.array(list(cv_df['Class']))\n",
    "\n",
    "\n",
    "train_gene_var_responseCoding = np.hstack((train_gene_feature_responseCoding,train_variation_feature_responseCoding))\n",
    "test_gene_var_responseCoding = np.hstack((test_gene_feature_responseCoding,test_variation_feature_responseCoding))\n",
    "cv_gene_var_responseCoding = np.hstack((cv_gene_feature_responseCoding,cv_variation_feature_responseCoding))\n",
    "\n",
    "train_x_responseCoding = np.hstack((train_gene_var_responseCoding, train_text_feature_responseCoding))\n",
    "test_x_responseCoding = np.hstack((test_gene_var_responseCoding, test_text_feature_responseCoding))\n",
    "cv_x_responseCoding = np.hstack((cv_gene_var_responseCoding, cv_text_feature_responseCoding))\n"
   ]
  },
  {
   "cell_type": "code",
   "execution_count": null,
   "metadata": {},
   "outputs": [],
   "source": [
    "type(train_x_onehotCoding)"
   ]
  },
  {
   "cell_type": "code",
   "execution_count": null,
   "metadata": {},
   "outputs": [],
   "source": [
    "print(\"One hot encoding features :\")\n",
    "print(\"(number of data points * number of features) in train data = \", train_x_onehotCoding.shape)\n",
    "print(\"(number of data points * number of features) in test data = \", test_x_onehotCoding.shape)\n",
    "print(\"(number of data points * number of features) in cross validation data =\", cv_x_onehotCoding.shape)"
   ]
  },
  {
   "cell_type": "code",
   "execution_count": null,
   "metadata": {},
   "outputs": [],
   "source": [
    "print(\" Response encoding features :\")\n",
    "print(\"(number of data points * number of features) in train data = \", train_x_responseCoding.shape)\n",
    "print(\"(number of data points * number of features) in test data = \", test_x_responseCoding.shape)\n",
    "print(\"(number of data points * number of features) in cross validation data =\", cv_x_responseCoding.shape)"
   ]
  },
  {
   "cell_type": "markdown",
   "metadata": {},
   "source": [
    "<h2>4.1. Base Line Model</h2>"
   ]
  },
  {
   "cell_type": "markdown",
   "metadata": {},
   "source": [
    "<h2>4.3. Logistic Regression</h2>"
   ]
  },
  {
   "cell_type": "markdown",
   "metadata": {},
   "source": [
    "<h3>4.3.1. With Class balancing</h3>"
   ]
  },
  {
   "cell_type": "markdown",
   "metadata": {},
   "source": [
    "<h4>4.3.1.1. Hyper paramter tuning</h4>"
   ]
  },
  {
   "cell_type": "code",
   "execution_count": null,
   "metadata": {
    "run_control": {
     "marked": true
    }
   },
   "outputs": [],
   "source": [
    "\n",
    "# read more about SGDClassifier() at http://scikit-learn.org/stable/modules/generated/sklearn.linear_model.SGDClassifier.html\n",
    "# ------------------------------\n",
    "# default parameters\n",
    "# SGDClassifier(loss=’hinge’, penalty=’l2’, alpha=0.0001, l1_ratio=0.15, fit_intercept=True, max_iter=None, tol=None, \n",
    "# shuffle=True, verbose=0, epsilon=0.1, n_jobs=1, random_state=None, learning_rate=’optimal’, eta0=0.0, power_t=0.5, \n",
    "# class_weight=None, warm_start=False, average=False, n_iter=None)\n",
    "\n",
    "# some of methods\n",
    "# fit(X, y[, coef_init, intercept_init, …])\tFit linear model with Stochastic Gradient Descent.\n",
    "# predict(X)\tPredict class labels for samples in X.\n",
    "\n",
    "#-------------------------------\n",
    "# video link: https://www.appliedaicourse.com/course/applied-ai-course-online/lessons/geometric-intuition-1/\n",
    "#------------------------------\n",
    "\n",
    "\n",
    "# find more about CalibratedClassifierCV here at http://scikit-learn.org/stable/modules/generated/sklearn.calibration.CalibratedClassifierCV.html\n",
    "# ----------------------------\n",
    "# default paramters\n",
    "# sklearn.calibration.CalibratedClassifierCV(base_estimator=None, method=’sigmoid’, cv=3)\n",
    "#\n",
    "# some of the methods of CalibratedClassifierCV()\n",
    "# fit(X, y[, sample_weight])\tFit the calibrated model\n",
    "# get_params([deep])\tGet parameters for this estimator.\n",
    "# predict(X)\tPredict the target of new samples.\n",
    "# predict_proba(X)\tPosterior probabilities of classification\n",
    "#-------------------------------------\n",
    "# video link:\n",
    "#-------------------------------------\n",
    "\n",
    "alpha = [10 ** x for x in range(-6, 3)]\n",
    "cv_log_error_array = []\n",
    "for i in alpha:\n",
    "    print(\"for alpha =\", i)\n",
    "    clf = SGDClassifier(class_weight='balanced', alpha=i, penalty='l2', loss='log', random_state=42)\n",
    "    clf.fit(train_x_onehotCoding, train_y)\n",
    "    sig_clf = CalibratedClassifierCV(clf, method=\"sigmoid\")\n",
    "    sig_clf.fit(train_x_onehotCoding, train_y)\n",
    "    sig_clf_probs = sig_clf.predict_proba(cv_x_onehotCoding)\n",
    "    cv_log_error_array.append(log_loss(cv_y, sig_clf_probs, labels=clf.classes_, eps=1e-15))\n",
    "    # to avoid rounding error while multiplying probabilites we use log-probability estimates\n",
    "    print(\"Log Loss :\",log_loss(cv_y, sig_clf_probs)) \n",
    "\n",
    "fig, ax = plt.subplots()\n",
    "ax.plot(alpha, cv_log_error_array,c='g')\n",
    "for i, txt in enumerate(np.round(cv_log_error_array,3)):\n",
    "    ax.annotate((alpha[i],str(txt)), (alpha[i],cv_log_error_array[i]))\n",
    "plt.grid()\n",
    "plt.title(\"Cross Validation Error for each alpha\")\n",
    "plt.xlabel(\"Alpha i's\")\n",
    "plt.ylabel(\"Error measure\")\n",
    "plt.show()\n",
    "\n",
    "\n",
    "best_alpha = np.argmin(cv_log_error_array)\n",
    "clf = SGDClassifier(class_weight='balanced', alpha=alpha[best_alpha], penalty='l2', loss='log', random_state=42)\n",
    "clf.fit(train_x_onehotCoding, train_y)\n",
    "sig_clf = CalibratedClassifierCV(clf, method=\"sigmoid\")\n",
    "sig_clf.fit(train_x_onehotCoding, train_y)\n",
    "\n",
    "predict_y = sig_clf.predict_proba(train_x_onehotCoding)\n",
    "print('For values of best alpha = ', alpha[best_alpha], \"The train log loss is:\",log_loss(y_train, predict_y, labels=clf.classes_, eps=1e-15))\n",
    "predict_y = sig_clf.predict_proba(cv_x_onehotCoding)\n",
    "print('For values of best alpha = ', alpha[best_alpha], \"The cross validation log loss is:\",log_loss(y_cv, predict_y, labels=clf.classes_, eps=1e-15))\n",
    "predict_y = sig_clf.predict_proba(test_x_onehotCoding)\n",
    "print('For values of best alpha = ', alpha[best_alpha], \"The test log loss is:\",log_loss(y_test, predict_y, labels=clf.classes_, eps=1e-15))"
   ]
  },
  {
   "cell_type": "markdown",
   "metadata": {},
   "source": [
    "<h4>4.3.1.2. Testing the model with best hyper paramters</h4>"
   ]
  },
  {
   "cell_type": "code",
   "execution_count": null,
   "metadata": {
    "scrolled": false
   },
   "outputs": [],
   "source": [
    "# read more about SGDClassifier() at http://scikit-learn.org/stable/modules/generated/sklearn.linear_model.SGDClassifier.html\n",
    "# ------------------------------\n",
    "# default parameters\n",
    "# SGDClassifier(loss=’hinge’, penalty=’l2’, alpha=0.0001, l1_ratio=0.15, fit_intercept=True, max_iter=None, tol=None, \n",
    "# shuffle=True, verbose=0, epsilon=0.1, n_jobs=1, random_state=None, learning_rate=’optimal’, eta0=0.0, power_t=0.5, \n",
    "# class_weight=None, warm_start=False, average=False, n_iter=None)\n",
    "\n",
    "# some of methods\n",
    "# fit(X, y[, coef_init, intercept_init, …])\tFit linear model with Stochastic Gradient Descent.\n",
    "# predict(X)\tPredict class labels for samples in X.\n",
    "\n",
    "#-------------------------------\n",
    "# video link: https://www.appliedaicourse.com/course/applied-ai-course-online/lessons/geometric-intuition-1/\n",
    "#------------------------------\n",
    "clf = SGDClassifier(class_weight='balanced', alpha=alpha[best_alpha], penalty='l2', loss='log', random_state=42)\n",
    "predict_and_plot_confusion_matrix(train_x_onehotCoding, train_y, cv_x_onehotCoding, cv_y, clf)"
   ]
  },
  {
   "cell_type": "markdown",
   "metadata": {},
   "source": [
    "<h4>4.3.1.3. Feature Importance</h4>"
   ]
  },
  {
   "cell_type": "code",
   "execution_count": null,
   "metadata": {},
   "outputs": [],
   "source": [
    "def get_imp_feature_names(text, indices, removed_ind = []):\n",
    "    word_present = 0\n",
    "    tabulte_list = []\n",
    "    incresingorder_ind = 0\n",
    "    for i in indices:\n",
    "        if i < train_gene_feature_onehotCoding.shape[1]:\n",
    "            tabulte_list.append([incresingorder_ind, \"Gene\", \"Yes\"])\n",
    "        elif i< 18:\n",
    "            tabulte_list.append([incresingorder_ind,\"Variation\", \"Yes\"])\n",
    "        if ((i > 17) & (i not in removed_ind)) :\n",
    "            word = train_text_features[i]\n",
    "            yes_no = True if word in text.split() else False\n",
    "            if yes_no:\n",
    "                word_present += 1\n",
    "            tabulte_list.append([incresingorder_ind,train_text_features[i], yes_no])\n",
    "        incresingorder_ind += 1\n",
    "    print(word_present, \"most importent features are present in our query point\")\n",
    "    print(\"-\"*50)\n",
    "    print(\"The features that are most importent of the \",predicted_cls[0],\" class:\")\n",
    "    print (tabulate(tabulte_list, headers=[\"Index\",'Feature name', 'Present or Not']))"
   ]
  },
  {
   "cell_type": "markdown",
   "metadata": {},
   "source": [
    "<h5>4.3.1.3.1. Correctly Classified point</h5>"
   ]
  },
  {
   "cell_type": "code",
   "execution_count": null,
   "metadata": {
    "scrolled": false
   },
   "outputs": [],
   "source": [
    "# from tabulate import tabulate\n",
    "clf = SGDClassifier(class_weight='balanced', alpha=alpha[best_alpha], penalty='l2', loss='log', random_state=42)\n",
    "clf.fit(train_x_onehotCoding,train_y)\n",
    "test_point_index = 1\n",
    "no_feature = 500\n",
    "predicted_cls = sig_clf.predict(test_x_onehotCoding[test_point_index])\n",
    "print(\"Predicted Class :\", predicted_cls[0])\n",
    "print(\"Predicted Class Probabilities:\", np.round(sig_clf.predict_proba(test_x_onehotCoding[test_point_index]),4))\n",
    "print(\"Actual Class :\", test_y[test_point_index])\n",
    "indices = np.argsort(-clf.coef_)[predicted_cls-1][:,:no_feature]\n",
    "print(\"-\"*50)\n",
    "get_impfeature_names(indices[0], test_df['TEXT'].iloc[test_point_index],test_df['Gene'].iloc[test_point_index],test_df['Variation'].iloc[test_point_index], no_feature)"
   ]
  },
  {
   "cell_type": "markdown",
   "metadata": {},
   "source": [
    "<h5>4.3.1.3.2. Incorrectly Classified point</h5>"
   ]
  },
  {
   "cell_type": "code",
   "execution_count": null,
   "metadata": {},
   "outputs": [],
   "source": [
    "test_point_index = 100\n",
    "no_feature = 500\n",
    "predicted_cls = sig_clf.predict(test_x_onehotCoding[test_point_index])\n",
    "print(\"Predicted Class :\", predicted_cls[0])\n",
    "print(\"Predicted Class Probabilities:\", np.round(sig_clf.predict_proba(test_x_onehotCoding[test_point_index]),4))\n",
    "print(\"Actual Class :\", test_y[test_point_index])\n",
    "indices = np.argsort(-clf.coef_)[predicted_cls-1][:,:no_feature]\n",
    "print(\"-\"*50)\n",
    "get_impfeature_names(indices[0], test_df['TEXT'].iloc[test_point_index],test_df['Gene'].iloc[test_point_index],test_df['Variation'].iloc[test_point_index], no_feature)"
   ]
  },
  {
   "cell_type": "markdown",
   "metadata": {},
   "source": [
    "<h3>4.3.2. Without Class balancing</h3>"
   ]
  },
  {
   "cell_type": "markdown",
   "metadata": {},
   "source": [
    "<h4>4.3.2.1. Hyper paramter tuning</h4>"
   ]
  },
  {
   "cell_type": "code",
   "execution_count": null,
   "metadata": {},
   "outputs": [],
   "source": [
    "# read more about SGDClassifier() at http://scikit-learn.org/stable/modules/generated/sklearn.linear_model.SGDClassifier.html\n",
    "# ------------------------------\n",
    "# default parameters\n",
    "# SGDClassifier(loss=’hinge’, penalty=’l2’, alpha=0.0001, l1_ratio=0.15, fit_intercept=True, max_iter=None, tol=None, \n",
    "# shuffle=True, verbose=0, epsilon=0.1, n_jobs=1, random_state=None, learning_rate=’optimal’, eta0=0.0, power_t=0.5, \n",
    "# class_weight=None, warm_start=False, average=False, n_iter=None)\n",
    "\n",
    "# some of methods\n",
    "# fit(X, y[, coef_init, intercept_init, …])\tFit linear model with Stochastic Gradient Descent.\n",
    "# predict(X)\tPredict class labels for samples in X.\n",
    "\n",
    "#-------------------------------\n",
    "# video link: https://www.appliedaicourse.com/course/applied-ai-course-online/lessons/geometric-intuition-1/\n",
    "#------------------------------\n",
    "\n",
    "\n",
    "\n",
    "# find more about CalibratedClassifierCV here at http://scikit-learn.org/stable/modules/generated/sklearn.calibration.CalibratedClassifierCV.html\n",
    "# ----------------------------\n",
    "# default paramters\n",
    "# sklearn.calibration.CalibratedClassifierCV(base_estimator=None, method=’sigmoid’, cv=3)\n",
    "#\n",
    "# some of the methods of CalibratedClassifierCV()\n",
    "# fit(X, y[, sample_weight])\tFit the calibrated model\n",
    "# get_params([deep])\tGet parameters for this estimator.\n",
    "# predict(X)\tPredict the target of new samples.\n",
    "# predict_proba(X)\tPosterior probabilities of classification\n",
    "#-------------------------------------\n",
    "# video link:\n",
    "#-------------------------------------\n",
    "\n",
    "alpha = [10 ** x for x in range(-6, 1)]\n",
    "cv_log_error_array = []\n",
    "for i in alpha:\n",
    "    print(\"for alpha =\", i)\n",
    "    clf = SGDClassifier(alpha=i, penalty='l2', loss='log', random_state=42)\n",
    "    clf.fit(train_x_onehotCoding, train_y)\n",
    "    sig_clf = CalibratedClassifierCV(clf, method=\"sigmoid\")\n",
    "    sig_clf.fit(train_x_onehotCoding, train_y)\n",
    "    sig_clf_probs = sig_clf.predict_proba(cv_x_onehotCoding)\n",
    "    cv_log_error_array.append(log_loss(cv_y, sig_clf_probs, labels=clf.classes_, eps=1e-15))\n",
    "    print(\"Log Loss :\",log_loss(cv_y, sig_clf_probs)) \n",
    "\n",
    "fig, ax = plt.subplots()\n",
    "ax.plot(alpha, cv_log_error_array,c='g')\n",
    "for i, txt in enumerate(np.round(cv_log_error_array,3)):\n",
    "    ax.annotate((alpha[i],str(txt)), (alpha[i],cv_log_error_array[i]))\n",
    "plt.grid()\n",
    "plt.title(\"Cross Validation Error for each alpha\")\n",
    "plt.xlabel(\"Alpha i's\")\n",
    "plt.ylabel(\"Error measure\")\n",
    "plt.show()\n",
    "\n",
    "\n",
    "best_alpha = np.argmin(cv_log_error_array)\n",
    "clf = SGDClassifier(alpha=alpha[best_alpha], penalty='l2', loss='log', random_state=42)\n",
    "clf.fit(train_x_onehotCoding, train_y)\n",
    "sig_clf = CalibratedClassifierCV(clf, method=\"sigmoid\")\n",
    "sig_clf.fit(train_x_onehotCoding, train_y)\n",
    "\n",
    "predict_y = sig_clf.predict_proba(train_x_onehotCoding)\n",
    "print('For values of best alpha = ', alpha[best_alpha], \"The train log loss is:\",log_loss(y_train, predict_y, labels=clf.classes_, eps=1e-15))\n",
    "predict_y = sig_clf.predict_proba(cv_x_onehotCoding)\n",
    "print('For values of best alpha = ', alpha[best_alpha], \"The cross validation log loss is:\",log_loss(y_cv, predict_y, labels=clf.classes_, eps=1e-15))\n",
    "predict_y = sig_clf.predict_proba(test_x_onehotCoding)\n",
    "print('For values of best alpha = ', alpha[best_alpha], \"The test log loss is:\",log_loss(y_test, predict_y, labels=clf.classes_, eps=1e-15))"
   ]
  },
  {
   "cell_type": "markdown",
   "metadata": {},
   "source": [
    "<h4>4.3.2.2. Testing model with best hyper parameters</h4>"
   ]
  },
  {
   "cell_type": "code",
   "execution_count": null,
   "metadata": {},
   "outputs": [],
   "source": [
    "# read more about SGDClassifier() at http://scikit-learn.org/stable/modules/generated/sklearn.linear_model.SGDClassifier.html\n",
    "# ------------------------------\n",
    "# default parameters\n",
    "# SGDClassifier(loss=’hinge’, penalty=’l2’, alpha=0.0001, l1_ratio=0.15, fit_intercept=True, max_iter=None, tol=None, \n",
    "# shuffle=True, verbose=0, epsilon=0.1, n_jobs=1, random_state=None, learning_rate=’optimal’, eta0=0.0, power_t=0.5, \n",
    "# class_weight=None, warm_start=False, average=False, n_iter=None)\n",
    "\n",
    "# some of methods\n",
    "# fit(X, y[, coef_init, intercept_init, …])\tFit linear model with Stochastic Gradient Descent.\n",
    "# predict(X)\tPredict class labels for samples in X.\n",
    "\n",
    "#-------------------------------\n",
    "# video link: \n",
    "#------------------------------\n",
    "\n",
    "clf = SGDClassifier(alpha=alpha[best_alpha], penalty='l2', loss='log', random_state=42)\n",
    "predict_and_plot_confusion_matrix(train_x_onehotCoding, train_y, cv_x_onehotCoding, cv_y, clf)"
   ]
  },
  {
   "cell_type": "markdown",
   "metadata": {},
   "source": [
    "<h4>4.3.2.3. Feature Importance, Correctly Classified point</h4>"
   ]
  },
  {
   "cell_type": "code",
   "execution_count": null,
   "metadata": {
    "scrolled": true
   },
   "outputs": [],
   "source": [
    "clf = SGDClassifier(alpha=alpha[best_alpha], penalty='l2', loss='log', random_state=42)\n",
    "clf.fit(train_x_onehotCoding,train_y)\n",
    "test_point_index = 1\n",
    "no_feature = 500\n",
    "predicted_cls = sig_clf.predict(test_x_onehotCoding[test_point_index])\n",
    "print(\"Predicted Class :\", predicted_cls[0])\n",
    "print(\"Predicted Class Probabilities:\", np.round(sig_clf.predict_proba(test_x_onehotCoding[test_point_index]),4))\n",
    "print(\"Actual Class :\", test_y[test_point_index])\n",
    "indices = np.argsort(-clf.coef_)[predicted_cls-1][:,:no_feature]\n",
    "print(\"-\"*50)\n",
    "get_impfeature_names(indices[0], test_df['TEXT'].iloc[test_point_index],test_df['Gene'].iloc[test_point_index],test_df['Variation'].iloc[test_point_index], no_feature)"
   ]
  },
  {
   "cell_type": "markdown",
   "metadata": {},
   "source": [
    "<h4>4.3.2.4. Feature Importance, Inorrectly Classified point</h4>"
   ]
  },
  {
   "cell_type": "code",
   "execution_count": null,
   "metadata": {
    "run_control": {
     "marked": true
    },
    "scrolled": true
   },
   "outputs": [],
   "source": [
    "test_point_index = 100\n",
    "no_feature = 500\n",
    "predicted_cls = sig_clf.predict(test_x_onehotCoding[test_point_index])\n",
    "print(\"Predicted Class :\", predicted_cls[0])\n",
    "print(\"Predicted Class Probabilities:\", np.round(sig_clf.predict_proba(test_x_onehotCoding[test_point_index]),4))\n",
    "print(\"Actual Class :\", test_y[test_point_index])\n",
    "indices = np.argsort(-clf.coef_)[predicted_cls-1][:,:no_feature]\n",
    "print(\"-\"*50)\n",
    "get_impfeature_names(indices[0], test_df['TEXT'].iloc[test_point_index],test_df['Gene'].iloc[test_point_index],test_df['Variation'].iloc[test_point_index], no_feature)"
   ]
  },
  {
   "cell_type": "markdown",
   "metadata": {},
   "source": [
    "<h1>5. Assignments</h1>"
   ]
  },
  {
   "cell_type": "markdown",
   "metadata": {},
   "source": [
    "<ol>\n",
    "    <li> Apply All the models with tf-idf features (Replace CountVectorizer with tfidfVectorizer and run the same cells)</li>\n",
    "    <li> Instead of using all the words in the dataset, use only the top 1000 words based of tf-idf values</li>\n",
    "    <li>Apply Logistic regression with CountVectorizer Features, including both unigrams and bigrams</li>\n",
    "    <li> Try any of the feature engineering techniques discussed in the course to reduce the CV and test log-loss to a value less than 1.0</li>\n",
    "</ol>"
   ]
  },
  {
   "cell_type": "code",
   "execution_count": null,
   "metadata": {},
   "outputs": [],
   "source": []
  },
  {
   "cell_type": "markdown",
   "metadata": {},
   "source": [
    "                                                "
   ]
  }
 ],
 "metadata": {
  "kernelspec": {
   "display_name": "Python 3",
   "language": "python",
   "name": "python3"
  },
  "language_info": {
   "codemirror_mode": {
    "name": "ipython",
    "version": 3
   },
   "file_extension": ".py",
   "mimetype": "text/x-python",
   "name": "python",
   "nbconvert_exporter": "python",
   "pygments_lexer": "ipython3",
   "version": "3.6.4"
  },
  "toc": {
   "base_numbering": 1,
   "nav_menu": {},
   "number_sections": true,
   "sideBar": true,
   "skip_h1_title": false,
   "title_cell": "Table of Contents",
   "title_sidebar": "Contents",
   "toc_cell": false,
   "toc_position": {
    "height": "calc(100% - 180px)",
    "left": "10px",
    "top": "150px",
    "width": "307.2px"
   },
   "toc_section_display": true,
   "toc_window_display": true
  }
 },
 "nbformat": 4,
 "nbformat_minor": 2
}
